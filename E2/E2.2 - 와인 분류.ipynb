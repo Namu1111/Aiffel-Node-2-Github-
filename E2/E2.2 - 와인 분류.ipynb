{
 "cells": [
  {
   "cell_type": "markdown",
   "id": "decreased-breakfast",
   "metadata": {},
   "source": [
    "# E2.2 - 와인 분류"
   ]
  },
  {
   "cell_type": "markdown",
   "id": "rubber-lawyer",
   "metadata": {},
   "source": [
    "### (1) 필요한 모듈 import하기"
   ]
  },
  {
   "cell_type": "code",
   "execution_count": 2,
   "id": "young-custom",
   "metadata": {},
   "outputs": [],
   "source": [
    "from sklearn.datasets import load_wine\n",
    "from sklearn.model_selection import train_test_split\n",
    "from sklearn.metrics import classification_report\n",
    "import numpy as np"
   ]
  },
  {
   "cell_type": "markdown",
   "id": "electoral-gates",
   "metadata": {},
   "source": [
    "### (2) 데이터 준비"
   ]
  },
  {
   "cell_type": "code",
   "execution_count": 3,
   "id": "natural-brand",
   "metadata": {},
   "outputs": [],
   "source": [
    "wine = load_wine()"
   ]
  },
  {
   "cell_type": "markdown",
   "id": "standing-dominant",
   "metadata": {},
   "source": [
    "### (3) 데이터 이해하기"
   ]
  },
  {
   "cell_type": "markdown",
   "id": "statutory-norwegian",
   "metadata": {},
   "source": [
    "* Feature Data 지정하기\n",
    "* Label Data 지정하기\n",
    "* Target Names 출력해 보기\n",
    "* 데이터 Describe 해 보기"
   ]
  },
  {
   "cell_type": "code",
   "execution_count": 4,
   "id": "compressed-civilian",
   "metadata": {},
   "outputs": [
    {
     "name": "stdout",
     "output_type": "stream",
     "text": [
      "['DESCR', 'data', 'feature_names', 'frame', 'target', 'target_names']\n"
     ]
    }
   ],
   "source": [
    "# 데이터 이해하기 \n",
    "print(dir(wine))"
   ]
  },
  {
   "cell_type": "code",
   "execution_count": 5,
   "id": "excellent-italic",
   "metadata": {},
   "outputs": [
    {
     "name": "stdout",
     "output_type": "stream",
     "text": [
      "['class_0' 'class_1' 'class_2']\n"
     ]
    },
    {
     "data": {
      "text/plain": [
       "array([0, 1, 2])"
      ]
     },
     "execution_count": 5,
     "metadata": {},
     "output_type": "execute_result"
    }
   ],
   "source": [
    "# target 이해하기  - label 이름은 class 0, 1, 2 3이고 그에 따른 target value는 0,1,2로 나뉜다. \n",
    "print(wine.target_names)\n",
    "np.unique(wine.target)"
   ]
  },
  {
   "cell_type": "code",
   "execution_count": 6,
   "id": "phantom-jumping",
   "metadata": {},
   "outputs": [
    {
     "data": {
      "text/plain": [
       "'.. _wine_dataset:\\n\\nWine recognition dataset\\n------------------------\\n\\n**Data Set Characteristics:**\\n\\n    :Number of Instances: 178 (50 in each of three classes)\\n    :Number of Attributes: 13 numeric, predictive attributes and the class\\n    :Attribute Information:\\n \\t\\t- Alcohol\\n \\t\\t- Malic acid\\n \\t\\t- Ash\\n\\t\\t- Alcalinity of ash  \\n \\t\\t- Magnesium\\n\\t\\t- Total phenols\\n \\t\\t- Flavanoids\\n \\t\\t- Nonflavanoid phenols\\n \\t\\t- Proanthocyanins\\n\\t\\t- Color intensity\\n \\t\\t- Hue\\n \\t\\t- OD280/OD315 of diluted wines\\n \\t\\t- Proline\\n\\n    - class:\\n            - class_0\\n            - class_1\\n            - class_2\\n\\t\\t\\n    :Summary Statistics:\\n    \\n    ============================= ==== ===== ======= =====\\n                                   Min   Max   Mean     SD\\n    ============================= ==== ===== ======= =====\\n    Alcohol:                      11.0  14.8    13.0   0.8\\n    Malic Acid:                   0.74  5.80    2.34  1.12\\n    Ash:                          1.36  3.23    2.36  0.27\\n    Alcalinity of Ash:            10.6  30.0    19.5   3.3\\n    Magnesium:                    70.0 162.0    99.7  14.3\\n    Total Phenols:                0.98  3.88    2.29  0.63\\n    Flavanoids:                   0.34  5.08    2.03  1.00\\n    Nonflavanoid Phenols:         0.13  0.66    0.36  0.12\\n    Proanthocyanins:              0.41  3.58    1.59  0.57\\n    Colour Intensity:              1.3  13.0     5.1   2.3\\n    Hue:                          0.48  1.71    0.96  0.23\\n    OD280/OD315 of diluted wines: 1.27  4.00    2.61  0.71\\n    Proline:                       278  1680     746   315\\n    ============================= ==== ===== ======= =====\\n\\n    :Missing Attribute Values: None\\n    :Class Distribution: class_0 (59), class_1 (71), class_2 (48)\\n    :Creator: R.A. Fisher\\n    :Donor: Michael Marshall (MARSHALL%PLU@io.arc.nasa.gov)\\n    :Date: July, 1988\\n\\nThis is a copy of UCI ML Wine recognition datasets.\\nhttps://archive.ics.uci.edu/ml/machine-learning-databases/wine/wine.data\\n\\nThe data is the results of a chemical analysis of wines grown in the same\\nregion in Italy by three different cultivators. There are thirteen different\\nmeasurements taken for different constituents found in the three types of\\nwine.\\n\\nOriginal Owners: \\n\\nForina, M. et al, PARVUS - \\nAn Extendible Package for Data Exploration, Classification and Correlation. \\nInstitute of Pharmaceutical and Food Analysis and Technologies,\\nVia Brigata Salerno, 16147 Genoa, Italy.\\n\\nCitation:\\n\\nLichman, M. (2013). UCI Machine Learning Repository\\n[https://archive.ics.uci.edu/ml]. Irvine, CA: University of California,\\nSchool of Information and Computer Science. \\n\\n.. topic:: References\\n\\n  (1) S. Aeberhard, D. Coomans and O. de Vel, \\n  Comparison of Classifiers in High Dimensional Settings, \\n  Tech. Rep. no. 92-02, (1992), Dept. of Computer Science and Dept. of  \\n  Mathematics and Statistics, James Cook University of North Queensland. \\n  (Also submitted to Technometrics). \\n\\n  The data was used with many others for comparing various \\n  classifiers. The classes are separable, though only RDA \\n  has achieved 100% correct classification. \\n  (RDA : 100%, QDA 99.4%, LDA 98.9%, 1NN 96.1% (z-transformed data)) \\n  (All results using the leave-one-out technique) \\n\\n  (2) S. Aeberhard, D. Coomans and O. de Vel, \\n  \"THE CLASSIFICATION PERFORMANCE OF RDA\" \\n  Tech. Rep. no. 92-01, (1992), Dept. of Computer Science and Dept. of \\n  Mathematics and Statistics, James Cook University of North Queensland. \\n  (Also submitted to Journal of Chemometrics).\\n'"
      ]
     },
     "execution_count": 6,
     "metadata": {},
     "output_type": "execute_result"
    }
   ],
   "source": [
    "# wine data description\n",
    "wine.DESCR"
   ]
  },
  {
   "cell_type": "code",
   "execution_count": 7,
   "id": "original-sigma",
   "metadata": {},
   "outputs": [],
   "source": [
    "# label 지정하기 \n",
    "wine_label = wine.target "
   ]
  },
  {
   "cell_type": "code",
   "execution_count": 8,
   "id": "median-player",
   "metadata": {},
   "outputs": [],
   "source": [
    "# data 지정하기 \n",
    "wine_data = wine.data"
   ]
  },
  {
   "cell_type": "code",
   "execution_count": 9,
   "id": "attached-mailman",
   "metadata": {},
   "outputs": [
    {
     "name": "stdout",
     "output_type": "stream",
     "text": [
      "(178, 13)\n",
      "['alcohol', 'malic_acid', 'ash', 'alcalinity_of_ash', 'magnesium', 'total_phenols', 'flavanoids', 'nonflavanoid_phenols', 'proanthocyanins', 'color_intensity', 'hue', 'od280/od315_of_diluted_wines', 'proline']\n"
     ]
    }
   ],
   "source": [
    "print(wine_data.shape) # 와인은 178개가 있고 feature 는 13개다. \n",
    "print(wine.feature_names) # feature 종류"
   ]
  },
  {
   "cell_type": "markdown",
   "id": "driven-energy",
   "metadata": {},
   "source": [
    "### (4) train, test 데이터 분리"
   ]
  },
  {
   "cell_type": "code",
   "execution_count": 10,
   "id": "designed-anthropology",
   "metadata": {},
   "outputs": [],
   "source": [
    "# test size = 20% \n",
    "X_train, X_test, y_train, y_test = train_test_split(wine_data, wine_label, test_size=0.2, random_state=7)"
   ]
  },
  {
   "cell_type": "markdown",
   "id": "efficient-nickel",
   "metadata": {},
   "source": [
    "### (5) 다양한 모델로 학습시켜보기"
   ]
  },
  {
   "cell_type": "markdown",
   "id": "continued-focus",
   "metadata": {},
   "source": [
    "아래와 같은 모델 사용해 보기\n",
    "\n",
    "* Decision Tree\n",
    "* Random Forest\n",
    "* SVM\n",
    "* SGD Classifier\n",
    "* Logistic Regression"
   ]
  },
  {
   "cell_type": "markdown",
   "id": "pretty-bidding",
   "metadata": {},
   "source": [
    "### (5)(a) Decision Tree "
   ]
  },
  {
   "cell_type": "code",
   "execution_count": 11,
   "id": "royal-blackjack",
   "metadata": {},
   "outputs": [],
   "source": [
    "from sklearn.tree import DecisionTreeClassifier\n",
    "\n",
    "# wine_dt 변수 만들어 주기 \n",
    "wine_dt = DecisionTreeClassifier(random_state=32)\n",
    "\n",
    "# model fitting\n",
    "wine_dt.fit(X_train, y_train)\n",
    "\n",
    "# y predict 만들어주기 \n",
    "y_pred_dt = wine_dt.predict(X_test)\n"
   ]
  },
  {
   "cell_type": "markdown",
   "id": "express-offer",
   "metadata": {},
   "source": [
    "### (5)(b) Random Forest "
   ]
  },
  {
   "cell_type": "code",
   "execution_count": 12,
   "id": "absolute-equivalent",
   "metadata": {},
   "outputs": [],
   "source": [
    "from sklearn.ensemble import RandomForestClassifier\n",
    "\n",
    "# wine_rf 변수 만들어 주기 \n",
    "wine_rf = RandomForestClassifier(random_state=32)\n",
    "\n",
    "# model fitting\n",
    "wine_rf.fit(X_train, y_train)\n",
    "\n",
    "# y predict 만들어주기 \n",
    "y_pred_rf = wine_rf.predict(X_test)\n"
   ]
  },
  {
   "cell_type": "markdown",
   "id": "related-jerusalem",
   "metadata": {},
   "source": [
    "### (5)(c) SVM"
   ]
  },
  {
   "cell_type": "code",
   "execution_count": 13,
   "id": "minute-corporation",
   "metadata": {},
   "outputs": [],
   "source": [
    "from sklearn import svm\n",
    "\n",
    "# wine_svm 변수 만들어 주기 \n",
    "wine_svm = svm.SVC()\n",
    "\n",
    "# model fitting\n",
    "wine_svm.fit(X_train, y_train)\n",
    "\n",
    "# y predict 만들어주기 \n",
    "y_pred_svm = wine_svm.predict(X_test)\n"
   ]
  },
  {
   "cell_type": "markdown",
   "id": "mounted-nerve",
   "metadata": {},
   "source": [
    "### (5)(d) SGD Classifier"
   ]
  },
  {
   "cell_type": "code",
   "execution_count": 14,
   "id": "balanced-wireless",
   "metadata": {},
   "outputs": [],
   "source": [
    "from sklearn.linear_model import SGDClassifier\n",
    "\n",
    "# wine_sgd 변수 만들어 주기 \n",
    "wine_sgd = SGDClassifier()\n",
    "\n",
    "# model fitting\n",
    "wine_sgd.fit(X_train, y_train)\n",
    "\n",
    "# y predict 만들어주기 \n",
    "y_pred_sgd = wine_sgd.predict(X_test)"
   ]
  },
  {
   "cell_type": "markdown",
   "id": "dedicated-lighter",
   "metadata": {},
   "source": [
    "### (5)(e) Logistic Regression"
   ]
  },
  {
   "cell_type": "code",
   "execution_count": 15,
   "id": "durable-pension",
   "metadata": {},
   "outputs": [],
   "source": [
    "from sklearn.linear_model import LogisticRegression\n",
    "\n",
    "# wine lr 변수 만들어 주기. max_iter 을 붙이지 않았을때 에러가 나서 첨부했다.\n",
    "wine_lr = LogisticRegression(max_iter=5000) \n",
    "\n",
    "# model fitting\n",
    "wine_lr.fit(X_train, y_train)\n",
    "\n",
    "# y predict 만들어주기 \n",
    "y_pred_lr = wine_lr.predict(X_test)"
   ]
  },
  {
   "cell_type": "markdown",
   "id": "worth-appeal",
   "metadata": {},
   "source": [
    "### (6) 모델을 평가해 보기"
   ]
  },
  {
   "cell_type": "markdown",
   "id": "resistant-thailand",
   "metadata": {},
   "source": [
    "1. Wine data descr에 따르면 lable의 distribution은 다음과 같다 - class_0 (59), class_1 (71), class_2 (48). 데이터가 한쪽으로 편향 되지 않고 비교적 고르게 분포 되어있다. 그러므로 accuracy score를 사용해서 모델을 평가해도 괜찮을 것 같다.  \n",
    "2. 모델별 accuracy score 는 다음과 같다. \n",
    "    model| accuracy_score\n",
    "    ---|---\n",
    "    decision tree| 0.94\n",
    "    random forest| 1\n",
    "    svm | 0.61\n",
    "    sgd | 0.55\n",
    "    logistic regression | 0.97  \n",
    "3. **결론: accuracy score를 기준으로 random forest가 1로 정확도가 가장 높으며 와인분류에 적합한 모델인것 같다.** 다만, logistic regression 모델도 97%의 높은 정확도를 가지고 있으므로 고려해 볼만 하다. \n"
   ]
  },
  {
   "cell_type": "code",
   "execution_count": 16,
   "id": "accurate-strain",
   "metadata": {},
   "outputs": [],
   "source": [
    "# 필요한 모듈 설치\n",
    "from sklearn.metrics import accuracy_score "
   ]
  },
  {
   "cell_type": "code",
   "execution_count": 17,
   "id": "demographic-bibliography",
   "metadata": {},
   "outputs": [
    {
     "name": "stdout",
     "output_type": "stream",
     "text": [
      "Decision Tree: \n",
      "0.9444444444444444\n"
     ]
    }
   ],
   "source": [
    "# (5)(a) Decision Tree \n",
    "print(\"Decision Tree: \")\n",
    "print(accuracy_score(y_test, y_pred_dt))"
   ]
  },
  {
   "cell_type": "code",
   "execution_count": 18,
   "id": "labeled-elements",
   "metadata": {},
   "outputs": [
    {
     "name": "stdout",
     "output_type": "stream",
     "text": [
      "Random Forest: \n",
      "1.0\n"
     ]
    }
   ],
   "source": [
    "# (5)(b) Random Forest \n",
    "print(\"Random Forest: \")\n",
    "print(accuracy_score(y_test, y_pred_rf))"
   ]
  },
  {
   "cell_type": "code",
   "execution_count": 19,
   "id": "iraqi-morrison",
   "metadata": {},
   "outputs": [
    {
     "name": "stdout",
     "output_type": "stream",
     "text": [
      "SVM: \n",
      "0.6111111111111112\n"
     ]
    }
   ],
   "source": [
    "# (5)(c) SVM\n",
    "print(\"SVM: \")\n",
    "print(accuracy_score(y_test, y_pred_svm))"
   ]
  },
  {
   "cell_type": "code",
   "execution_count": 21,
   "id": "controversial-worst",
   "metadata": {},
   "outputs": [
    {
     "name": "stdout",
     "output_type": "stream",
     "text": [
      "SGD: \n",
      "0.5555555555555556\n"
     ]
    }
   ],
   "source": [
    "# (5)(d) SGD classification report 방식 \n",
    "print(\"SGD: \")\n",
    "print(accuracy_score(y_test, y_pred_sgd))"
   ]
  },
  {
   "cell_type": "code",
   "execution_count": 22,
   "id": "indirect-showcase",
   "metadata": {},
   "outputs": [
    {
     "name": "stdout",
     "output_type": "stream",
     "text": [
      "Logistic Regression: \n",
      "0.9722222222222222\n"
     ]
    }
   ],
   "source": [
    "# (5)(e) Logistic Regression \n",
    "print(\"Logistic Regression: \")\n",
    "print(accuracy_score(y_test, y_pred_lr))"
   ]
  },
  {
   "cell_type": "code",
   "execution_count": null,
   "id": "designed-classroom",
   "metadata": {},
   "outputs": [],
   "source": []
  }
 ],
 "metadata": {
  "kernelspec": {
   "display_name": "Python 3",
   "language": "python",
   "name": "python3"
  },
  "language_info": {
   "codemirror_mode": {
    "name": "ipython",
    "version": 3
   },
   "file_extension": ".py",
   "mimetype": "text/x-python",
   "name": "python",
   "nbconvert_exporter": "python",
   "pygments_lexer": "ipython3",
   "version": "3.7.9"
  }
 },
 "nbformat": 4,
 "nbformat_minor": 5
}
