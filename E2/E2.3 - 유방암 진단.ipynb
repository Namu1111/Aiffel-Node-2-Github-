{
 "cells": [
  {
   "cell_type": "markdown",
   "id": "artistic-envelope",
   "metadata": {},
   "source": [
    "# E2.3 - 유방암 진단"
   ]
  },
  {
   "cell_type": "markdown",
   "id": "determined-twenty",
   "metadata": {},
   "source": [
    "### (1) 필요한 모듈 import하기"
   ]
  },
  {
   "cell_type": "code",
   "execution_count": 3,
   "id": "classical-india",
   "metadata": {},
   "outputs": [],
   "source": [
    "from sklearn.datasets import load_breast_cancer\n",
    "from sklearn.model_selection import train_test_split\n",
    "from sklearn.metrics import classification_report\n",
    "import numpy as np "
   ]
  },
  {
   "cell_type": "markdown",
   "id": "silver-haven",
   "metadata": {},
   "source": [
    "### (2) 데이터 준비"
   ]
  },
  {
   "cell_type": "code",
   "execution_count": 4,
   "id": "appreciated-folder",
   "metadata": {},
   "outputs": [],
   "source": [
    "breast_cancer = load_breast_cancer()"
   ]
  },
  {
   "cell_type": "markdown",
   "id": "judicial-union",
   "metadata": {},
   "source": [
    "### (3) 데이터 이해하기"
   ]
  },
  {
   "cell_type": "markdown",
   "id": "local-swiss",
   "metadata": {},
   "source": [
    "* Feature Data 지정하기\n",
    "* Label Data 지정하기\n",
    "* Target Names 출력해 보기\n",
    "* 데이터 Describe 해 보기"
   ]
  },
  {
   "cell_type": "code",
   "execution_count": 5,
   "id": "comparable-norman",
   "metadata": {},
   "outputs": [
    {
     "name": "stdout",
     "output_type": "stream",
     "text": [
      "['DESCR', 'data', 'feature_names', 'filename', 'frame', 'target', 'target_names']\n"
     ]
    }
   ],
   "source": [
    "# 데이터 이해하기 \n",
    "print(dir(breast_cancer))"
   ]
  },
  {
   "cell_type": "code",
   "execution_count": 24,
   "id": "permanent-accreditation",
   "metadata": {},
   "outputs": [
    {
     "name": "stdout",
     "output_type": "stream",
     "text": [
      "['malignant' 'benign']\n"
     ]
    },
    {
     "data": {
      "text/plain": [
       "(array([0, 1]), array([212, 357]))"
      ]
     },
     "execution_count": 24,
     "metadata": {},
     "output_type": "execute_result"
    }
   ],
   "source": [
    "# target 이해하기  - target 이름은 malignant(악성) 와 benign(양성)이 있다. \n",
    "# target은 0 과 1로 되어있는데 아래 descr 에 따르면 악성이 212, 양성이 357개이다. \n",
    "# numpy로 0과 1의 갯수를 찾아본 결과, 0은 212개로 악성, 1은 357개로 양성인것으로 확인할 수 있다.  \n",
    "print(breast_cancer.target_names)\n",
    "np.unique(breast_cancer.target, return_counts=True)"
   ]
  },
  {
   "cell_type": "code",
   "execution_count": 7,
   "id": "political-graduate",
   "metadata": {},
   "outputs": [
    {
     "data": {
      "text/plain": [
       "'.. _breast_cancer_dataset:\\n\\nBreast cancer wisconsin (diagnostic) dataset\\n--------------------------------------------\\n\\n**Data Set Characteristics:**\\n\\n    :Number of Instances: 569\\n\\n    :Number of Attributes: 30 numeric, predictive attributes and the class\\n\\n    :Attribute Information:\\n        - radius (mean of distances from center to points on the perimeter)\\n        - texture (standard deviation of gray-scale values)\\n        - perimeter\\n        - area\\n        - smoothness (local variation in radius lengths)\\n        - compactness (perimeter^2 / area - 1.0)\\n        - concavity (severity of concave portions of the contour)\\n        - concave points (number of concave portions of the contour)\\n        - symmetry\\n        - fractal dimension (\"coastline approximation\" - 1)\\n\\n        The mean, standard error, and \"worst\" or largest (mean of the three\\n        worst/largest values) of these features were computed for each image,\\n        resulting in 30 features.  For instance, field 0 is Mean Radius, field\\n        10 is Radius SE, field 20 is Worst Radius.\\n\\n        - class:\\n                - WDBC-Malignant\\n                - WDBC-Benign\\n\\n    :Summary Statistics:\\n\\n    ===================================== ====== ======\\n                                           Min    Max\\n    ===================================== ====== ======\\n    radius (mean):                        6.981  28.11\\n    texture (mean):                       9.71   39.28\\n    perimeter (mean):                     43.79  188.5\\n    area (mean):                          143.5  2501.0\\n    smoothness (mean):                    0.053  0.163\\n    compactness (mean):                   0.019  0.345\\n    concavity (mean):                     0.0    0.427\\n    concave points (mean):                0.0    0.201\\n    symmetry (mean):                      0.106  0.304\\n    fractal dimension (mean):             0.05   0.097\\n    radius (standard error):              0.112  2.873\\n    texture (standard error):             0.36   4.885\\n    perimeter (standard error):           0.757  21.98\\n    area (standard error):                6.802  542.2\\n    smoothness (standard error):          0.002  0.031\\n    compactness (standard error):         0.002  0.135\\n    concavity (standard error):           0.0    0.396\\n    concave points (standard error):      0.0    0.053\\n    symmetry (standard error):            0.008  0.079\\n    fractal dimension (standard error):   0.001  0.03\\n    radius (worst):                       7.93   36.04\\n    texture (worst):                      12.02  49.54\\n    perimeter (worst):                    50.41  251.2\\n    area (worst):                         185.2  4254.0\\n    smoothness (worst):                   0.071  0.223\\n    compactness (worst):                  0.027  1.058\\n    concavity (worst):                    0.0    1.252\\n    concave points (worst):               0.0    0.291\\n    symmetry (worst):                     0.156  0.664\\n    fractal dimension (worst):            0.055  0.208\\n    ===================================== ====== ======\\n\\n    :Missing Attribute Values: None\\n\\n    :Class Distribution: 212 - Malignant, 357 - Benign\\n\\n    :Creator:  Dr. William H. Wolberg, W. Nick Street, Olvi L. Mangasarian\\n\\n    :Donor: Nick Street\\n\\n    :Date: November, 1995\\n\\nThis is a copy of UCI ML Breast Cancer Wisconsin (Diagnostic) datasets.\\nhttps://goo.gl/U2Uwz2\\n\\nFeatures are computed from a digitized image of a fine needle\\naspirate (FNA) of a breast mass.  They describe\\ncharacteristics of the cell nuclei present in the image.\\n\\nSeparating plane described above was obtained using\\nMultisurface Method-Tree (MSM-T) [K. P. Bennett, \"Decision Tree\\nConstruction Via Linear Programming.\" Proceedings of the 4th\\nMidwest Artificial Intelligence and Cognitive Science Society,\\npp. 97-101, 1992], a classification method which uses linear\\nprogramming to construct a decision tree.  Relevant features\\nwere selected using an exhaustive search in the space of 1-4\\nfeatures and 1-3 separating planes.\\n\\nThe actual linear program used to obtain the separating plane\\nin the 3-dimensional space is that described in:\\n[K. P. Bennett and O. L. Mangasarian: \"Robust Linear\\nProgramming Discrimination of Two Linearly Inseparable Sets\",\\nOptimization Methods and Software 1, 1992, 23-34].\\n\\nThis database is also available through the UW CS ftp server:\\n\\nftp ftp.cs.wisc.edu\\ncd math-prog/cpo-dataset/machine-learn/WDBC/\\n\\n.. topic:: References\\n\\n   - W.N. Street, W.H. Wolberg and O.L. Mangasarian. Nuclear feature extraction \\n     for breast tumor diagnosis. IS&T/SPIE 1993 International Symposium on \\n     Electronic Imaging: Science and Technology, volume 1905, pages 861-870,\\n     San Jose, CA, 1993.\\n   - O.L. Mangasarian, W.N. Street and W.H. Wolberg. Breast cancer diagnosis and \\n     prognosis via linear programming. Operations Research, 43(4), pages 570-577, \\n     July-August 1995.\\n   - W.H. Wolberg, W.N. Street, and O.L. Mangasarian. Machine learning techniques\\n     to diagnose breast cancer from fine-needle aspirates. Cancer Letters 77 (1994) \\n     163-171.'"
      ]
     },
     "execution_count": 7,
     "metadata": {},
     "output_type": "execute_result"
    }
   ],
   "source": [
    "# breast cancer data description\n",
    "# 데이터는 총 569개. attribute 은 30개. \n",
    "breast_cancer.DESCR"
   ]
  },
  {
   "cell_type": "code",
   "execution_count": 8,
   "id": "occasional-darkness",
   "metadata": {},
   "outputs": [],
   "source": [
    "# data 지정 \n",
    "breast_cancer_data = breast_cancer.data"
   ]
  },
  {
   "cell_type": "code",
   "execution_count": 9,
   "id": "empty-pride",
   "metadata": {},
   "outputs": [],
   "source": [
    "# label 지정\n",
    "breast_cancer_label = breast_cancer.target"
   ]
  },
  {
   "cell_type": "code",
   "execution_count": 10,
   "id": "harmful-apple",
   "metadata": {},
   "outputs": [
    {
     "name": "stdout",
     "output_type": "stream",
     "text": [
      "['mean radius' 'mean texture' 'mean perimeter' 'mean area'\n",
      " 'mean smoothness' 'mean compactness' 'mean concavity'\n",
      " 'mean concave points' 'mean symmetry' 'mean fractal dimension'\n",
      " 'radius error' 'texture error' 'perimeter error' 'area error'\n",
      " 'smoothness error' 'compactness error' 'concavity error'\n",
      " 'concave points error' 'symmetry error' 'fractal dimension error'\n",
      " 'worst radius' 'worst texture' 'worst perimeter' 'worst area'\n",
      " 'worst smoothness' 'worst compactness' 'worst concavity'\n",
      " 'worst concave points' 'worst symmetry' 'worst fractal dimension']\n"
     ]
    }
   ],
   "source": [
    "print(breast_cancer.feature_names) # feature 종류"
   ]
  },
  {
   "cell_type": "markdown",
   "id": "turkish-recycling",
   "metadata": {},
   "source": [
    "### (4) train, test 데이터 분리"
   ]
  },
  {
   "cell_type": "code",
   "execution_count": 11,
   "id": "primary-image",
   "metadata": {},
   "outputs": [],
   "source": [
    "# test size = 20% \n",
    "X_train, X_test, y_train, y_test = train_test_split(breast_cancer_data, breast_cancer_label, test_size=0.2, random_state=7)"
   ]
  },
  {
   "cell_type": "markdown",
   "id": "impossible-bruce",
   "metadata": {},
   "source": [
    "### (5) 다양한 모델로 학습시켜보기"
   ]
  },
  {
   "cell_type": "markdown",
   "id": "standard-newark",
   "metadata": {},
   "source": [
    "아래와 같은 모델 사용해 보기\n",
    "\n",
    "* Decision Tree\n",
    "* Random Forest\n",
    "* SVM\n",
    "* SGD Classifier\n",
    "* Logistic Regression"
   ]
  },
  {
   "cell_type": "markdown",
   "id": "junior-appeal",
   "metadata": {},
   "source": [
    "### (5)(a) Decision Tree "
   ]
  },
  {
   "cell_type": "code",
   "execution_count": 12,
   "id": "daily-processing",
   "metadata": {},
   "outputs": [],
   "source": [
    "from sklearn.tree import DecisionTreeClassifier\n",
    "\n",
    "# breast_cancer_dt 변수 만들어 주기 \n",
    "breast_cancer_dt = DecisionTreeClassifier(random_state=32)\n",
    "\n",
    "# model fitting\n",
    "breast_cancer_dt.fit(X_train, y_train)\n",
    "\n",
    "# y predict 만들어주기 \n",
    "y_pred_dt = breast_cancer_dt.predict(X_test)\n"
   ]
  },
  {
   "cell_type": "markdown",
   "id": "determined-talent",
   "metadata": {},
   "source": [
    "### (5)(b) Random Forest "
   ]
  },
  {
   "cell_type": "code",
   "execution_count": 13,
   "id": "heated-wound",
   "metadata": {},
   "outputs": [],
   "source": [
    "from sklearn.ensemble import RandomForestClassifier\n",
    "\n",
    "# breast_cancer_rf 변수 만들어 주기 \n",
    "breast_cancer_rf = RandomForestClassifier(random_state=32)\n",
    "\n",
    "# model fitting\n",
    "breast_cancer_rf.fit(X_train, y_train)\n",
    "\n",
    "# y predict 만들어주기 \n",
    "y_pred_rf = breast_cancer_rf.predict(X_test)\n"
   ]
  },
  {
   "cell_type": "markdown",
   "id": "confidential-reproduction",
   "metadata": {},
   "source": [
    "### (5)(c) SVM"
   ]
  },
  {
   "cell_type": "code",
   "execution_count": 14,
   "id": "tight-shade",
   "metadata": {},
   "outputs": [],
   "source": [
    "from sklearn import svm\n",
    "\n",
    "# breast_cancer_svm 변수 만들어 주기 \n",
    "breast_cancer_svm = svm.SVC()\n",
    "\n",
    "# model fitting\n",
    "breast_cancer_svm.fit(X_train, y_train)\n",
    "\n",
    "# y predict 만들어주기 \n",
    "y_pred_svm = breast_cancer_svm.predict(X_test)"
   ]
  },
  {
   "cell_type": "markdown",
   "id": "regular-lingerie",
   "metadata": {},
   "source": [
    "### (5)(d) SGD Classifier "
   ]
  },
  {
   "cell_type": "code",
   "execution_count": 15,
   "id": "tender-momentum",
   "metadata": {},
   "outputs": [],
   "source": [
    "from sklearn.linear_model import SGDClassifier\n",
    "\n",
    "# wine_sgd 변수 만들어 주기 \n",
    "breast_cancer_sgd = SGDClassifier()\n",
    "\n",
    "# model fitting\n",
    "breast_cancer_sgd.fit(X_train, y_train)\n",
    "\n",
    "# y predict 만들어주기 \n",
    "y_pred_sgd = breast_cancer_sgd.predict(X_test)"
   ]
  },
  {
   "cell_type": "markdown",
   "id": "destroyed-basic",
   "metadata": {},
   "source": [
    "### (5)(e) Logistic Regression"
   ]
  },
  {
   "cell_type": "code",
   "execution_count": 16,
   "id": "revolutionary-wrong",
   "metadata": {},
   "outputs": [],
   "source": [
    "from sklearn.linear_model import LogisticRegression\n",
    "\n",
    "# wine lr 변수 만들어 주기 \n",
    "breast_cancer_lr = LogisticRegression(max_iter=5000) \n",
    "\n",
    "# model fitting\n",
    "breast_cancer_lr.fit(X_train, y_train)\n",
    "\n",
    "# y predict 만들어주기 \n",
    "y_pred_lr = breast_cancer_lr.predict(X_test)"
   ]
  },
  {
   "cell_type": "markdown",
   "id": "applicable-ideal",
   "metadata": {},
   "source": [
    "### (6) 모델 평가해 보기 "
   ]
  },
  {
   "cell_type": "markdown",
   "id": "contrary-vancouver",
   "metadata": {},
   "source": [
    "1. 유방암진단은 앞의 두개의 예재와는(손글씨 분류와 와인분류) 조금 다른 특성이 있다.    \n",
    "환자의 유방암이 악성종양(label=0) 일때 양성종양(label=1)이라고 진단하면 환자에게는 큰 타격이 될 수 있다.    \n",
    "그러므로, 모델을 평가할 때 이 점을 유념하고 종합적인 accuracy score 뿐만 아니라 악성종양(label=0)의 recall 값이 큰 모델을 선택해야 한다.\n",
    "2. recall 은 TP/(TP + FN)로 계산된다. 여기서 TP는 target의 결과가 0 (악성종양)일때 모델이 결과를 0으로 맞게 추측할 경우이며 FN은 실제 결과가 0(악성종양)임에도 모델은 1(양성종양)로 추측할 경우이다. 그러므로, 0(악성종양)의 recall 값이 높다는 것은 FN이 작고 TP이 크다는 의미이다. 곧, 모델이 악성종양을 실제로 정확히 예측하고 양성종양으로 판단하는 오진률이 낮다는 의미이다. 따라서, 우리는 모델을 평가할때 0의 recall 값이 높은 모델을 찾아야 한다. \n",
    "3. accuracy_score과 recall_score를 사용했고 결과는 아래와 같다.   \n",
    "\n",
    "Model|recall_score|accuracy_score\n",
    "----|:----:|:----:\n",
    "Decision Tree|0.83| 0.91\n",
    "Random Forest|1.0| 1.0\n",
    "SVM|0.73|0.9\n",
    "SGD|0.95|0.81\n",
    "Logistic Regression|0.85|0.95\n",
    "\n",
    "4. **결론: Random Forest가 정확도, recall 점수가 앞도적으로 높으므로, 유방암 진단에 가장 적합한 모델인것 같다.** "
   ]
  },
  {
   "cell_type": "code",
   "execution_count": 29,
   "id": "desirable-coating",
   "metadata": {},
   "outputs": [],
   "source": [
    "# 필요한 모듈 설치\n",
    "from sklearn.metrics import recall_score \n",
    "from sklearn.metrics import accuracy_score "
   ]
  },
  {
   "cell_type": "code",
   "execution_count": 30,
   "id": "liquid-plymouth",
   "metadata": {},
   "outputs": [
    {
     "name": "stdout",
     "output_type": "stream",
     "text": [
      "Decision Tree: \n",
      "0.825\n",
      "0.9122807017543859\n"
     ]
    }
   ],
   "source": [
    "# (5)(a) Decision Tree \n",
    "print(\"Decision Tree: \")\n",
    "print(recall_score(y_test, y_pred_dt, pos_label=0))\n",
    "print(accuracy_score(y_test, y_pred_dt))"
   ]
  },
  {
   "cell_type": "code",
   "execution_count": 31,
   "id": "aging-irish",
   "metadata": {},
   "outputs": [
    {
     "name": "stdout",
     "output_type": "stream",
     "text": [
      "Random Forest: \n",
      "1.0\n",
      "1.0\n"
     ]
    }
   ],
   "source": [
    "# (5)(b) Random Forest \n",
    "print(\"Random Forest: \")\n",
    "print(recall_score(y_test, y_pred_rf, pos_label=0))\n",
    "print(accuracy_score(y_test, y_pred_rf))"
   ]
  },
  {
   "cell_type": "code",
   "execution_count": 32,
   "id": "precious-lincoln",
   "metadata": {},
   "outputs": [
    {
     "name": "stdout",
     "output_type": "stream",
     "text": [
      "SVM: \n",
      "0.725\n",
      "0.9035087719298246\n"
     ]
    }
   ],
   "source": [
    "# (5)(c) SVM\n",
    "print(\"SVM: \")\n",
    "print(recall_score(y_test, y_pred_svm, pos_label=0))\n",
    "print(accuracy_score(y_test, y_pred_svm))"
   ]
  },
  {
   "cell_type": "code",
   "execution_count": 33,
   "id": "arranged-literature",
   "metadata": {},
   "outputs": [
    {
     "name": "stdout",
     "output_type": "stream",
     "text": [
      "SGD: \n",
      "0.95\n",
      "0.8070175438596491\n"
     ]
    }
   ],
   "source": [
    "# (5)(d) SGD \n",
    "print(\"SGD: \")\n",
    "print(recall_score(y_test, y_pred_sgd, pos_label=0))\n",
    "print(accuracy_score(y_test, y_pred_sgd))"
   ]
  },
  {
   "cell_type": "code",
   "execution_count": 34,
   "id": "bronze-magnitude",
   "metadata": {},
   "outputs": [
    {
     "name": "stdout",
     "output_type": "stream",
     "text": [
      "Logistic Regression: \n",
      "0.85\n",
      "0.9473684210526315\n"
     ]
    }
   ],
   "source": [
    "# (5)(e) Logistic Regression \n",
    "print(\"Logistic Regression: \")\n",
    "print(recall_score(y_test, y_pred_lr, pos_label=0))\n",
    "print(accuracy_score(y_test, y_pred_lr))"
   ]
  },
  {
   "cell_type": "code",
   "execution_count": null,
   "id": "peaceful-translation",
   "metadata": {},
   "outputs": [],
   "source": []
  }
 ],
 "metadata": {
  "kernelspec": {
   "display_name": "Python 3",
   "language": "python",
   "name": "python3"
  },
  "language_info": {
   "codemirror_mode": {
    "name": "ipython",
    "version": 3
   },
   "file_extension": ".py",
   "mimetype": "text/x-python",
   "name": "python",
   "nbconvert_exporter": "python",
   "pygments_lexer": "ipython3",
   "version": "3.7.9"
  }
 },
 "nbformat": 4,
 "nbformat_minor": 5
}
