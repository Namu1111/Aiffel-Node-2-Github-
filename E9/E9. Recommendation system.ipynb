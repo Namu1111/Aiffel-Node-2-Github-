{
 "cells": [
  {
   "cell_type": "markdown",
   "id": "japanese-blood",
   "metadata": {},
   "source": [
    "## E9. Movielens 영화 추천 실습\n",
    "MovieLens 에서 제공하는 1M Dataset 사용해서 영화추천 모델을 만들어 보는 프로젝트다. 다양한 유저들의 영화 별점을 바탕으로, 유저의 영화 취향을 파악하고 비슷한 영화를 추천하는 모델이다.     \n",
    "\n",
    "사용자들은 영화의 별점을 1부터 5까지 부여했다. 보통 별점은 explicit data 이지만 우리는 이를 implicit data라고 간주하고 평가하고 했다. 별점을 시청횟수로 해석했다. 또한 유저가 3점 미만으로 준 평가는 영화를 선호하지 않는다고 가정하고 데이터에서 제외했다. "
   ]
  },
  {
   "cell_type": "markdown",
   "id": "searching-league",
   "metadata": {},
   "source": [
    "### Executive Summary \n",
    "\n",
    "모델의 사양은 다음과 같다. \n",
    "* 모델명: AlternatingLeastSquares\n",
    "* factors:1000\n",
    "* regularization:0.01\n",
    "* iterations: 50\n",
    "\n",
    "내가 선택한 영화 'sixth sense'의 모델 평가 결과는 0.98. 1에 가깝게 나왔다.      \n",
    "랜덤으로 선택한 영화 -0.014로 매우 낮았다. \n",
    "\n",
    "* 식스센스와 비슷한 영화     \n",
    "Sixth Sense, The (1999) 1.0000001        \n",
    "Heaven's Burning (1997) 0.32267874 - 스릴러 영화라는점이 식스센스와 비슷하다.       \n",
    "Project Moon Base (1953) 0.3213943       \n",
    "Match, The (1999) 0.31924695       \n",
    "I Got the Hook Up (1998) 0.31874764                                     \n",
    "\n",
    "\n",
    "* 추천영화         \n",
    "Omen, The (1976) 0.17831232 - 오멘을 재밌게 보긴 했다.    \n",
    "Cat's Eye (1985) 0.14193161 - 스티븐킹 소설을 원작으로 했다고 하는데. 스티븐킹 소설 좋아하는데 취향을 잘 파악한것 같다.     \n",
    "Flirting With Disaster (1996) 0.12639093    \n",
    "Event Horizon (1997) 0.12438591    \n",
    "Final Destination (2000) 0.12087625    "
   ]
  },
  {
   "cell_type": "markdown",
   "id": "speaking-fraud",
   "metadata": {},
   "source": [
    "### Table of Contents \n",
    "1. 데이터 가져오기, 이해하기\n",
    "2. 데이터 전처리 \n",
    "3. 데이터 분석 \n",
    "4. 내가 선호하는 영화 5가지 골라서 rating에 추가해주기\n",
    "5. user_id와 movie_id 인덱스화 시키기 \n",
    "6. csr matrix 만들기 \n",
    "7. 모델 훈련 (als_model = AlternatingLeastSquares)\n",
    "8. 내가 선호하는 5가지 영화 중 하나와 그 외의 영화 하나를 골라 훈련된 모델이 예측한 나의 선호도를 파악해 보세요.\n",
    "9. 내가 좋아하는 영화와 비슷한 영화추천받자. \n",
    "10. 내가 가장 좋아할 만한 영화들을 추천받아 봅시다."
   ]
  },
  {
   "cell_type": "markdown",
   "id": "representative-probability",
   "metadata": {},
   "source": [
    "###  필요한 모듈 가져오기"
   ]
  },
  {
   "cell_type": "code",
   "execution_count": 68,
   "id": "inner-intellectual",
   "metadata": {},
   "outputs": [],
   "source": [
    "import os\n",
    "import numpy as np\n",
    "import pandas as pd\n",
    "from scipy.sparse import csr_matrix\n",
    "from implicit.als import AlternatingLeastSquares\n"
   ]
  },
  {
   "cell_type": "markdown",
   "id": "crucial-jason",
   "metadata": {},
   "source": [
    "### 데이터 가져오기,  이해하기\n",
    "\n",
    "README.txt 에 따르면 데이터는 아래와 같다. \n",
    "- UserIDs range between 1 and 6040 \n",
    "- MovieIDs range between 1 and 3952\n",
    "- Ratings are made on a 5-star scale (whole-star ratings only)\n",
    "- Timestamp is represented in seconds since the epoch as returned by time(2)\n",
    "- Each user has at least 20 ratings\n",
    "\n",
    "데이터 분석할 때는 별점을 시청횟수로 해석해서 생각해 주기로 한다. "
   ]
  },
  {
   "cell_type": "code",
   "execution_count": 69,
   "id": "alleged-adaptation",
   "metadata": {},
   "outputs": [
    {
     "data": {
      "text/html": [
       "<div>\n",
       "<style scoped>\n",
       "    .dataframe tbody tr th:only-of-type {\n",
       "        vertical-align: middle;\n",
       "    }\n",
       "\n",
       "    .dataframe tbody tr th {\n",
       "        vertical-align: top;\n",
       "    }\n",
       "\n",
       "    .dataframe thead th {\n",
       "        text-align: right;\n",
       "    }\n",
       "</style>\n",
       "<table border=\"1\" class=\"dataframe\">\n",
       "  <thead>\n",
       "    <tr style=\"text-align: right;\">\n",
       "      <th></th>\n",
       "      <th>user_id</th>\n",
       "      <th>movie_id</th>\n",
       "      <th>rating</th>\n",
       "      <th>timestamp</th>\n",
       "    </tr>\n",
       "  </thead>\n",
       "  <tbody>\n",
       "    <tr>\n",
       "      <th>0</th>\n",
       "      <td>1</td>\n",
       "      <td>1193</td>\n",
       "      <td>5</td>\n",
       "      <td>978300760</td>\n",
       "    </tr>\n",
       "    <tr>\n",
       "      <th>1</th>\n",
       "      <td>1</td>\n",
       "      <td>661</td>\n",
       "      <td>3</td>\n",
       "      <td>978302109</td>\n",
       "    </tr>\n",
       "    <tr>\n",
       "      <th>2</th>\n",
       "      <td>1</td>\n",
       "      <td>914</td>\n",
       "      <td>3</td>\n",
       "      <td>978301968</td>\n",
       "    </tr>\n",
       "    <tr>\n",
       "      <th>3</th>\n",
       "      <td>1</td>\n",
       "      <td>3408</td>\n",
       "      <td>4</td>\n",
       "      <td>978300275</td>\n",
       "    </tr>\n",
       "    <tr>\n",
       "      <th>4</th>\n",
       "      <td>1</td>\n",
       "      <td>2355</td>\n",
       "      <td>5</td>\n",
       "      <td>978824291</td>\n",
       "    </tr>\n",
       "  </tbody>\n",
       "</table>\n",
       "</div>"
      ],
      "text/plain": [
       "   user_id  movie_id  rating  timestamp\n",
       "0        1      1193       5  978300760\n",
       "1        1       661       3  978302109\n",
       "2        1       914       3  978301968\n",
       "3        1      3408       4  978300275\n",
       "4        1      2355       5  978824291"
      ]
     },
     "execution_count": 69,
     "metadata": {},
     "output_type": "execute_result"
    }
   ],
   "source": [
    "rating_file_path=os.getenv('HOME') + '/aiffel/recommendata_iu/data/ml-1m/ratings.dat'\n",
    "ratings_cols = ['user_id', 'movie_id', 'rating', 'timestamp']\n",
    "ratings = pd.read_csv(rating_file_path, sep='::', names=ratings_cols, engine='python', encoding = \"ISO-8859-1\")\n",
    "original_data_size = len(ratings)\n",
    "ratings.head()"
   ]
  },
  {
   "cell_type": "code",
   "execution_count": 70,
   "id": "sealed-mortality",
   "metadata": {},
   "outputs": [],
   "source": [
    "ratings = pd.DataFrame(ratings)"
   ]
  },
  {
   "cell_type": "markdown",
   "id": "shared-mustang",
   "metadata": {},
   "source": [
    "### 데이터 전처리 \n",
    "\n",
    "1. 유저가 3점 미만으로 준 데이터는 선호하지 않는다고 가정하고 데이터셋에서 제외\n",
    "2. rating 컬럼의 이름을 count로 바꿉니다.\n",
    "3. ratings를 분석했을때 영화제목을 movies 파일에서 꺼내오기 위해 id to title의 dictionary 형태로 만들어준다.  \n",
    "4. rating에서 timestamp 는 필요없으므로 없애주기로 한다.   \n",
    "5. 결측치 확인 \n"
   ]
  },
  {
   "cell_type": "code",
   "execution_count": 71,
   "id": "viral-nerve",
   "metadata": {},
   "outputs": [
    {
     "name": "stdout",
     "output_type": "stream",
     "text": [
      "orginal_data_size: 1000209, filtered_data_size: 836478\n",
      "Ratio of Remaining Data is 83.63%\n"
     ]
    }
   ],
   "source": [
    "# rating 3이상만 포함시키기 \n",
    "ratings = ratings[ratings['rating']>=3]\n",
    "filtered_data_size = len(ratings)\n",
    "\n",
    "print(f'orginal_data_size: {original_data_size}, filtered_data_size: {filtered_data_size}')\n",
    "print(f'Ratio of Remaining Data is {filtered_data_size / original_data_size:.2%}')"
   ]
  },
  {
   "cell_type": "code",
   "execution_count": 72,
   "id": "saving-wheel",
   "metadata": {},
   "outputs": [],
   "source": [
    "# rating 컬럼의 이름을 count로 바꿉니다.\n",
    "ratings.rename(columns={'rating':'count'}, inplace=True)"
   ]
  },
  {
   "cell_type": "code",
   "execution_count": 73,
   "id": "convenient-humidity",
   "metadata": {},
   "outputs": [],
   "source": [
    "# 영화 제목을 보기 위해 메타 데이터를 읽어옵니다.\n",
    "movie_file_path=os.getenv('HOME') + '/aiffel/recommendata_iu/data/ml-1m/movies.dat'\n",
    "cols = ['movie_id', 'title', 'genre'] \n",
    "movies = pd.read_csv(movie_file_path, sep='::', names=cols, engine='python', encoding='ISO-8859-1')"
   ]
  },
  {
   "cell_type": "code",
   "execution_count": 74,
   "id": "outside-canyon",
   "metadata": {},
   "outputs": [],
   "source": [
    "id_to_title = dict(zip(movies['movie_id'], movies['title']))"
   ]
  },
  {
   "cell_type": "code",
   "execution_count": 75,
   "id": "narrow-maple",
   "metadata": {},
   "outputs": [
    {
     "data": {
      "text/html": [
       "<div>\n",
       "<style scoped>\n",
       "    .dataframe tbody tr th:only-of-type {\n",
       "        vertical-align: middle;\n",
       "    }\n",
       "\n",
       "    .dataframe tbody tr th {\n",
       "        vertical-align: top;\n",
       "    }\n",
       "\n",
       "    .dataframe thead th {\n",
       "        text-align: right;\n",
       "    }\n",
       "</style>\n",
       "<table border=\"1\" class=\"dataframe\">\n",
       "  <thead>\n",
       "    <tr style=\"text-align: right;\">\n",
       "      <th></th>\n",
       "      <th>user_id</th>\n",
       "      <th>movie_id</th>\n",
       "      <th>count</th>\n",
       "    </tr>\n",
       "  </thead>\n",
       "  <tbody>\n",
       "    <tr>\n",
       "      <th>1000203</th>\n",
       "      <td>6040</td>\n",
       "      <td>1090</td>\n",
       "      <td>3</td>\n",
       "    </tr>\n",
       "    <tr>\n",
       "      <th>1000205</th>\n",
       "      <td>6040</td>\n",
       "      <td>1094</td>\n",
       "      <td>5</td>\n",
       "    </tr>\n",
       "    <tr>\n",
       "      <th>1000206</th>\n",
       "      <td>6040</td>\n",
       "      <td>562</td>\n",
       "      <td>5</td>\n",
       "    </tr>\n",
       "    <tr>\n",
       "      <th>1000207</th>\n",
       "      <td>6040</td>\n",
       "      <td>1096</td>\n",
       "      <td>4</td>\n",
       "    </tr>\n",
       "    <tr>\n",
       "      <th>1000208</th>\n",
       "      <td>6040</td>\n",
       "      <td>1097</td>\n",
       "      <td>4</td>\n",
       "    </tr>\n",
       "  </tbody>\n",
       "</table>\n",
       "</div>"
      ],
      "text/plain": [
       "         user_id  movie_id  count\n",
       "1000203     6040      1090      3\n",
       "1000205     6040      1094      5\n",
       "1000206     6040       562      5\n",
       "1000207     6040      1096      4\n",
       "1000208     6040      1097      4"
      ]
     },
     "execution_count": 75,
     "metadata": {},
     "output_type": "execute_result"
    }
   ],
   "source": [
    "ratings = ratings.drop(columns=['timestamp'])\n",
    "ratings.tail()"
   ]
  },
  {
   "cell_type": "code",
   "execution_count": 76,
   "id": "floating-ranking",
   "metadata": {},
   "outputs": [
    {
     "data": {
      "text/html": [
       "<div>\n",
       "<style scoped>\n",
       "    .dataframe tbody tr th:only-of-type {\n",
       "        vertical-align: middle;\n",
       "    }\n",
       "\n",
       "    .dataframe tbody tr th {\n",
       "        vertical-align: top;\n",
       "    }\n",
       "\n",
       "    .dataframe thead th {\n",
       "        text-align: right;\n",
       "    }\n",
       "</style>\n",
       "<table border=\"1\" class=\"dataframe\">\n",
       "  <thead>\n",
       "    <tr style=\"text-align: right;\">\n",
       "      <th></th>\n",
       "      <th>user_id</th>\n",
       "      <th>movie_id</th>\n",
       "      <th>count</th>\n",
       "    </tr>\n",
       "  </thead>\n",
       "  <tbody>\n",
       "    <tr>\n",
       "      <th>count</th>\n",
       "      <td>836478</td>\n",
       "      <td>836478</td>\n",
       "      <td>836478</td>\n",
       "    </tr>\n",
       "    <tr>\n",
       "      <th>unique</th>\n",
       "      <td>1</td>\n",
       "      <td>1</td>\n",
       "      <td>1</td>\n",
       "    </tr>\n",
       "    <tr>\n",
       "      <th>top</th>\n",
       "      <td>False</td>\n",
       "      <td>False</td>\n",
       "      <td>False</td>\n",
       "    </tr>\n",
       "    <tr>\n",
       "      <th>freq</th>\n",
       "      <td>836478</td>\n",
       "      <td>836478</td>\n",
       "      <td>836478</td>\n",
       "    </tr>\n",
       "  </tbody>\n",
       "</table>\n",
       "</div>"
      ],
      "text/plain": [
       "       user_id movie_id   count\n",
       "count   836478   836478  836478\n",
       "unique       1        1       1\n",
       "top      False    False   False\n",
       "freq    836478   836478  836478"
      ]
     },
     "execution_count": 76,
     "metadata": {},
     "output_type": "execute_result"
    }
   ],
   "source": [
    "ratings.isnull().describe()"
   ]
  },
  {
   "cell_type": "code",
   "execution_count": 77,
   "id": "studied-transmission",
   "metadata": {},
   "outputs": [
    {
     "name": "stdout",
     "output_type": "stream",
     "text": [
      "6039\n",
      "3628\n"
     ]
    }
   ],
   "source": [
    "user_unique = ratings['user_id'].unique()\n",
    "movie_unique = ratings['movie_id'].unique()\n",
    "print(len(user_unique))\n",
    "print(len(movie_unique))"
   ]
  },
  {
   "cell_type": "markdown",
   "id": "likely-portuguese",
   "metadata": {},
   "source": [
    "### 데이터 분석 \n",
    "\n",
    "* ratings에 있는 유니크한 영화 개수\n",
    "* rating에 있는 유니크한 사용자 수\n",
    "* 가장 인기 있는 영화 30개(인기순)"
   ]
  },
  {
   "cell_type": "code",
   "execution_count": 78,
   "id": "registered-nicholas",
   "metadata": {},
   "outputs": [
    {
     "data": {
      "text/plain": [
       "3628"
      ]
     },
     "execution_count": 78,
     "metadata": {},
     "output_type": "execute_result"
    }
   ],
   "source": [
    "ratings['movie_id'].nunique()"
   ]
  },
  {
   "cell_type": "code",
   "execution_count": 79,
   "id": "shaped-formation",
   "metadata": {},
   "outputs": [
    {
     "data": {
      "text/plain": [
       "6039"
      ]
     },
     "execution_count": 79,
     "metadata": {},
     "output_type": "execute_result"
    }
   ],
   "source": [
    "ratings['user_id'].nunique()"
   ]
  },
  {
   "cell_type": "code",
   "execution_count": 80,
   "id": "north-peoples",
   "metadata": {},
   "outputs": [],
   "source": [
    "# 사람들이 많이 본 영화 top30 \n",
    "watch_count = ratings.groupby('movie_id')['user_id'].count()\n",
    "watch_count.sort_values(ascending=False, inplace=True)"
   ]
  },
  {
   "cell_type": "code",
   "execution_count": 81,
   "id": "facial-reform",
   "metadata": {},
   "outputs": [
    {
     "data": {
      "text/plain": [
       "movie_id\n",
       "2858                            Cry in the Dark, A (1988)\n",
       "260                                      Ennui, L' (1998)\n",
       "1196                                     Guinevere (1999)\n",
       "1210                                  Ghostbusters (1984)\n",
       "2028                                    True Crime (1999)\n",
       "589                              Eight Days a Week (1997)\n",
       "593                            My Favorite Martian (1999)\n",
       "1198                                      Soul Man (1986)\n",
       "1270                Texas Chainsaw Massacre 2, The (1986)\n",
       "2571                             Down in the Delta (1998)\n",
       "480                                           Clue (1985)\n",
       "2762                                    Home Fries (1998)\n",
       "608                                         Fletch (1985)\n",
       "110                                        Beloved (1998)\n",
       "1580                          What Dreams May Come (1998)\n",
       "527                                No Small Affair (1984)\n",
       "1197                                          Hero (1992)\n",
       "2396                           Waltzes from Vienna (1933)\n",
       "1617                                      Sabotage (1936)\n",
       "318                              Untouchables, The (1987)\n",
       "858                                          Blade (1998)\n",
       "1265                                          Cujo (1983)\n",
       "1097                              Steamboat Willie (1940)\n",
       "2997                               Out of the Past (1947)\n",
       "2716                    Herbie Goes to Monte Carlo (1977)\n",
       "296     East Palace West Palace (Dong gong xi gong) (1...\n",
       "356                 Last Temptation of Christ, The (1988)\n",
       "1240    Seven Samurai (The Magnificent Seven) (Shichin...\n",
       "1                                    Lethal Weapon (1987)\n",
       "457                                         Hamlet (1948)\n",
       "Name: user_id, dtype: object"
      ]
     },
     "execution_count": 81,
     "metadata": {},
     "output_type": "execute_result"
    }
   ],
   "source": [
    "watch_count.map(id_to_title.get).head(30)"
   ]
  },
  {
   "cell_type": "markdown",
   "id": "recreational-draft",
   "metadata": {},
   "source": [
    "### 내가 선호하는 영화 5가지 골라서 rating에 추가해주기"
   ]
  },
  {
   "cell_type": "code",
   "execution_count": 82,
   "id": "tamil-somalia",
   "metadata": {},
   "outputs": [
    {
     "data": {
      "text/html": [
       "<div>\n",
       "<style scoped>\n",
       "    .dataframe tbody tr th:only-of-type {\n",
       "        vertical-align: middle;\n",
       "    }\n",
       "\n",
       "    .dataframe tbody tr th {\n",
       "        vertical-align: top;\n",
       "    }\n",
       "\n",
       "    .dataframe thead th {\n",
       "        text-align: right;\n",
       "    }\n",
       "</style>\n",
       "<table border=\"1\" class=\"dataframe\">\n",
       "  <thead>\n",
       "    <tr style=\"text-align: right;\">\n",
       "      <th></th>\n",
       "      <th>movie_id</th>\n",
       "      <th>title</th>\n",
       "      <th>genre</th>\n",
       "    </tr>\n",
       "  </thead>\n",
       "  <tbody>\n",
       "    <tr>\n",
       "      <th>1636</th>\n",
       "      <td>1682</td>\n",
       "      <td>Truman Show, The (1998)</td>\n",
       "      <td>Drama</td>\n",
       "    </tr>\n",
       "  </tbody>\n",
       "</table>\n",
       "</div>"
      ],
      "text/plain": [
       "      movie_id                    title  genre\n",
       "1636      1682  Truman Show, The (1998)  Drama"
      ]
     },
     "execution_count": 82,
     "metadata": {},
     "output_type": "execute_result"
    }
   ],
   "source": [
    "s_movies = movies.loc[movies['title'].str.contains('truman', case=False)]\n",
    "s_movies"
   ]
  },
  {
   "cell_type": "code",
   "execution_count": 83,
   "id": "informative-knitting",
   "metadata": {},
   "outputs": [],
   "source": [
    "# forest gump, sixth sense, shawshank redemption, american beauty, truman show\n",
    "fav_movies_id = [356, 2762, 318, 2858, 1682]\n",
    "fav_movies_rating = [5, 5, 5, 5, 5]\n",
    "my_list = pd.DataFrame({'user_id':[6041]*5, 'movie_id': fav_movies_id, 'count': fav_movies_rating})"
   ]
  },
  {
   "cell_type": "code",
   "execution_count": 84,
   "id": "monetary-spokesman",
   "metadata": {},
   "outputs": [],
   "source": [
    "ratings = ratings.append(my_list)"
   ]
  },
  {
   "cell_type": "code",
   "execution_count": 85,
   "id": "iraqi-decrease",
   "metadata": {},
   "outputs": [],
   "source": [
    "ratings = ratings.reset_index(drop=True)"
   ]
  },
  {
   "cell_type": "markdown",
   "id": "applicable-degree",
   "metadata": {},
   "source": [
    "### user_id와 movie_id 인덱스화 시키기 "
   ]
  },
  {
   "cell_type": "code",
   "execution_count": 86,
   "id": "inside-characterization",
   "metadata": {},
   "outputs": [],
   "source": [
    "# 고유한 유저, 아티스트를 찾아내는 코드\n",
    "user_unique = ratings['user_id'].unique()\n",
    "movie_unique = ratings['movie_id'].unique()\n",
    "\n",
    "# 유저, 아티스트 indexing 하는 코드 idx는 index의 약자입니다.\n",
    "user_to_idx = {v:k for k,v in enumerate(user_unique)}\n",
    "movie_to_idx = {v:k for k,v in enumerate(movie_unique)}\n"
   ]
  },
  {
   "cell_type": "code",
   "execution_count": 87,
   "id": "animated-injection",
   "metadata": {},
   "outputs": [
    {
     "name": "stdout",
     "output_type": "stream",
     "text": [
      "user_id column indexing OK!!\n",
      "movie column indexing OK!!\n"
     ]
    }
   ],
   "source": [
    "temp_user_id = ratings['user_id'].map(user_to_idx.get).dropna()\n",
    "if len(temp_user_id) == len(ratings):   # 모든 row가 정상적으로 인덱싱되었다면\n",
    "    print('user_id column indexing OK!!')\n",
    "    ratings['user_id'] = temp_user_id   # data['user_id']을 인덱싱된 Series로 교체해 줍니다. \n",
    "else:\n",
    "    print('user_id column indexing Fail!!')\n",
    "\n",
    "temp_movie_id = ratings['movie_id'].map(movie_to_idx.get).dropna()\n",
    "if len(temp_movie_id) == len(ratings):\n",
    "    print('movie column indexing OK!!')\n",
    "    ratings['movie_id'] = temp_movie_id\n",
    "else:\n",
    "    print('movie column indexing Fail!!')"
   ]
  },
  {
   "cell_type": "markdown",
   "id": "elegant-hometown",
   "metadata": {},
   "source": [
    "### CSR matrix 만들기"
   ]
  },
  {
   "cell_type": "code",
   "execution_count": 88,
   "id": "downtown-expert",
   "metadata": {},
   "outputs": [
    {
     "name": "stdout",
     "output_type": "stream",
     "text": [
      "6040\n",
      "3628\n"
     ]
    }
   ],
   "source": [
    "num_user = ratings['user_id'].nunique()   # including my addition\n",
    "num_movies = ratings['movie_id'].nunique()\n",
    "print(num_user)\n",
    "print(num_movies)"
   ]
  },
  {
   "cell_type": "code",
   "execution_count": 89,
   "id": "subjective-dubai",
   "metadata": {},
   "outputs": [
    {
     "data": {
      "text/plain": [
       "<6040x3628 sparse matrix of type '<class 'numpy.longlong'>'\n",
       "\twith 836483 stored elements in Compressed Sparse Row format>"
      ]
     },
     "execution_count": 89,
     "metadata": {},
     "output_type": "execute_result"
    }
   ],
   "source": [
    "csr_data = csr_matrix((ratings['count'], (ratings.user_id, ratings.movie_id)), shape=(num_user, num_movies))\n",
    "csr_data"
   ]
  },
  {
   "cell_type": "markdown",
   "id": "stunning-orange",
   "metadata": {},
   "source": [
    "### 모델 훈련 (als_model = AlternatingLeastSquares)"
   ]
  },
  {
   "cell_type": "code",
   "execution_count": 90,
   "id": "conscious-carter",
   "metadata": {},
   "outputs": [],
   "source": [
    "# implicit 라이브러리에서 권장하고 있는 부분입니다. 학습 내용과는 무관합니다.\n",
    "os.environ['OPENBLAS_NUM_THREADS']='1'\n",
    "os.environ['KMP_DUPLICATE_LIB_OK']='True'\n",
    "os.environ['MKL_NUM_THREADS']='1'"
   ]
  },
  {
   "cell_type": "code",
   "execution_count": 91,
   "id": "lasting-tunisia",
   "metadata": {},
   "outputs": [],
   "source": [
    "# Implicit AlternatingLeastSquares 모델의 선언\n",
    "als_model = AlternatingLeastSquares(factors=1000, regularization=0.01, use_gpu=False, iterations=50, dtype=np.float32)"
   ]
  },
  {
   "cell_type": "code",
   "execution_count": 92,
   "id": "civil-elder",
   "metadata": {},
   "outputs": [
    {
     "data": {
      "text/plain": [
       "<3628x6040 sparse matrix of type '<class 'numpy.longlong'>'\n",
       "\twith 836483 stored elements in Compressed Sparse Column format>"
      ]
     },
     "execution_count": 92,
     "metadata": {},
     "output_type": "execute_result"
    }
   ],
   "source": [
    "csr_data_transpose = csr_data.T\n",
    "csr_data_transpose"
   ]
  },
  {
   "cell_type": "code",
   "execution_count": 93,
   "id": "congressional-burke",
   "metadata": {},
   "outputs": [
    {
     "data": {
      "application/vnd.jupyter.widget-view+json": {
       "model_id": "01f7ff540aff472b861aaf6354d83b50",
       "version_major": 2,
       "version_minor": 0
      },
      "text/plain": [
       "  0%|          | 0/50 [00:00<?, ?it/s]"
      ]
     },
     "metadata": {},
     "output_type": "display_data"
    }
   ],
   "source": [
    "als_model.fit(csr_data_transpose)"
   ]
  },
  {
   "cell_type": "markdown",
   "id": "forty-space",
   "metadata": {},
   "source": [
    "### 내가 선호하는 5가지 영화 중 하나와 그 외의 영화 하나를 골라 훈련된 모델이 예측한 나의 선호도를 파악해 보세요."
   ]
  },
  {
   "cell_type": "code",
   "execution_count": 104,
   "id": "bizarre-guidance",
   "metadata": {},
   "outputs": [
    {
     "name": "stdout",
     "output_type": "stream",
     "text": [
      "6039\n",
      "38\n"
     ]
    }
   ],
   "source": [
    "# user index, 식스센스 index \n",
    "print(user_to_idx[6041])\n",
    "print(movie_to_idx[2762])"
   ]
  },
  {
   "cell_type": "code",
   "execution_count": 105,
   "id": "tired-effort",
   "metadata": {},
   "outputs": [
    {
     "data": {
      "text/plain": [
       "0.9838213"
      ]
     },
     "execution_count": 105,
     "metadata": {},
     "output_type": "execute_result"
    }
   ],
   "source": [
    "# 내가 선택한 영화 (식스센스)\n",
    "user_vector, movie_vector = als_model.user_factors[6039], als_model.item_factors[38]\n",
    "np.dot(user_vector, movie_vector)"
   ]
  },
  {
   "cell_type": "code",
   "execution_count": 106,
   "id": "under-planner",
   "metadata": {},
   "outputs": [
    {
     "data": {
      "text/plain": [
       "-0.01418808"
      ]
     },
     "execution_count": 106,
     "metadata": {},
     "output_type": "execute_result"
    }
   ],
   "source": [
    "# 다른 영화 (랜덤한 영화)\n",
    "another_vector = als_model.item_factors[3500] \n",
    "np.dot(user_vector, another_vector)"
   ]
  },
  {
   "cell_type": "markdown",
   "id": "adverse-guitar",
   "metadata": {},
   "source": [
    "### 내가 좋아하는 영화와 비슷한 영화를 추천받아 봅시다."
   ]
  },
  {
   "cell_type": "code",
   "execution_count": 107,
   "id": "bulgarian-orlando",
   "metadata": {},
   "outputs": [
    {
     "data": {
      "text/plain": [
       "[(38, 1.0000001),\n",
       " (3591, 0.32267874),\n",
       " (3534, 0.3213943),\n",
       " (3600, 0.31924695),\n",
       " (3523, 0.31874764)]"
      ]
     },
     "execution_count": 107,
     "metadata": {},
     "output_type": "execute_result"
    }
   ],
   "source": [
    "fav_movie = 'sixth sense'\n",
    "similar_movies = als_model.similar_items(38, N=5)\n",
    "similar_movies"
   ]
  },
  {
   "cell_type": "code",
   "execution_count": 98,
   "id": "spanish-hughes",
   "metadata": {},
   "outputs": [],
   "source": [
    "idx_to_movie = {i:m for m, i in movie_to_idx.items()}"
   ]
  },
  {
   "cell_type": "code",
   "execution_count": 99,
   "id": "intelligent-patent",
   "metadata": {},
   "outputs": [],
   "source": [
    "def get_title(idx):\n",
    "    movie_id = idx_to_movie[idx]\n",
    "    title = id_to_title[movie_id]\n",
    "    return title "
   ]
  },
  {
   "cell_type": "code",
   "execution_count": 108,
   "id": "dominant-monaco",
   "metadata": {},
   "outputs": [
    {
     "name": "stdout",
     "output_type": "stream",
     "text": [
      "Sixth Sense, The (1999) 1.0000001\n",
      "Heaven's Burning (1997) 0.32267874\n",
      "Project Moon Base (1953) 0.3213943\n",
      "Match, The (1999) 0.31924695\n",
      "I Got the Hook Up (1998) 0.31874764\n"
     ]
    }
   ],
   "source": [
    "for item in similar_movies: \n",
    "    movie_id, rating = item \n",
    "    title = get_title(movie_id)\n",
    "    print (title, rating)"
   ]
  },
  {
   "cell_type": "markdown",
   "id": "monetary-recovery",
   "metadata": {},
   "source": [
    "### 내가 가장 좋아할 만한 영화들을 추천받아 봅시다."
   ]
  },
  {
   "cell_type": "code",
   "execution_count": 101,
   "id": "weird-mechanics",
   "metadata": {},
   "outputs": [
    {
     "data": {
      "text/plain": [
       "[(712, 0.051231954),\n",
       " (1646, 0.047962505),\n",
       " (1448, 0.0465714),\n",
       " (374, 0.046292283),\n",
       " (184, 0.044748887)]"
      ]
     },
     "execution_count": 101,
     "metadata": {},
     "output_type": "execute_result"
    }
   ],
   "source": [
    "user = 6039 # user_id index\n",
    "movie_recommended = als_model.recommend(user, csr_data, N=5, filter_already_liked_items=True)\n",
    "movie_recommended"
   ]
  },
  {
   "cell_type": "code",
   "execution_count": 102,
   "id": "intended-nickel",
   "metadata": {},
   "outputs": [
    {
     "name": "stdout",
     "output_type": "stream",
     "text": [
      "To Wong Foo, Thanks for Everything! Julie Newmar (1995) 0.051231954\n",
      "Yellow Submarine (1968) 0.047962505\n",
      "Next Stop, Wonderland (1998) 0.0465714\n",
      "Exorcist, The (1973) 0.046292283\n",
      "Crocodile Dundee (1986) 0.044748887\n"
     ]
    }
   ],
   "source": [
    "for item in movie_recommended: \n",
    "    movie_id, rating = item \n",
    "    title = get_title(movie_id)\n",
    "    print (title, rating)"
   ]
  },
  {
   "cell_type": "code",
   "execution_count": 103,
   "id": "experimental-template",
   "metadata": {},
   "outputs": [
    {
     "name": "stdout",
     "output_type": "stream",
     "text": [
      "['Forrest Gump (1994)', 'Sixth Sense, The (1999)', 'Shawshank Redemption, The (1994)', 'American Beauty (1999)', 'Truman Show, The (1998)']\n"
     ]
    }
   ],
   "source": [
    "fav_movies_id = [356, 2762, 318, 2858, 1682]\n",
    "title_all = []\n",
    "\n",
    "for item in fav_movies_id:\n",
    "    title = id_to_title[item]\n",
    "    title_all.append(title)\n",
    "\n",
    "print(title_all)\n"
   ]
  },
  {
   "cell_type": "code",
   "execution_count": null,
   "id": "accomplished-lease",
   "metadata": {},
   "outputs": [],
   "source": []
  }
 ],
 "metadata": {
  "kernelspec": {
   "display_name": "Python 3",
   "language": "python",
   "name": "python3"
  },
  "language_info": {
   "codemirror_mode": {
    "name": "ipython",
    "version": 3
   },
   "file_extension": ".py",
   "mimetype": "text/x-python",
   "name": "python",
   "nbconvert_exporter": "python",
   "pygments_lexer": "ipython3",
   "version": "3.7.9"
  }
 },
 "nbformat": 4,
 "nbformat_minor": 5
}
