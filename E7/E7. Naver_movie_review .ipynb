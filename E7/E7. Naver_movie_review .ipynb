{
 "cells": [
  {
   "cell_type": "markdown",
   "id": "frank-adjustment",
   "metadata": {},
   "source": [
    "# E7. 네이버 영화리뷰 감성분석 도전하기"
   ]
  },
  {
   "cell_type": "markdown",
   "id": "constant-outline",
   "metadata": {},
   "source": [
    "### Background "
   ]
  },
  {
   "cell_type": "markdown",
   "id": "normal-breakfast",
   "metadata": {},
   "source": [
    "이번 프로젝트는 네이버 영화리뷰에 대한 감성분석(sentiment analysis)이다. 감성분석이란 supervised learning의 일종으로 텍스트에서 글 작성자의 주관적 의견이나 감정 등을 분석하는 것이다. 분석을 통해서 긍정, 부정 혹은 중립의 감정으로 텍스트를 분류한다.    \n",
    "   \n",
    "여기서 학습데이터로 주어진 것은 네이버 영화리뷰 15만건이다. 이미 긍정과 부정의 labeling이 되어 있으므로 (긍정-1, 부정-0) supervised learning의 학습니다. 이 데이터를 모델에 학습시키고, 그 모델로 테스트 데이터 5만건에 대해서 영화에 대한 리뷰가 긍정인지 부정인지를 테스트함으로써 모델의 성능을 평가한다. 목표는 정확도 85%이다. \n"
   ]
  },
  {
   "cell_type": "markdown",
   "id": "noble-cholesterol",
   "metadata": {},
   "source": [
    "### Executive Summary \n",
    "\n",
    "1. 데이터 전처리      \n",
    "    1) 데이터 가공     \n",
    "        * 중복 제거    \n",
    "        * NaN 결측치 제거    \n",
    "        * 불용어(Stopwords) 제거    \n",
    "    2) 토큰화     \n",
    "    3) word to index 사전 구성     \n",
    "    4) index to word     \n",
    "    5) 최대 문장 길이 지정 - 설정값은 95%의 데이터를 수용     \n",
    "    6) 패딩추가 ('pre' 사용)     \n",
    "\n",
    "2. validation set 생성: train 60%/ validation 40%       \n",
    "\n",
    "3. 모델 \n",
    "    1)LSTM; 2)CNN; 3)CNN/LSTM    \n",
    "    \n",
    "4. 성능 향상을 위한 노력   \n",
    "사전 학습된 Word2Vec를 가져와서 모델에 넣어보고 validation accuracy를 향상 시키기 위해 epoch를 조정해 주었다. 그러나, 큰 성능향상이 없었다. test시 CNN/LSTM Word2Vec를 쓴 모델이 가장 성능이 높았다. accuracy rate은 85%. \n",
    "\n",
    "metrics|model1(LSTM)| model1(LSTM) with Word2Vec| model2(CNN)| model2(CNN) with word2Vec| model3(CNN/LSTM)| model3(CNN/LSTM) with word2Vec\n",
    "---|---|---|---|---|---|---\n",
    "loss|0.4| 0.37|0.49|0.47|0.36|0.39\n",
    "accuracy|0.84|0.84|0.81|0.80|0.84|0.85\n"
   ]
  },
  {
   "cell_type": "markdown",
   "id": "unavailable-maintenance",
   "metadata": {},
   "source": [
    "### Step 0. 필요한 모듈 가져오기"
   ]
  },
  {
   "cell_type": "code",
   "execution_count": 11,
   "id": "digital-compensation",
   "metadata": {},
   "outputs": [],
   "source": [
    "import pandas as pd\n",
    "import urllib.request\n",
    "%matplotlib inline\n",
    "import matplotlib.pyplot as plt\n",
    "import re\n",
    "from konlpy.tag import Okt\n",
    "from tensorflow import keras\n",
    "from tensorflow.keras.preprocessing.text import Tokenizer\n",
    "import numpy as np\n",
    "from tensorflow.keras.preprocessing.sequence import pad_sequences\n",
    "from collections import Counter\n",
    "import os\n",
    "from tensorflow.keras.initializers import Constant"
   ]
  },
  {
   "cell_type": "markdown",
   "id": "stuck-building",
   "metadata": {},
   "source": [
    "### Step 1. 데이터 준비"
   ]
  },
  {
   "cell_type": "code",
   "execution_count": 12,
   "id": "alpine-independence",
   "metadata": {},
   "outputs": [
    {
     "data": {
      "text/html": [
       "<div>\n",
       "<style scoped>\n",
       "    .dataframe tbody tr th:only-of-type {\n",
       "        vertical-align: middle;\n",
       "    }\n",
       "\n",
       "    .dataframe tbody tr th {\n",
       "        vertical-align: top;\n",
       "    }\n",
       "\n",
       "    .dataframe thead th {\n",
       "        text-align: right;\n",
       "    }\n",
       "</style>\n",
       "<table border=\"1\" class=\"dataframe\">\n",
       "  <thead>\n",
       "    <tr style=\"text-align: right;\">\n",
       "      <th></th>\n",
       "      <th>id</th>\n",
       "      <th>document</th>\n",
       "      <th>label</th>\n",
       "    </tr>\n",
       "  </thead>\n",
       "  <tbody>\n",
       "    <tr>\n",
       "      <th>0</th>\n",
       "      <td>9976970</td>\n",
       "      <td>아 더빙.. 진짜 짜증나네요 목소리</td>\n",
       "      <td>0</td>\n",
       "    </tr>\n",
       "    <tr>\n",
       "      <th>1</th>\n",
       "      <td>3819312</td>\n",
       "      <td>흠...포스터보고 초딩영화줄....오버연기조차 가볍지 않구나</td>\n",
       "      <td>1</td>\n",
       "    </tr>\n",
       "    <tr>\n",
       "      <th>2</th>\n",
       "      <td>10265843</td>\n",
       "      <td>너무재밓었다그래서보는것을추천한다</td>\n",
       "      <td>0</td>\n",
       "    </tr>\n",
       "    <tr>\n",
       "      <th>3</th>\n",
       "      <td>9045019</td>\n",
       "      <td>교도소 이야기구먼 ..솔직히 재미는 없다..평점 조정</td>\n",
       "      <td>0</td>\n",
       "    </tr>\n",
       "    <tr>\n",
       "      <th>4</th>\n",
       "      <td>6483659</td>\n",
       "      <td>사이몬페그의 익살스런 연기가 돋보였던 영화!스파이더맨에서 늙어보이기만 했던 커스틴 ...</td>\n",
       "      <td>1</td>\n",
       "    </tr>\n",
       "  </tbody>\n",
       "</table>\n",
       "</div>"
      ],
      "text/plain": [
       "         id                                           document  label\n",
       "0   9976970                                아 더빙.. 진짜 짜증나네요 목소리      0\n",
       "1   3819312                  흠...포스터보고 초딩영화줄....오버연기조차 가볍지 않구나      1\n",
       "2  10265843                                  너무재밓었다그래서보는것을추천한다      0\n",
       "3   9045019                      교도소 이야기구먼 ..솔직히 재미는 없다..평점 조정      0\n",
       "4   6483659  사이몬페그의 익살스런 연기가 돋보였던 영화!스파이더맨에서 늙어보이기만 했던 커스틴 ...      1"
      ]
     },
     "execution_count": 12,
     "metadata": {},
     "output_type": "execute_result"
    }
   ],
   "source": [
    "train_data = pd.read_table('~/aiffel/sentiment_classification/data/ratings_train.txt')\n",
    "test_data = pd.read_table('~/aiffel/sentiment_classification/data/ratings_test.txt')\n",
    "\n",
    "train_data.head()"
   ]
  },
  {
   "cell_type": "code",
   "execution_count": 13,
   "id": "sudden-breed",
   "metadata": {},
   "outputs": [
    {
     "name": "stdout",
     "output_type": "stream",
     "text": [
      "(150000, 3)\n",
      "(50000, 3)\n"
     ]
    }
   ],
   "source": [
    "print(train_data.shape)\n",
    "print(test_data.shape)"
   ]
  },
  {
   "cell_type": "markdown",
   "id": "excessive-thumbnail",
   "metadata": {},
   "source": [
    "### Step 2. 데이터로더 구성\n",
    "\n",
    "nsmc 데이터셋은 전혀 가공되지 않은 텍스트 파일로 이루어져 있습니다. 이것을 읽어서 imdb.data_loader()와 동일하게 동작하는 자신만의 data_loader를 만들어 보는 것으로 시작합니다. data_loader 안에서는 다음을 수행해야 합니다.\n",
    "\n",
    "    1. 데이터의 중복 제거\n",
    "    2. NaN 결측치 제거\n",
    "    3. 한국어 토크나이저로 토큰화\n",
    "    4. 불용어(Stopwords) 제거\n",
    "    5. 사전word_to_index 구성\n",
    "    6. 텍스트 스트링을 사전 인덱스 스트링으로 변환\n",
    "    7. X_train, y_train, X_test, y_test, word_to_index 리턴"
   ]
  },
  {
   "cell_type": "code",
   "execution_count": 14,
   "id": "local-desperate",
   "metadata": {},
   "outputs": [],
   "source": [
    "from konlpy.tag import Mecab\n",
    "tokenizer = Mecab()\n",
    "stopwords = ['의','가','이','은','들','는','좀','잘','걍','과','도','를','으로','자','에','와','한','하다']\n",
    "\n",
    "def load_data(train_data, test_data, num_words=10000):\n",
    "    train_data.drop_duplicates(subset=['document'], inplace=True)\n",
    "    train_data = train_data.dropna(how = 'any') \n",
    "    test_data.drop_duplicates(subset=['document'], inplace=True)\n",
    "    test_data = test_data.dropna(how = 'any') \n",
    "    \n",
    "    X_train = []\n",
    "    for sentence in train_data['document']:\n",
    "        temp_X = tokenizer.morphs(sentence) # 토큰화\n",
    "        temp_X = [word for word in temp_X if not word in stopwords] # 불용어 제거\n",
    "        X_train.append(temp_X)\n",
    "\n",
    "    X_test = []\n",
    "    for sentence in test_data['document']:\n",
    "        temp_X = tokenizer.morphs(sentence) # 토큰화\n",
    "        temp_X = [word for word in temp_X if not word in stopwords] # 불용어 제거\n",
    "        X_test.append(temp_X)\n",
    "    \n",
    "    words = np.concatenate(X_train).tolist()\n",
    "    counter = Counter(words)\n",
    "    counter = counter.most_common(10000-4)\n",
    "    vocab = ['', '', '', ''] + [key for key, _ in counter]\n",
    "    word_to_index = {word:index for index, word in enumerate(vocab)}\n",
    "    \n",
    "    def wordlist_to_indexlist(wordlist):\n",
    "        return [word_to_index[word] if word in word_to_index else word_to_index[''] for word in wordlist]\n",
    "        \n",
    "    X_train = list(map(wordlist_to_indexlist, X_train))\n",
    "    X_test = list(map(wordlist_to_indexlist, X_test))\n",
    "        \n",
    "    return X_train, np.array(list(train_data['label'])), X_test, np.array(list(test_data['label'])), word_to_index\n",
    "    \n",
    "X_train, y_train, X_test, y_test, word_to_index = load_data(train_data, test_data)"
   ]
  },
  {
   "cell_type": "code",
   "execution_count": 15,
   "id": "great-invalid",
   "metadata": {},
   "outputs": [
    {
     "data": {
      "text/plain": [
       "[8409, 158, 3925, 4, 4, 298, 94, 17, 6, 4, 4, 58, 3479]"
      ]
     },
     "execution_count": 15,
     "metadata": {},
     "output_type": "execute_result"
    }
   ],
   "source": [
    "X_train[3]"
   ]
  },
  {
   "cell_type": "code",
   "execution_count": 16,
   "id": "sharp-margin",
   "metadata": {},
   "outputs": [],
   "source": [
    "# 몇가지 추가해 주기\n",
    "word_to_index[\"<PAD>\"] = 0\n",
    "word_to_index[\"<BOS>\"] = 1\n",
    "word_to_index[\"<UNK>\"] = 2  # unknown\n",
    "word_to_index[\"<UNUSED>\"] = 3"
   ]
  },
  {
   "cell_type": "code",
   "execution_count": 17,
   "id": "operating-peace",
   "metadata": {},
   "outputs": [],
   "source": [
    "index_to_word = {index:word for word, index in word_to_index.items()}"
   ]
  },
  {
   "cell_type": "code",
   "execution_count": 18,
   "id": "recognized-belfast",
   "metadata": {},
   "outputs": [
    {
     "name": "stdout",
     "output_type": "stream",
     "text": [
      "10001\n"
     ]
    }
   ],
   "source": [
    "print(len(word_to_index.keys()))"
   ]
  },
  {
   "cell_type": "code",
   "execution_count": 19,
   "id": "healthy-union",
   "metadata": {},
   "outputs": [],
   "source": [
    "index_to_word = {index:word for word, index in word_to_index.items()}"
   ]
  },
  {
   "cell_type": "code",
   "execution_count": 20,
   "id": "nasty-emerald",
   "metadata": {},
   "outputs": [],
   "source": [
    "# 문장 1개를 활용할 딕셔너리와 함께 주면, 단어 인덱스 리스트 벡터로 변환해 주는 함수입니다. \n",
    "# 단, 모든 문장은 <BOS>로 시작하는 것으로 합니다. \n",
    "def get_encoded_sentence(sentence, word_to_index):\n",
    "    return [word_to_index['<BOS>']]+[word_to_index[word] if word in word_to_index else word_to_index['<UNK>'] for word in sentence.split()]\n",
    "\n",
    "# 여러 개의 문장 리스트를 한꺼번에 단어 인덱스 리스트 벡터로 encode해 주는 함수입니다. \n",
    "def get_encoded_sentences(sentences, word_to_index):\n",
    "    return [get_encoded_sentence(sentence, word_to_index) for sentence in sentences]\n",
    "\n",
    "# 숫자 벡터로 encode된 문장을 원래대로 decode하는 함수입니다. \n",
    "def get_decoded_sentence(encoded_sentence, index_to_word):\n",
    "    return ' '.join(index_to_word[index] if index in index_to_word else '<UNK>' for index in encoded_sentence[1:])  #[1:]를 통해 <BOS>를 제외\n",
    "\n",
    "# 여러 개의 숫자 벡터로 encode된 문장을 한꺼번에 원래대로 decode하는 함수입니다. \n",
    "def get_decoded_sentences(encoded_sentences, index_to_word):\n",
    "    return [get_decoded_sentence(encoded_sentence, index_to_word) for encoded_sentence in encoded_sentences]"
   ]
  },
  {
   "cell_type": "code",
   "execution_count": 21,
   "id": "copyrighted-soldier",
   "metadata": {},
   "outputs": [
    {
     "name": "stdout",
     "output_type": "stream",
     "text": [
      "[32, 74, 919, 4, 4, 39, 228, 20, 33, 748]\n",
      "더 빙 . . 진짜 짜증 나 네요 목소리\n"
     ]
    }
   ],
   "source": [
    "print(X_train[0])\n",
    "print(get_decoded_sentence(X_train[0], index_to_word))"
   ]
  },
  {
   "cell_type": "markdown",
   "id": "capable-checklist",
   "metadata": {},
   "source": [
    "### Step 3. 모델구성을 위한 데이터 분석 및 가공\n",
    "\n",
    "* 데이터셋 내 문장 길이 분포\n",
    "* 적절한 최대 문장 길이 지정 - 설정값은 95%의 데이터를 수용할 수준으로 해준다. \n",
    "* keras.preprocessing.sequence.pad_sequences 을 활용한 패딩 추가 - 'pre' 사용"
   ]
  },
  {
   "cell_type": "code",
   "execution_count": 22,
   "id": "hispanic-enzyme",
   "metadata": {},
   "outputs": [
    {
     "name": "stdout",
     "output_type": "stream",
     "text": [
      "문장길이 평균 :  15.96940191154864\n",
      "문장길이 최대 :  116\n",
      "문장길이 표준편차 :  12.843571191092\n",
      "pad_sequences maxlen :  48\n",
      "전체 문장의 0.9548784420929768%가 maxlen 설정값 이내에 포함됩니다. \n"
     ]
    }
   ],
   "source": [
    "# 텍스트데이터 문장길이의 리스트를 생성\n",
    "total_data_text = list(X_train) + list(X_test)\n",
    "num_tokens = [len(tokens) for tokens in total_data_text]\n",
    "num_tokens = np.array(num_tokens)\n",
    "\n",
    "# 문장길이의 평균값, 최대값, 표준편차를 계산해 본다. \n",
    "print('문장길이 평균 : ', np.mean(num_tokens))\n",
    "print('문장길이 최대 : ', np.max(num_tokens))\n",
    "print('문장길이 표준편차 : ', np.std(num_tokens))\n",
    "\n",
    "# 95% 문장 포함  \n",
    "max_tokens = np.mean(num_tokens) + 2.5 * np.std(num_tokens)\n",
    "maxlen = int(max_tokens)\n",
    "print('pad_sequences maxlen : ', maxlen)\n",
    "print('전체 문장의 {}%가 maxlen 설정값 이내에 포함됩니다. '.format(np.sum(num_tokens < max_tokens) / len(num_tokens)))"
   ]
  },
  {
   "cell_type": "code",
   "execution_count": 23,
   "id": "touched-capability",
   "metadata": {},
   "outputs": [
    {
     "name": "stdout",
     "output_type": "stream",
     "text": [
      "(146182, 48)\n"
     ]
    }
   ],
   "source": [
    "# padding = pre\n",
    "X_train = keras.preprocessing.sequence.pad_sequences(X_train,\n",
    "                                                        value=word_to_index[\"<PAD>\"],\n",
    "                                                        padding='pre', \n",
    "                                                        maxlen=maxlen)\n",
    "\n",
    "X_test = keras.preprocessing.sequence.pad_sequences(X_test,\n",
    "                                                       value=word_to_index[\"<PAD>\"],\n",
    "                                                       padding='pre', \n",
    "                                                       maxlen=maxlen)\n",
    "\n",
    "print(X_train.shape)"
   ]
  },
  {
   "cell_type": "markdown",
   "id": "increasing-latest",
   "metadata": {},
   "source": [
    "### Step 4. validation set 구성\n",
    "* approx. 60% (88,182)- train set    \n",
    "* approx. 40% (58,000) - validation set"
   ]
  },
  {
   "cell_type": "code",
   "execution_count": 24,
   "id": "varied-sequence",
   "metadata": {},
   "outputs": [
    {
     "name": "stdout",
     "output_type": "stream",
     "text": [
      "58472.8\n"
     ]
    }
   ],
   "source": [
    "print(len(X_train)*0.4)"
   ]
  },
  {
   "cell_type": "code",
   "execution_count": 25,
   "id": "patent-retirement",
   "metadata": {},
   "outputs": [
    {
     "name": "stdout",
     "output_type": "stream",
     "text": [
      "(88182, 48)\n",
      "(88182,)\n",
      "(58000, 48)\n",
      "(58000,)\n"
     ]
    }
   ],
   "source": [
    "# validation set 분리\n",
    "X_val = X_train[:58000]   \n",
    "y_val = y_train[:58000]\n",
    "\n",
    "# validation set을 제외한 나머지 \n",
    "partial_x_train = X_train[58000:]  \n",
    "partial_y_train = y_train[58000:]\n",
    "\n",
    "print(partial_x_train.shape)\n",
    "print(partial_y_train.shape)\n",
    "print(X_val.shape)\n",
    "print(y_val.shape)"
   ]
  },
  {
   "cell_type": "markdown",
   "id": "ultimate-acceptance",
   "metadata": {},
   "source": [
    "### Step 5. 모델 만들고, 훈련 및 평가하기 \n",
    "\n",
    "model3가 가장 좋은 성능을 보인다. \n",
    "\n",
    "metrics|model1(LSTM)| model2(CNN)| model3(CNN/LSTM)\n",
    "---|---|---|---\n",
    "loss|0.4|0.49|0.38\n",
    "accuracy|0.84|0.81|0.84"
   ]
  },
  {
   "cell_type": "markdown",
   "id": "occupied-senate",
   "metadata": {},
   "source": [
    "### Model 1 (sequential model/LSTM)\n",
    "\n",
    "텐서플로우 웹사이트에 의하면, sequential model 은 layers을 쌓기 좋고 각 각의 layer들은 하나의 input tensor와 하나의 output tensor를 갖는다. \n",
    "\n",
    "영화리뷰는 각 리뷰마다, 단어가 한개씩 순차적으로 들어가서 학습되고, 한개의 output이 나오므로, sequential 모델이 적합한것 같다.   \n",
    "\n",
    "RNN/LSTM: 영화리뷰는 각 문장에서 단어들의 상관관계가 중요하다. 예를 들어, 같은 단어라고 해도 문장에서 어떻게 쓰였느냐에 따라서 의미가 달라질 수 있기 때문이다. 그리고 언어는 단어들이 나열된 순서에 따라서 학습되야 한다. 말의 의미는 사용된 단어, 순서에 따라서 의미를 갖는다. 그런 의미에서 RNN은 영화리뷰에 적합한 알고리즘인 것 같다. 특히 RNN중에서도 LSTM을 쓴 이유는, LSTM은 long-term memory기능이 뛰어나기 때문이다. 이 알고리즘은 문장의 처음부터 쓰였던 단어들이 나중에 쓰이는 단어들의 input에 반영되기 때문에 한 문장 안에서 단어들이 바로 붙어 있지 않아도 상관관계를 파악하는데 유용하다. "
   ]
  },
  {
   "cell_type": "markdown",
   "id": "roman-fashion",
   "metadata": {},
   "source": [
    "### Model 1 구성"
   ]
  },
  {
   "cell_type": "code",
   "execution_count": 26,
   "id": "material-houston",
   "metadata": {},
   "outputs": [
    {
     "name": "stdout",
     "output_type": "stream",
     "text": [
      "Model: \"sequential\"\n",
      "_________________________________________________________________\n",
      "Layer (type)                 Output Shape              Param #   \n",
      "=================================================================\n",
      "embedding (Embedding)        (None, None, 16)          160016    \n",
      "_________________________________________________________________\n",
      "lstm (LSTM)                  (None, 16)                2112      \n",
      "_________________________________________________________________\n",
      "dense (Dense)                (None, 8)                 136       \n",
      "_________________________________________________________________\n",
      "dense_1 (Dense)              (None, 1)                 9         \n",
      "=================================================================\n",
      "Total params: 162,273\n",
      "Trainable params: 162,273\n",
      "Non-trainable params: 0\n",
      "_________________________________________________________________\n"
     ]
    }
   ],
   "source": [
    "vocab_size = 10001    \n",
    "word_vector_dim = 16  \n",
    "\n",
    "model1 = keras.Sequential()\n",
    "\n",
    "model1.add(keras.layers.Embedding(vocab_size, word_vector_dim, input_shape=(None,)))\n",
    "model1.add(keras.layers.LSTM(16))          \n",
    "model1.add(keras.layers.Dense(8, activation='relu'))\n",
    "model1.add(keras.layers.Dense(1, activation='sigmoid'))\n",
    "         \n",
    "model1.summary()"
   ]
  },
  {
   "cell_type": "markdown",
   "id": "mexican-count",
   "metadata": {},
   "source": [
    "### Model1 훈련\n",
    "* 처음에 epoch를 15로 설정했다. \n",
    "* epoch 별로 accuracy, loss를 시각화 후, epoch 10이후부터 validation loss가 올라가기 시작해서 epoch를 다시 10으로 조정해줬다.  "
   ]
  },
  {
   "cell_type": "code",
   "execution_count": 27,
   "id": "engaging-tenant",
   "metadata": {},
   "outputs": [
    {
     "name": "stdout",
     "output_type": "stream",
     "text": [
      "Epoch 1/10\n",
      "173/173 [==============================] - 6s 17ms/step - loss: 0.6219 - accuracy: 0.6745 - val_loss: 0.3783 - val_accuracy: 0.8374\n",
      "Epoch 2/10\n",
      "173/173 [==============================] - 3s 15ms/step - loss: 0.3498 - accuracy: 0.8532 - val_loss: 0.3529 - val_accuracy: 0.8471\n",
      "Epoch 3/10\n",
      "173/173 [==============================] - 3s 15ms/step - loss: 0.3180 - accuracy: 0.8666 - val_loss: 0.3493 - val_accuracy: 0.8491\n",
      "Epoch 4/10\n",
      "173/173 [==============================] - 3s 15ms/step - loss: 0.3027 - accuracy: 0.8748 - val_loss: 0.3585 - val_accuracy: 0.8464\n",
      "Epoch 5/10\n",
      "173/173 [==============================] - 3s 15ms/step - loss: 0.2887 - accuracy: 0.8826 - val_loss: 0.3548 - val_accuracy: 0.8479\n",
      "Epoch 6/10\n",
      "173/173 [==============================] - 3s 14ms/step - loss: 0.2821 - accuracy: 0.8864 - val_loss: 0.3614 - val_accuracy: 0.8471\n",
      "Epoch 7/10\n",
      "173/173 [==============================] - 3s 15ms/step - loss: 0.2718 - accuracy: 0.8886 - val_loss: 0.3634 - val_accuracy: 0.8466\n",
      "Epoch 8/10\n",
      "173/173 [==============================] - 3s 15ms/step - loss: 0.2627 - accuracy: 0.8945 - val_loss: 0.3707 - val_accuracy: 0.8413\n",
      "Epoch 9/10\n",
      "173/173 [==============================] - 2s 14ms/step - loss: 0.2498 - accuracy: 0.9007 - val_loss: 0.3750 - val_accuracy: 0.8459\n",
      "Epoch 10/10\n",
      "173/173 [==============================] - 2s 14ms/step - loss: 0.2394 - accuracy: 0.9054 - val_loss: 0.3834 - val_accuracy: 0.8437\n"
     ]
    }
   ],
   "source": [
    "model1.compile(optimizer='Adam', loss='binary_crossentropy', metrics=['accuracy'])\n",
    "epochs1=10\n",
    "history = model1.fit(partial_x_train,\n",
    "                    partial_y_train,\n",
    "                    epochs=epochs1,\n",
    "                    batch_size=512,\n",
    "                    validation_data=(X_val, y_val),\n",
    "                    verbose=1)\n"
   ]
  },
  {
   "cell_type": "markdown",
   "id": "aerial-replica",
   "metadata": {},
   "source": [
    "### Model 1 평가 \n",
    "\n",
    "* loss = 0.40\n",
    "* accuracy = 0.84"
   ]
  },
  {
   "cell_type": "code",
   "execution_count": 28,
   "id": "impressive-digest",
   "metadata": {},
   "outputs": [
    {
     "name": "stdout",
     "output_type": "stream",
     "text": [
      "1537/1537 - 6s - loss: 0.3967 - accuracy: 0.8375\n",
      "[0.39665454626083374, 0.8374798893928528]\n"
     ]
    }
   ],
   "source": [
    "model1_result = model1.evaluate(X_test, y_test, verbose=2)\n",
    "print(model1_result)"
   ]
  },
  {
   "cell_type": "code",
   "execution_count": 29,
   "id": "hollow-chase",
   "metadata": {},
   "outputs": [
    {
     "name": "stdout",
     "output_type": "stream",
     "text": [
      "dict_keys(['loss', 'accuracy', 'val_loss', 'val_accuracy'])\n"
     ]
    }
   ],
   "source": [
    "history_dict = history.history\n",
    "print(history_dict.keys()) # epoch에 따른 그래프를 그려볼 수 있는 항목들"
   ]
  },
  {
   "cell_type": "code",
   "execution_count": 30,
   "id": "unlikely-driver",
   "metadata": {},
   "outputs": [
    {
     "data": {
      "image/png": "[encoded data removed]",
      "text/plain": [
       "<Figure size 432x288 with 1 Axes>"
      ]
     },
     "metadata": {
      "needs_background": "light"
     },
     "output_type": "display_data"
    }
   ],
   "source": [
    "acc = history_dict['accuracy']\n",
    "val_acc = history_dict['val_accuracy']\n",
    "loss = history_dict['loss']\n",
    "val_loss = history_dict['val_loss']\n",
    "\n",
    "epochs = range(1, len(acc) + 1)\n",
    "\n",
    "# red line\n",
    "plt.plot(epochs, loss, 'r', label='Training loss')\n",
    "# blue line\n",
    "plt.plot(epochs, val_loss, 'b', label='Validation loss')\n",
    "plt.title('Training and validation loss')\n",
    "plt.xlabel('Epochs')\n",
    "plt.ylabel('Loss')\n",
    "plt.legend()\n",
    "\n",
    "plt.show()"
   ]
  },
  {
   "cell_type": "code",
   "execution_count": 31,
   "id": "entire-interaction",
   "metadata": {},
   "outputs": [
    {
     "data": {
      "image/png": "[encoded data removed]",
      "text/plain": [
       "<Figure size 432x288 with 1 Axes>"
      ]
     },
     "metadata": {
      "needs_background": "light"
     },
     "output_type": "display_data"
    }
   ],
   "source": [
    "plt.clf()   # 그림을 초기화합니다\n",
    "\n",
    "plt.plot(epochs, acc, 'r', label='Training acc')\n",
    "plt.plot(epochs, val_acc, 'b', label='Validation acc')\n",
    "plt.title('Training and validation accuracy')\n",
    "plt.xlabel('Epochs')\n",
    "plt.ylabel('Accuracy')\n",
    "plt.legend()\n",
    "\n",
    "plt.show()"
   ]
  },
  {
   "cell_type": "markdown",
   "id": "ahead-tracker",
   "metadata": {},
   "source": [
    "### Model 2. CNN (Conv1D/GlobalMaxPooling1D) \n",
    "\n",
    "Model1과 같은 sequential model을 사용했다. LSTM대신 CNN의 Conv1D/MaxPooling1D레이어를 두번 사용했다. \n",
    "\n",
    "* Conv1D: This layer creates a convolution kernel that is convolved with the layer input over a single spatial (or temporal) dimension to produce a tensor of outputs.\n",
    "    * filters: An interger, the dimensionality of the output space (i.e. the number of output filters in the convolution).\n",
    "    * kernel size: An integer or tuple/list of a single integer, specifying the length of the 1D convolution window. I tried using a number higher than 7, but it caused an error. I need to investimate why the kernal size is limited to 7. The error message noted that the error is due to a negative dimension size caused by subtracting kernal_size that I set from 7. (error msg: Negative dimension size caused by subtracting 12 from 7 for '{{node sequential_3/conv1d_5/conv1d}} = Conv2D[T=DT_FLOAT, data_format=\"NHWC\", dilations=[1, 1, 1, 1], explicit_paddings=[], padding=\"VALID\", strides=[1, 1, 1, 1], use_cudnn_on_gpu=true](sequential_3/conv1d_5/conv1d/ExpandDims, sequential_3/conv1d_5/conv1d/ExpandDims_1)' with input shapes: [?,1,7,16], [1,12,16,16].)   \n",
    "* MaxPooling1D: A type of downsampling for one dimension data. Downsamples the input representation by taking the maximum value over a spatial window of size pool_size. The window is shifted by strides. The resulting output, when using the \"valid\" padding option, has a shape of: output_shape = (input_shape - pool_size + 1) / strides)\n",
    "    * pool_size: Integer, size of the max pooling window.\n",
    "    * strides: Specifies how much the pooling window moves for each pooling step. If None, it will default to pool_size.\n",
    "* global max pooling 1D: Downsamples the input representation by taking the maximum value over the time dimension.\n",
    "* Embedding: \n",
    "    * Input_shape: 2D tensor with shape: (batch_size, input_length)\n",
    "    * Output_shape: 3D tensor with shape: (batch_size, input_length, output_dim)\n"
   ]
  },
  {
   "cell_type": "code",
   "execution_count": 32,
   "id": "absent-filing",
   "metadata": {},
   "outputs": [
    {
     "name": "stdout",
     "output_type": "stream",
     "text": [
      "Model: \"sequential_1\"\n",
      "_________________________________________________________________\n",
      "Layer (type)                 Output Shape              Param #   \n",
      "=================================================================\n",
      "embedding_1 (Embedding)      (None, None, 16)          160016    \n",
      "_________________________________________________________________\n",
      "conv1d (Conv1D)              (None, None, 16)          1808      \n",
      "_________________________________________________________________\n",
      "max_pooling1d (MaxPooling1D) (None, None, 16)          0         \n",
      "_________________________________________________________________\n",
      "conv1d_1 (Conv1D)            (None, None, 16)          1808      \n",
      "_________________________________________________________________\n",
      "global_max_pooling1d (Global (None, 16)                0         \n",
      "_________________________________________________________________\n",
      "dense_2 (Dense)              (None, 8)                 136       \n",
      "_________________________________________________________________\n",
      "dense_3 (Dense)              (None, 1)                 9         \n",
      "=================================================================\n",
      "Total params: 163,777\n",
      "Trainable params: 163,777\n",
      "Non-trainable params: 0\n",
      "_________________________________________________________________\n"
     ]
    }
   ],
   "source": [
    "# 모델 만들기 \n",
    "vocab_size = 10001  \n",
    "word_vector_dim = 16   \n",
    "\n",
    "model2 = keras.Sequential()\n",
    "\n",
    "model2.add(keras.layers.Embedding(vocab_size, word_vector_dim, input_shape=(None,)))\n",
    "model2.add(keras.layers.Conv1D(16, 7, activation='relu'))\n",
    "model2.add(keras.layers.MaxPooling1D(5))\n",
    "model2.add(keras.layers.Conv1D(16, 7, activation='relu'))\n",
    "model2.add(keras.layers.GlobalMaxPooling1D())\n",
    "model2.add(keras.layers.Dense(8, activation='relu'))\n",
    "model2.add(keras.layers.Dense(1, activation='sigmoid'))  # 최종 출력은 긍정/부정을 나타내는 1dim 입니다.\n",
    "\n",
    "model2.summary()"
   ]
  },
  {
   "cell_type": "markdown",
   "id": "express-cross",
   "metadata": {},
   "source": [
    "### Model 2 훈련 \n",
    "\n",
    "* 처음에 epochs를 10로 지정.\n",
    "* epoch에 따른 accuracy와 loss를 시각화한후, epochs를 8로 바꿔서 다시 돌려주었다. "
   ]
  },
  {
   "cell_type": "code",
   "execution_count": 33,
   "id": "comparative-instruction",
   "metadata": {},
   "outputs": [
    {
     "name": "stdout",
     "output_type": "stream",
     "text": [
      "Epoch 1/8\n",
      "173/173 [==============================] - 8s 28ms/step - loss: 0.6644 - accuracy: 0.5799 - val_loss: 0.4286 - val_accuracy: 0.8020\n",
      "Epoch 2/8\n",
      "173/173 [==============================] - 2s 10ms/step - loss: 0.3944 - accuracy: 0.8238 - val_loss: 0.3963 - val_accuracy: 0.8156\n",
      "Epoch 3/8\n",
      "173/173 [==============================] - 2s 10ms/step - loss: 0.3472 - accuracy: 0.8468 - val_loss: 0.3937 - val_accuracy: 0.8168\n",
      "Epoch 4/8\n",
      "173/173 [==============================] - 2s 10ms/step - loss: 0.3214 - accuracy: 0.8626 - val_loss: 0.3971 - val_accuracy: 0.8178\n",
      "Epoch 5/8\n",
      "173/173 [==============================] - 2s 10ms/step - loss: 0.2980 - accuracy: 0.8733 - val_loss: 0.4080 - val_accuracy: 0.8181\n",
      "Epoch 6/8\n",
      "173/173 [==============================] - 2s 10ms/step - loss: 0.2654 - accuracy: 0.8905 - val_loss: 0.4213 - val_accuracy: 0.8170\n",
      "Epoch 7/8\n",
      "173/173 [==============================] - 2s 10ms/step - loss: 0.2351 - accuracy: 0.9057 - val_loss: 0.4441 - val_accuracy: 0.8134\n",
      "Epoch 8/8\n",
      "173/173 [==============================] - 2s 10ms/step - loss: 0.2069 - accuracy: 0.9194 - val_loss: 0.4756 - val_accuracy: 0.8099\n"
     ]
    }
   ],
   "source": [
    "model2.compile(optimizer='Adam', loss='binary_crossentropy', metrics=['accuracy'])\n",
    "epochs2=8\n",
    "history2 = model2.fit(partial_x_train,\n",
    "                    partial_y_train,\n",
    "                    epochs=epochs2,\n",
    "                    batch_size=512,\n",
    "                    validation_data=(X_val, y_val),\n",
    "                    verbose=1)"
   ]
  },
  {
   "cell_type": "markdown",
   "id": "blank-framework",
   "metadata": {},
   "source": [
    "### Model2 평가 \n",
    "\n",
    "* loss: 0.49\n",
    "* accuracy: 0.81"
   ]
  },
  {
   "cell_type": "code",
   "execution_count": 34,
   "id": "collective-injury",
   "metadata": {},
   "outputs": [
    {
     "name": "stdout",
     "output_type": "stream",
     "text": [
      "1537/1537 - 4s - loss: 0.4891 - accuracy: 0.8048\n",
      "[0.48907026648521423, 0.8047887086868286]\n"
     ]
    }
   ],
   "source": [
    "model2_result = model2.evaluate(X_test, y_test, verbose=2)\n",
    "print(model2_result)"
   ]
  },
  {
   "cell_type": "code",
   "execution_count": 35,
   "id": "spatial-pendant",
   "metadata": {},
   "outputs": [
    {
     "name": "stdout",
     "output_type": "stream",
     "text": [
      "dict_keys(['loss', 'accuracy', 'val_loss', 'val_accuracy'])\n"
     ]
    }
   ],
   "source": [
    "history_dict2 = history2.history\n",
    "print(history_dict2.keys()) # epoch에 따른 그래프를 그려볼 수 있는 항목들"
   ]
  },
  {
   "cell_type": "code",
   "execution_count": 36,
   "id": "entertaining-monroe",
   "metadata": {},
   "outputs": [
    {
     "data": {
      "image/png": "[encoded data removed]",
      "text/plain": [
       "<Figure size 432x288 with 1 Axes>"
      ]
     },
     "metadata": {
      "needs_background": "light"
     },
     "output_type": "display_data"
    }
   ],
   "source": [
    "plt.clf() \n",
    "\n",
    "acc2 = history_dict2['accuracy']\n",
    "val_acc2 = history_dict2['val_accuracy']\n",
    "loss2 = history_dict2['loss']\n",
    "val_loss2 = history_dict2['val_loss']\n",
    "\n",
    "epochs = range(1, len(acc2) + 1)\n",
    "\n",
    "# red line\n",
    "plt.plot(epochs, loss2, 'r', label='Training loss')\n",
    "# blue line\n",
    "plt.plot(epochs, val_loss2, 'b', label='Validation loss')\n",
    "plt.title('Training and validation loss')\n",
    "plt.xlabel('Epochs')\n",
    "plt.ylabel('Loss')\n",
    "plt.legend()\n",
    "\n",
    "plt.show()"
   ]
  },
  {
   "cell_type": "code",
   "execution_count": 37,
   "id": "sapphire-replica",
   "metadata": {},
   "outputs": [
    {
     "data": {
      "image/png": "[encoded data removed]",
      "text/plain": [
       "<Figure size 432x288 with 1 Axes>"
      ]
     },
     "metadata": {
      "needs_background": "light"
     },
     "output_type": "display_data"
    }
   ],
   "source": [
    "plt.clf()   # 그림을 초기화합니다\n",
    "\n",
    "plt.plot(epochs, acc2, 'r', label='Training acc')\n",
    "plt.plot(epochs, val_acc2, 'b', label='Validation acc')\n",
    "plt.title('Training and validation accuracy')\n",
    "plt.xlabel('Epochs')\n",
    "plt.ylabel('Accuracy')\n",
    "plt.legend()\n",
    "\n",
    "plt.show()"
   ]
  },
  {
   "cell_type": "markdown",
   "id": "accomplished-crime",
   "metadata": {},
   "source": [
    "### Model 3 (CNN/LSTM)\n",
    "* Model 1, 2와 같이 sequential 방법으로 CNN, LSTM을 쌓아주었다. \n",
    "* 훈련결과 training accuracy/loss 는 잘 나왔는데 validation 은 값이 epoch 가 지남에 있어서 변화가 미비하고 초기 loss 값이 너무 높았다. regularization 을 해 줄수 있는 방법을 고민하다 dropout layer를 추가해줬다. "
   ]
  },
  {
   "cell_type": "code",
   "execution_count": 38,
   "id": "changed-american",
   "metadata": {},
   "outputs": [
    {
     "name": "stdout",
     "output_type": "stream",
     "text": [
      "Model: \"sequential_2\"\n",
      "_________________________________________________________________\n",
      "Layer (type)                 Output Shape              Param #   \n",
      "=================================================================\n",
      "embedding_2 (Embedding)      (None, None, 16)          160016    \n",
      "_________________________________________________________________\n",
      "conv1d_2 (Conv1D)            (None, None, 16)          1808      \n",
      "_________________________________________________________________\n",
      "max_pooling1d_1 (MaxPooling1 (None, None, 16)          0         \n",
      "_________________________________________________________________\n",
      "lstm_1 (LSTM)                (None, 16)                2112      \n",
      "_________________________________________________________________\n",
      "dense_4 (Dense)              (None, 8)                 136       \n",
      "_________________________________________________________________\n",
      "dropout (Dropout)            (None, 8)                 0         \n",
      "_________________________________________________________________\n",
      "dense_5 (Dense)              (None, 1)                 9         \n",
      "=================================================================\n",
      "Total params: 164,081\n",
      "Trainable params: 164,081\n",
      "Non-trainable params: 0\n",
      "_________________________________________________________________\n"
     ]
    }
   ],
   "source": [
    "vocab_size = 10001  \n",
    "word_vector_dim = 16   \n",
    "\n",
    "model3 = keras.Sequential()\n",
    "\n",
    "model3.add(keras.layers.Embedding(vocab_size, word_vector_dim, input_shape=(None,)))\n",
    "model3.add(keras.layers.Conv1D(16, 7, activation='relu'))\n",
    "model3.add(keras.layers.MaxPooling1D(2))\n",
    "model3.add(keras.layers.LSTM(16))   \n",
    "model3.add(keras.layers.Dense(8, activation='relu'))\n",
    "model3.add(keras.layers.Dropout(0.5))\n",
    "model3.add(keras.layers.Dense(1, activation='sigmoid'))  # 최종 출력은 긍정/부정을 나타내는 1dim 입니다.\n",
    "\n",
    "model3.summary()"
   ]
  },
  {
   "cell_type": "markdown",
   "id": "heavy-toolbox",
   "metadata": {},
   "source": [
    "### Model 3 훈련\n",
    "* epoch를 처음에 10으로 잡았는데, validation loss/accuracy의 성능이 epoch 5를 지나면서 떨어지는 양상을 보였다. \n",
    "* 그래서 epoch 를 5로 변경해주었다. "
   ]
  },
  {
   "cell_type": "code",
   "execution_count": 39,
   "id": "imposed-aging",
   "metadata": {},
   "outputs": [
    {
     "name": "stdout",
     "output_type": "stream",
     "text": [
      "Epoch 1/5\n",
      "173/173 [==============================] - 5s 17ms/step - loss: 0.6547 - accuracy: 0.5964 - val_loss: 0.4467 - val_accuracy: 0.8267\n",
      "Epoch 2/5\n",
      "173/173 [==============================] - 2s 14ms/step - loss: 0.4718 - accuracy: 0.7983 - val_loss: 0.3916 - val_accuracy: 0.8434\n",
      "Epoch 3/5\n",
      "173/173 [==============================] - 2s 14ms/step - loss: 0.4311 - accuracy: 0.8188 - val_loss: 0.3739 - val_accuracy: 0.8435\n",
      "Epoch 4/5\n",
      "173/173 [==============================] - 2s 14ms/step - loss: 0.3950 - accuracy: 0.8532 - val_loss: 0.3679 - val_accuracy: 0.8443\n",
      "Epoch 5/5\n",
      "173/173 [==============================] - 2s 14ms/step - loss: 0.3647 - accuracy: 0.8721 - val_loss: 0.3751 - val_accuracy: 0.8483\n"
     ]
    }
   ],
   "source": [
    "model3.compile(optimizer='Adam', loss='binary_crossentropy', metrics=['accuracy'])\n",
    "epochs3=5\n",
    "history3 = model3.fit(partial_x_train,\n",
    "                    partial_y_train,\n",
    "                    epochs=epochs3,\n",
    "                    batch_size=512,\n",
    "                    validation_data=(X_val, y_val),\n",
    "                    verbose=1)"
   ]
  },
  {
   "cell_type": "markdown",
   "id": "strategic-insider",
   "metadata": {},
   "source": [
    "### Model 3 평가\n",
    "* loss: 0.38\n",
    "* accuracy: 0.84"
   ]
  },
  {
   "cell_type": "code",
   "execution_count": 40,
   "id": "homeless-sleep",
   "metadata": {},
   "outputs": [
    {
     "name": "stdout",
     "output_type": "stream",
     "text": [
      "1537/1537 - 4s - loss: 0.3828 - accuracy: 0.8445\n",
      "[0.3827992379665375, 0.8445389270782471]\n"
     ]
    }
   ],
   "source": [
    "model3_result = model3.evaluate(X_test, y_test, verbose=2)\n",
    "print(model3_result)"
   ]
  },
  {
   "cell_type": "code",
   "execution_count": 41,
   "id": "understanding-promise",
   "metadata": {},
   "outputs": [
    {
     "name": "stdout",
     "output_type": "stream",
     "text": [
      "dict_keys(['loss', 'accuracy', 'val_loss', 'val_accuracy'])\n"
     ]
    }
   ],
   "source": [
    "history_dict3 = history3.history\n",
    "print(history_dict3.keys()) # epoch에 따른 그래프를 그려볼 수 있는 항목들"
   ]
  },
  {
   "cell_type": "code",
   "execution_count": 42,
   "id": "behind-activity",
   "metadata": {},
   "outputs": [
    {
     "data": {
      "image/png": "[encoded data removed]",
      "text/plain": [
       "<Figure size 432x288 with 1 Axes>"
      ]
     },
     "metadata": {
      "needs_background": "light"
     },
     "output_type": "display_data"
    }
   ],
   "source": [
    "plt.clf() \n",
    "\n",
    "acc3 = history_dict3['accuracy']\n",
    "val_acc3 = history_dict3['val_accuracy']\n",
    "loss3 = history_dict3['loss']\n",
    "val_loss3 = history_dict3['val_loss']\n",
    "\n",
    "epochs = range(1, len(acc3) + 1)\n",
    "\n",
    "# red line\n",
    "plt.plot(epochs, loss3, 'r', label='Training loss')\n",
    "# blue line\n",
    "plt.plot(epochs, val_loss3, 'b', label='Validation loss')\n",
    "plt.title('Training and validation loss')\n",
    "plt.xlabel('Epochs')\n",
    "plt.ylabel('Loss')\n",
    "plt.legend()\n",
    "\n",
    "plt.show()"
   ]
  },
  {
   "cell_type": "code",
   "execution_count": 43,
   "id": "insured-compromise",
   "metadata": {},
   "outputs": [
    {
     "data": {
      "image/png": "[encoded data removed]",
      "text/plain": [
       "<Figure size 432x288 with 1 Axes>"
      ]
     },
     "metadata": {
      "needs_background": "light"
     },
     "output_type": "display_data"
    }
   ],
   "source": [
    "plt.clf()   # 그림을 초기화합니다\n",
    "\n",
    "plt.plot(epochs, acc3, 'r', label='Training acc')\n",
    "plt.plot(epochs, val_acc3, 'b', label='Validation acc')\n",
    "plt.title('Training and validation accuracy')\n",
    "plt.xlabel('Epochs')\n",
    "plt.ylabel('Accuracy')\n",
    "plt.legend()\n",
    "\n",
    "plt.show()"
   ]
  },
  {
   "cell_type": "markdown",
   "id": "amazing-satellite",
   "metadata": {},
   "source": [
    "### Step 8. 한국어 Word2Vec 임베딩 활용하여 성능개선\n",
    "\n",
    "사전 학습된 Word2Vec을 embedding할 때 사용해서 모델의 성능을 개선하려고 한다. 사전 학습된 한국어 Word2Vec은 아래의 링크에서 가져왔다. \n",
    "[한국어 Word2Vec은 다음 경로에서 가져왔습니다.](https://github.com/Kyubyong/wordvectors)     \n",
    "\n",
    "한국어 Word2Vec 임베딩을 모델 1,2,3에 다시 넣어주고 test 데이터를 활용하여 성능을 평가해봤다. 성능의 변화는 다음과 같았다. 성능 향상이 미비한것을 볼 수 있다. \n",
    "\n",
    "metrics|model1(LSTM)| model1(LSTM) with Word2Vec| model2(CNN)| model2(CNN) with word2Vec| model3(CNN/LSTM)| model3(CNN/LSTM) with word2Vec\n",
    "---|---|---|---|---|---|---\n",
    "loss|0.4| 0.37|0.49|0.47|0.38|0.39\n",
    "accuracy|0.84|0.84|0.81|0.80|0.84|0.85\n",
    "\n"
   ]
  },
  {
   "cell_type": "code",
   "execution_count": 44,
   "id": "reverse-correlation",
   "metadata": {},
   "outputs": [
    {
     "name": "stdout",
     "output_type": "stream",
     "text": [
      "3.8.1\n"
     ]
    }
   ],
   "source": [
    "import gensim\n",
    "print(gensim.__version__)"
   ]
  },
  {
   "cell_type": "code",
   "execution_count": 45,
   "id": "ahead-stranger",
   "metadata": {},
   "outputs": [],
   "source": [
    "word2vec_path = os.getenv('HOME')+'/aiffel/sentiment_classification/data/ko.bin'\n",
    "ko_model = gensim.models.Word2Vec.load(word2vec_path)"
   ]
  },
  {
   "cell_type": "code",
   "execution_count": 70,
   "id": "analyzed-representative",
   "metadata": {},
   "outputs": [
    {
     "name": "stderr",
     "output_type": "stream",
     "text": [
      "/opt/conda/lib/python3.7/site-packages/ipykernel_launcher.py:1: DeprecationWarning: Call to deprecated `__getitem__` (Method will be removed in 4.0.0, use self.wv.__getitem__() instead).\n",
      "  \"\"\"Entry point for launching an IPython kernel.\n"
     ]
    },
    {
     "data": {
      "text/plain": [
       "(200,)"
      ]
     },
     "execution_count": 70,
     "metadata": {},
     "output_type": "execute_result"
    }
   ],
   "source": [
    "ko_model['바람'].shape"
   ]
  },
  {
   "cell_type": "code",
   "execution_count": 49,
   "id": "confident-victory",
   "metadata": {},
   "outputs": [
    {
     "name": "stderr",
     "output_type": "stream",
     "text": [
      "/opt/conda/lib/python3.7/site-packages/ipykernel_launcher.py:8: DeprecationWarning: Call to deprecated `__contains__` (Method will be removed in 4.0.0, use self.wv.__contains__() instead).\n",
      "  \n",
      "/opt/conda/lib/python3.7/site-packages/ipykernel_launcher.py:9: DeprecationWarning: Call to deprecated `__getitem__` (Method will be removed in 4.0.0, use self.wv.__getitem__() instead).\n",
      "  if __name__ == '__main__':\n"
     ]
    }
   ],
   "source": [
    "vocab_size = 10000    # 어휘 사전의 크기입니다(10,000개의 단어)\n",
    "word_vector_dim = 200  # 워드 벡터의 차원수 (변경가능한 하이퍼파라미터)\n",
    "\n",
    "embedding_matrix = np.random.rand(vocab_size, word_vector_dim)\n",
    "\n",
    "# embedding_matrix에 Word2Vec 워드 벡터를 단어 하나씩마다 차례차례 카피한다.\n",
    "for i in range(4,vocab_size):\n",
    "    if index_to_word[i] in ko_model:\n",
    "        embedding_matrix[i] = ko_model[index_to_word[i]]"
   ]
  },
  {
   "cell_type": "markdown",
   "id": "prescription-trick",
   "metadata": {},
   "source": [
    "### Model1_w (LSTM) with Word2Vec\n",
    "Model1과 다른조건은 동일하게 하고, word2vec 사전을 넣어주고, epoch를 7로 조정해서 validation accuracy향상을 위해 노력함. "
   ]
  },
  {
   "cell_type": "code",
   "execution_count": 66,
   "id": "demonstrated-powell",
   "metadata": {},
   "outputs": [
    {
     "name": "stdout",
     "output_type": "stream",
     "text": [
      "Model: \"sequential_9\"\n",
      "_________________________________________________________________\n",
      "Layer (type)                 Output Shape              Param #   \n",
      "=================================================================\n",
      "embedding_8 (Embedding)      (None, 48, 200)           2000000   \n",
      "_________________________________________________________________\n",
      "lstm_5 (LSTM)                (None, 16)                13888     \n",
      "_________________________________________________________________\n",
      "dense_16 (Dense)             (None, 8)                 136       \n",
      "_________________________________________________________________\n",
      "dense_17 (Dense)             (None, 1)                 9         \n",
      "=================================================================\n",
      "Total params: 2,014,033\n",
      "Trainable params: 2,014,033\n",
      "Non-trainable params: 0\n",
      "_________________________________________________________________\n"
     ]
    }
   ],
   "source": [
    "vocab_size = 10000    \n",
    "word_vector_dim = 200  \n",
    "\n",
    "model1_w = keras.Sequential()\n",
    "\n",
    "model1_w.add(keras.layers.Embedding(vocab_size, word_vector_dim, embeddings_initializer=Constant(embedding_matrix), \n",
    "                                  input_length=maxlen, trainable=True)) # trainable을 True로 주면 Fine-tuning\n",
    "model1_w.add(keras.layers.LSTM(16))          \n",
    "model1_w.add(keras.layers.Dense(8, activation='relu'))\n",
    "model1_w.add(keras.layers.Dense(1, activation='sigmoid'))\n",
    "         \n",
    "model1_w.summary()"
   ]
  },
  {
   "cell_type": "code",
   "execution_count": 67,
   "id": "special-edmonton",
   "metadata": {},
   "outputs": [
    {
     "name": "stdout",
     "output_type": "stream",
     "text": [
      "Epoch 1/7\n",
      "173/173 [==============================] - 9s 40ms/step - loss: 0.6225 - accuracy: 0.6546 - val_loss: 0.4333 - val_accuracy: 0.8074\n",
      "Epoch 2/7\n",
      "173/173 [==============================] - 6s 34ms/step - loss: 0.3936 - accuracy: 0.8321 - val_loss: 0.3925 - val_accuracy: 0.8297\n",
      "Epoch 3/7\n",
      "173/173 [==============================] - 6s 33ms/step - loss: 0.3341 - accuracy: 0.8610 - val_loss: 0.3576 - val_accuracy: 0.8443\n",
      "Epoch 4/7\n",
      "173/173 [==============================] - 6s 34ms/step - loss: 0.2972 - accuracy: 0.8788 - val_loss: 0.3520 - val_accuracy: 0.8504\n",
      "Epoch 5/7\n",
      "173/173 [==============================] - 6s 33ms/step - loss: 0.2761 - accuracy: 0.8885 - val_loss: 0.3554 - val_accuracy: 0.8484\n",
      "Epoch 6/7\n",
      "173/173 [==============================] - 6s 33ms/step - loss: 0.2587 - accuracy: 0.8973 - val_loss: 0.3587 - val_accuracy: 0.8519\n",
      "Epoch 7/7\n",
      "173/173 [==============================] - 6s 33ms/step - loss: 0.2414 - accuracy: 0.9052 - val_loss: 0.3664 - val_accuracy: 0.8477\n"
     ]
    }
   ],
   "source": [
    "model1_w.compile(optimizer='Adam', loss='binary_crossentropy', metrics=['accuracy'])\n",
    "epochs1_w=7\n",
    "history1_w = model1_w.fit(partial_x_train,\n",
    "                    partial_y_train,\n",
    "                    epochs=epochs1_w,\n",
    "                    batch_size=512,\n",
    "                    validation_data=(X_val, y_val),\n",
    "                    verbose=1)"
   ]
  },
  {
   "cell_type": "code",
   "execution_count": 68,
   "id": "ancient-recording",
   "metadata": {},
   "outputs": [
    {
     "name": "stdout",
     "output_type": "stream",
     "text": [
      "1537/1537 - 6s - loss: 0.3767 - accuracy: 0.8433\n"
     ]
    }
   ],
   "source": [
    "model1_w_result = model1_w.evaluate(X_test, y_test, verbose=2)"
   ]
  },
  {
   "cell_type": "markdown",
   "id": "dense-order",
   "metadata": {},
   "source": [
    "### Model2_w (CNN) with Word2Vec\n",
    "다른조건은 Model2와 동일하게 하고, word2vec 사전을 넣어주고, epoch를 5로 조정해서 validation accuracy향상을 위해 노력함. "
   ]
  },
  {
   "cell_type": "code",
   "execution_count": 72,
   "id": "beautiful-geneva",
   "metadata": {},
   "outputs": [
    {
     "name": "stdout",
     "output_type": "stream",
     "text": [
      "Model: \"sequential_10\"\n",
      "_________________________________________________________________\n",
      "Layer (type)                 Output Shape              Param #   \n",
      "=================================================================\n",
      "embedding_9 (Embedding)      (None, 48, 200)           2000000   \n",
      "_________________________________________________________________\n",
      "conv1d_8 (Conv1D)            (None, 42, 16)            22416     \n",
      "_________________________________________________________________\n",
      "max_pooling1d_5 (MaxPooling1 (None, 8, 16)             0         \n",
      "_________________________________________________________________\n",
      "conv1d_9 (Conv1D)            (None, 2, 16)             1808      \n",
      "_________________________________________________________________\n",
      "global_max_pooling1d_3 (Glob (None, 16)                0         \n",
      "_________________________________________________________________\n",
      "dense_18 (Dense)             (None, 8)                 136       \n",
      "_________________________________________________________________\n",
      "dense_19 (Dense)             (None, 1)                 9         \n",
      "=================================================================\n",
      "Total params: 2,024,369\n",
      "Trainable params: 2,024,369\n",
      "Non-trainable params: 0\n",
      "_________________________________________________________________\n"
     ]
    }
   ],
   "source": [
    "vocab_size = 10000  \n",
    "word_vector_dim = 200   \n",
    "\n",
    "model2_w = keras.Sequential()\n",
    "\n",
    "model2_w.add(keras.layers.Embedding(vocab_size, word_vector_dim, embeddings_initializer=Constant(embedding_matrix),\n",
    "                                 input_length=maxlen, trainable=True))\n",
    "model2_w.add(keras.layers.Conv1D(16, 7, activation='relu'))\n",
    "model2_w.add(keras.layers.MaxPooling1D(5))\n",
    "model2_w.add(keras.layers.Conv1D(16, 7, activation='relu'))\n",
    "model2_w.add(keras.layers.GlobalMaxPooling1D())\n",
    "model2_w.add(keras.layers.Dense(8, activation='relu'))\n",
    "model2_w.add(keras.layers.Dense(1, activation='sigmoid'))  # 최종 출력은 긍정/부정을 나타내는 1dim 입니다.\n",
    "\n",
    "model2_w.summary()"
   ]
  },
  {
   "cell_type": "code",
   "execution_count": 73,
   "id": "fitted-platform",
   "metadata": {},
   "outputs": [
    {
     "name": "stdout",
     "output_type": "stream",
     "text": [
      "Epoch 1/5\n",
      "173/173 [==============================] - 7s 37ms/step - loss: 0.6636 - accuracy: 0.5815 - val_loss: 0.5406 - val_accuracy: 0.7204\n",
      "Epoch 2/5\n",
      "173/173 [==============================] - 6s 33ms/step - loss: 0.4925 - accuracy: 0.7609 - val_loss: 0.4545 - val_accuracy: 0.7855\n",
      "Epoch 3/5\n",
      "173/173 [==============================] - 6s 32ms/step - loss: 0.4073 - accuracy: 0.8139 - val_loss: 0.4318 - val_accuracy: 0.7975\n",
      "Epoch 4/5\n",
      "173/173 [==============================] - 6s 32ms/step - loss: 0.3589 - accuracy: 0.8405 - val_loss: 0.4156 - val_accuracy: 0.8079\n",
      "Epoch 5/5\n",
      "173/173 [==============================] - 6s 33ms/step - loss: 0.3218 - accuracy: 0.8591 - val_loss: 0.4190 - val_accuracy: 0.8107\n"
     ]
    }
   ],
   "source": [
    "model2_w.compile(optimizer='Adam', loss='binary_crossentropy', metrics=['accuracy'])\n",
    "epochs2_w=5\n",
    "history2_w = model2_w.fit(partial_x_train,\n",
    "                    partial_y_train,\n",
    "                    epochs=epochs2_w,\n",
    "                    batch_size=512,\n",
    "                    validation_data=(X_val, y_val),\n",
    "                    verbose=1)"
   ]
  },
  {
   "cell_type": "code",
   "execution_count": 57,
   "id": "coastal-oklahoma",
   "metadata": {},
   "outputs": [
    {
     "name": "stdout",
     "output_type": "stream",
     "text": [
      "1537/1537 - 4s - loss: 0.4724 - accuracy: 0.8029\n"
     ]
    }
   ],
   "source": [
    "model2_w_result = model2_w.evaluate(X_test, y_test, verbose=2)"
   ]
  },
  {
   "cell_type": "markdown",
   "id": "preliminary-script",
   "metadata": {},
   "source": [
    "### Model3_w (CNN/LSTM) with Word2Vec\n",
    "다른조건은 model3와 동일하게 하고, word2vec 사전을 넣어주고, epoch를 8로 조정해서 validation accuracy향상을 위해 노력함. "
   ]
  },
  {
   "cell_type": "code",
   "execution_count": 79,
   "id": "significant-edgar",
   "metadata": {},
   "outputs": [
    {
     "name": "stdout",
     "output_type": "stream",
     "text": [
      "Model: \"sequential_12\"\n",
      "_________________________________________________________________\n",
      "Layer (type)                 Output Shape              Param #   \n",
      "=================================================================\n",
      "embedding_11 (Embedding)     (None, 48, 200)           2000000   \n",
      "_________________________________________________________________\n",
      "conv1d_11 (Conv1D)           (None, 42, 16)            22416     \n",
      "_________________________________________________________________\n",
      "max_pooling1d_7 (MaxPooling1 (None, 21, 16)            0         \n",
      "_________________________________________________________________\n",
      "lstm_7 (LSTM)                (None, 16)                2112      \n",
      "_________________________________________________________________\n",
      "dense_22 (Dense)             (None, 8)                 136       \n",
      "_________________________________________________________________\n",
      "dropout_3 (Dropout)          (None, 8)                 0         \n",
      "_________________________________________________________________\n",
      "dense_23 (Dense)             (None, 1)                 9         \n",
      "=================================================================\n",
      "Total params: 2,024,673\n",
      "Trainable params: 2,024,673\n",
      "Non-trainable params: 0\n",
      "_________________________________________________________________\n"
     ]
    }
   ],
   "source": [
    "vocab_size = 10000  \n",
    "word_vector_dim = 200   \n",
    "\n",
    "model3_w = keras.Sequential()\n",
    "\n",
    "model3_w.add(keras.layers.Embedding(vocab_size, word_vector_dim, embeddings_initializer=Constant(embedding_matrix),\n",
    "                                   input_length=maxlen, trainable=True))\n",
    "model3_w.add(keras.layers.Conv1D(16, 7, activation='relu'))\n",
    "model3_w.add(keras.layers.MaxPooling1D(2))\n",
    "model3_w.add(keras.layers.LSTM(16))   \n",
    "model3_w.add(keras.layers.Dense(8, activation='relu'))\n",
    "model3_w.add(keras.layers.Dropout(0.5))\n",
    "model3_w.add(keras.layers.Dense(1, activation='sigmoid'))  # 최종 출력은 긍정/부정을 나타내는 1dim 입니다.\n",
    "\n",
    "model3_w.summary()"
   ]
  },
  {
   "cell_type": "code",
   "execution_count": 80,
   "id": "historical-constitution",
   "metadata": {},
   "outputs": [
    {
     "name": "stdout",
     "output_type": "stream",
     "text": [
      "Epoch 1/8\n",
      "173/173 [==============================] - 9s 44ms/step - loss: 0.6670 - accuracy: 0.5599 - val_loss: 0.4971 - val_accuracy: 0.7709\n",
      "Epoch 2/8\n",
      "173/173 [==============================] - 6s 36ms/step - loss: 0.4982 - accuracy: 0.7788 - val_loss: 0.4044 - val_accuracy: 0.8242\n",
      "Epoch 3/8\n",
      "173/173 [==============================] - 6s 36ms/step - loss: 0.4174 - accuracy: 0.8339 - val_loss: 0.3868 - val_accuracy: 0.8314\n",
      "Epoch 4/8\n",
      "173/173 [==============================] - 6s 35ms/step - loss: 0.3852 - accuracy: 0.8489 - val_loss: 0.3590 - val_accuracy: 0.8445\n",
      "Epoch 5/8\n",
      "173/173 [==============================] - 6s 35ms/step - loss: 0.3494 - accuracy: 0.8680 - val_loss: 0.3578 - val_accuracy: 0.8464\n",
      "Epoch 6/8\n",
      "173/173 [==============================] - 6s 35ms/step - loss: 0.3308 - accuracy: 0.8783 - val_loss: 0.3544 - val_accuracy: 0.8469\n",
      "Epoch 7/8\n",
      "173/173 [==============================] - 6s 35ms/step - loss: 0.3090 - accuracy: 0.8875 - val_loss: 0.3741 - val_accuracy: 0.8458\n",
      "Epoch 8/8\n",
      "173/173 [==============================] - 6s 35ms/step - loss: 0.2860 - accuracy: 0.8985 - val_loss: 0.3812 - val_accuracy: 0.8456\n"
     ]
    }
   ],
   "source": [
    "model3_w.compile(optimizer='Adam', loss='binary_crossentropy', metrics=['accuracy'])\n",
    "epochs3_w=8\n",
    "history3_w = model3_w.fit(partial_x_train,\n",
    "                    partial_y_train,\n",
    "                    epochs=epochs3_w,\n",
    "                    batch_size=512,\n",
    "                    validation_data=(X_val, y_val),\n",
    "                    verbose=1)"
   ]
  },
  {
   "cell_type": "code",
   "execution_count": 81,
   "id": "satisfactory-footwear",
   "metadata": {},
   "outputs": [
    {
     "name": "stdout",
     "output_type": "stream",
     "text": [
      "1537/1537 - 4s - loss: 0.3904 - accuracy: 0.8467\n"
     ]
    }
   ],
   "source": [
    "model3_w_result = model3_w.evaluate(X_test, y_test, verbose=2)"
   ]
  },
  {
   "cell_type": "code",
   "execution_count": null,
   "id": "applicable-equilibrium",
   "metadata": {},
   "outputs": [],
   "source": []
  }
 ],
 "metadata": {
  "kernelspec": {
   "display_name": "Python 3",
   "language": "python",
   "name": "python3"
  },
  "language_info": {
   "codemirror_mode": {
    "name": "ipython",
    "version": 3
   },
   "file_extension": ".py",
   "mimetype": "text/x-python",
   "name": "python",
   "nbconvert_exporter": "python",
   "pygments_lexer": "ipython3",
   "version": "3.7.9"
  }
 },
 "nbformat": 4,
 "nbformat_minor": 5
}
