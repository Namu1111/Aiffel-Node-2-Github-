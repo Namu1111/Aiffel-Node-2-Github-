{
 "cells": [
  {
   "cell_type": "markdown",
   "id": "incorporated-religious",
   "metadata": {},
   "source": [
    "# E1 - 가위바위보 분류기"
   ]
  },
  {
   "cell_type": "markdown",
   "id": "solar-study",
   "metadata": {},
   "source": [
    "### **프로젝트 개요:**  \n",
    "이번 프로젝트는 가위, 바위, 보의 이미지를 구분해 내는 딥러닝 모델을 설계, 학습, 평가해 보고, 평가를 바탕으로 오버피팅(overfitting)의 문제점을 극복할 수 있는 방안을 고안해서 test의 정확도 60%를 달성해 보자. "
   ]
  },
  {
   "cell_type": "markdown",
   "id": "clinical-brisbane",
   "metadata": {},
   "source": [
    "### **프로젝트 결과요약**    \n",
    "\n",
    "\n",
    "**Test 1**   \n",
    "1) 노드의 지시대로 가위, 바위, 보 이미지 100개씩을 (총 이미지 300개) 촬영해서 training data로 사용했다.  \n",
    "2) 팀원의 가위, 바위, 보 이미지 300개를 test data로 이용했다.     \n",
    "3) train, test 이미지들의 사이즈를 28\\*28 픽셀로 조정했다.   \n",
    "4) 딥러닝 네트워크 모델 Sequential 을 설정했다. (구체적인 모델설계 기준은 하단 참고)   \n",
    "5) epoch 를 13으로 설정해준다. 숫자구분 노드의 epoch 10에서 살짝 상향 조정했다.      \n",
    "6) **결과:** train 정확도는 100%로 매우 높게 나왔지만 test 의 정확도는 46%로 아쉽다.   \n",
    "\n",
    "\n",
    "**Test 2**(관련 코드 E1.Rock_paper_scissor classification(Test2) 파일)   \n",
    "1) Test 1에서 바꿔준 것은 과적합의 (overfitting) 문제를 해결하기 위해서 L2 regularization의 코드를 Sequential 모델에 추가해줬다.    \n",
    "2) Test 1에서 모델을 돌려본 결과 epoch 10 이상에서는 정확도가 크게 증가하지 않았으므로 Test 2에서 epoch를 늘려주지 않았다.     \n",
    "3) 또한, Sequential 모델의 인자값도 바꿔주지 않았는데 Test 1에서 정확도가 높게 나왔기 때문에 굳이 알고리즘을 더 복잡하게 하지 않아도 된다고 판단했다. 그러므로 Test 2, 3, 4에서 Sequential 모델의 인자들은 regularization을 제외하고는 바꾸지 않았다.    \n",
    "4) **결과:** train 의 정확도는 100%, test의 정확도는 56%로 상승했다.    \n",
    "\n",
    "\n",
    "**Test 3**   \n",
    "1) Test 2에서 바꿔준것은 training의 데이터를 300에서 900으로 늘려줬다. 또한, 다른 두 사람의 이미지를 600장 (각 300장씩) 가져다 쓰므로써, 데이터의 다양성을 확보할 수 있었다.    \n",
    "2) **결과:** train 의 정확도는 88% 로 감소했지만 test의 정확도는 43%로 줄어들었다.    \n",
    "\n",
    "\n",
    "**Test 4**(관련 코드 하단에 첨부)  \n",
    "1) Test 3에서 바꿔준 것은 이미지 크기를 28\\*28에서 100\\*100으로 조정했다.      \n",
    "2) **결과:** train 의 정확도는 89%로 비슷하고 test의 정확도는 46% 로 상승했지만 Test2의 test 정확도 보다는 낮다. \n",
    "\n",
    "\n",
    "**결론: Test 2의 train, test 정확도가 가장 높다.** "
   ]
  },
  {
   "cell_type": "markdown",
   "id": "unable-measure",
   "metadata": {},
   "source": [
    "Item | Test 1 | Test 2 | Test 3| Test 4\n",
    "---|---:|---:|---:|---:\n",
    "Image Size|28\\*28| 28\\*28|28\\*28 |100\\*100\n",
    "Number of Train Images|300| 300|900| 900\n",
    "Number of Writer for Train Data|1|1|3|3\n",
    "Number of Test Images|300|300|300|300\n",
    "Number of Writer for Test Data|1|1|1|1\n",
    "Regularization|No| Yes-L2| Yes-L2|Yes-L2\n",
    "Train Accuracy Score|100% |100%|88%| 89%\n",
    "Test Accuracy Score|46%| 56%|43%|46%"
   ]
  },
  {
   "cell_type": "markdown",
   "id": "ready-projector",
   "metadata": {},
   "source": [
    "### (1) 필요한 모듈 import하기"
   ]
  },
  {
   "cell_type": "code",
   "execution_count": 123,
   "id": "confidential-metallic",
   "metadata": {},
   "outputs": [],
   "source": [
    "from PIL import Image\n",
    "import os, glob\n",
    "import matplotlib.pyplot as plt\n",
    "import tensorflow as tf\n",
    "from tensorflow import keras\n",
    "import numpy as np"
   ]
  },
  {
   "cell_type": "markdown",
   "id": "blind-silly",
   "metadata": {},
   "source": [
    "### (2) 이미지 사이즈로 변경"
   ]
  },
  {
   "cell_type": "code",
   "execution_count": 124,
   "id": "italian-classification",
   "metadata": {},
   "outputs": [],
   "source": [
    "# 이미지 변경 함수 만들기 \n",
    "\n",
    "def resize_images(img_path):\n",
    "    images=glob.glob(img_path + \"/*.jpg\")  \n",
    "    \n",
    "    print(len(images), \" images to be resized.\")\n",
    "\n",
    "    # 파일마다 모두 100*100 사이즈로 바꾸어 저장합니다.\n",
    "    target_size=(100,100)\n",
    "    for img in images:\n",
    "        old_img=Image.open(img)\n",
    "        new_img=old_img.resize(target_size,Image.ANTIALIAS)\n",
    "        new_img.save(img, \"JPEG\")\n",
    "    \n",
    "    print(len(images), \" images resized.\")\n"
   ]
  },
  {
   "cell_type": "code",
   "execution_count": 125,
   "id": "dynamic-beverage",
   "metadata": {},
   "outputs": [
    {
     "name": "stdout",
     "output_type": "stream",
     "text": [
      "100  images to be resized.\n",
      "100  images resized.\n",
      "가위 이미지 resize 완료!\n",
      "100  images to be resized.\n",
      "100  images resized.\n",
      "바위 이미지 resize 완료!\n",
      "100  images to be resized.\n",
      "100  images resized.\n",
      "보 이미지 resize 완료!\n"
     ]
    }
   ],
   "source": [
    "# 가위 이미지 변경 \n",
    "image_dir_path_s = os.getenv(\"HOME\") + \"/aiffel/rock_scissor_paper/scissor\"\n",
    "resize_images(image_dir_path_s)\n",
    "\n",
    "print(\"가위 이미지 resize 완료!\")\n",
    "\n",
    "# 바위 이미지 변경 \n",
    "image_dir_path_r = os.getenv(\"HOME\") + \"/aiffel/rock_scissor_paper/rock\"\n",
    "resize_images(image_dir_path_r)\n",
    "\n",
    "print(\"바위 이미지 resize 완료!\")\n",
    "\n",
    "\n",
    "# 보 이미지 변경\n",
    "image_dir_path_p = os.getenv(\"HOME\") + \"/aiffel/rock_scissor_paper/paper\"\n",
    "resize_images(image_dir_path_p)\n",
    "\n",
    "print(\"보 이미지 resize 완료!\")\n"
   ]
  },
  {
   "cell_type": "markdown",
   "id": "surprising-chicago",
   "metadata": {},
   "source": [
    "### (2)-1 새로운 Train Data 이미지 변경해주기 "
   ]
  },
  {
   "cell_type": "code",
   "execution_count": 126,
   "id": "vanilla-delaware",
   "metadata": {},
   "outputs": [
    {
     "name": "stdout",
     "output_type": "stream",
     "text": [
      "100  images to be resized.\n",
      "100  images resized.\n",
      "100  images to be resized.\n",
      "100  images resized.\n",
      "100  images to be resized.\n",
      "100  images resized.\n",
      "100  images to be resized.\n",
      "100  images resized.\n",
      "100  images to be resized.\n",
      "100  images resized.\n",
      "100  images to be resized.\n",
      "100  images resized.\n"
     ]
    }
   ],
   "source": [
    "# 과적합을 막기 위해서 두명의 이미지 (600개)를 trainig data set에 넣어줬다. \n",
    "\n",
    "# 가위 이미지 변경 \n",
    "image_dir_path_s2 = os.getenv(\"HOME\") + \"/aiffel/rock_scissor_paper/scissor/scissor2\"\n",
    "resize_images(image_dir_path_s2)\n",
    "\n",
    "image_dir_path_s3 = os.getenv(\"HOME\") + \"/aiffel/rock_scissor_paper/scissor/scissor3\"\n",
    "resize_images(image_dir_path_s3)\n",
    "\n",
    "# 바위 이미지 변경 \n",
    "image_dir_path_r2 = os.getenv(\"HOME\") + \"/aiffel/rock_scissor_paper/rock/rock2\"\n",
    "resize_images(image_dir_path_r2)\n",
    "\n",
    "image_dir_path_r3 = os.getenv(\"HOME\") + \"/aiffel/rock_scissor_paper/rock/rock3\"\n",
    "resize_images(image_dir_path_r3)\n",
    "\n",
    "# 보 이미지 변경\n",
    "image_dir_path_p2 = os.getenv(\"HOME\") + \"/aiffel/rock_scissor_paper/paper/paper2\"\n",
    "resize_images(image_dir_path_p2)\n",
    "\n",
    "image_dir_path_p3 = os.getenv(\"HOME\") + \"/aiffel/rock_scissor_paper/paper/paper3\"\n",
    "resize_images(image_dir_path_p3)"
   ]
  },
  {
   "cell_type": "markdown",
   "id": "miniature-angle",
   "metadata": {},
   "source": [
    "### (3) 가위, 바위, 보 labeling 시키기 (가위=0, 바위=1, 보=2)"
   ]
  },
  {
   "cell_type": "code",
   "execution_count": 127,
   "id": "regulated-draft",
   "metadata": {},
   "outputs": [
    {
     "name": "stdout",
     "output_type": "stream",
     "text": [
      "학습데이터(x_train)의 이미지 개수는 900 입니다.\n",
      "x_train shape: (900, 100, 100, 3)\n",
      "y_train shape: (900,)\n"
     ]
    }
   ],
   "source": [
    "import numpy as np\n",
    "\n",
    "def load_data(img_path, number_of_data=900):  # 가위바위보 이미지 개수 총합에 주의하세요.\n",
    "    # 가위 : 0, 바위 : 1, 보 : 2\n",
    "    img_size=100\n",
    "    color=3\n",
    "    #이미지 데이터와 라벨(가위 : 0, 바위 : 1, 보 : 2) 데이터를 담을 행렬(matrix) 영역을 생성합니다.\n",
    "    imgs=np.zeros(number_of_data*img_size*img_size*color,dtype=np.int32).reshape(number_of_data,img_size,img_size,color)\n",
    "    labels=np.zeros(number_of_data,dtype=np.int32)\n",
    "\n",
    "    idx=0\n",
    "    for file in glob.iglob(img_path+'/scissor/*.jpg'):\n",
    "        img = np.array(Image.open(file),dtype=np.int32)\n",
    "        imgs[idx,:,:,:]=img    # 데이터 영역에 이미지 행렬을 복사\n",
    "        labels[idx]=0   # 가위 : 0\n",
    "        idx=idx+1\n",
    "        \n",
    "    for file in glob.iglob(img_path+'/scissor/scissor2/*.jpg'):\n",
    "        img = np.array(Image.open(file),dtype=np.int32)\n",
    "        imgs[idx,:,:,:]=img    # 데이터 영역에 이미지 행렬을 복사\n",
    "        labels[idx]=0   # 가위 : 0\n",
    "        idx=idx+1\n",
    "        \n",
    "    for file in glob.iglob(img_path+'/scissor/scissor3/*.jpg'):\n",
    "        img = np.array(Image.open(file),dtype=np.int32)\n",
    "        imgs[idx,:,:,:]=img    # 데이터 영역에 이미지 행렬을 복사\n",
    "        labels[idx]=0   # 가위 : 0\n",
    "        idx=idx+1\n",
    "\n",
    "    for file in glob.iglob(img_path+'/rock/*.jpg'):\n",
    "        img = np.array(Image.open(file),dtype=np.int32)\n",
    "        imgs[idx,:,:,:]=img    # 데이터 영역에 이미지 행렬을 복사\n",
    "        labels[idx]=1   # 바위 : 1\n",
    "        idx=idx+1  \n",
    "        \n",
    "    for file in glob.iglob(img_path+'/rock/rock2/*.jpg'):\n",
    "        img = np.array(Image.open(file),dtype=np.int32)\n",
    "        imgs[idx,:,:,:]=img    # 데이터 영역에 이미지 행렬을 복사\n",
    "        labels[idx]=1   # 바위 : 1\n",
    "        idx=idx+1   \n",
    "        \n",
    "    for file in glob.iglob(img_path+'/rock/rock3/*.jpg'):\n",
    "        img = np.array(Image.open(file),dtype=np.int32)\n",
    "        imgs[idx,:,:,:]=img    # 데이터 영역에 이미지 행렬을 복사\n",
    "        labels[idx]=1   # 바위 : 1\n",
    "        idx=idx+1\n",
    "    \n",
    "    for file in glob.iglob(img_path+'/paper/*.jpg'):\n",
    "        img = np.array(Image.open(file),dtype=np.int32)\n",
    "        imgs[idx,:,:,:]=img    # 데이터 영역에 이미지 행렬을 복사\n",
    "        labels[idx]=2   # 보 : 2\n",
    "        idx=idx+1\n",
    "    \n",
    "    for file in glob.iglob(img_path+'/paper/paper2/*.jpg'):\n",
    "        img = np.array(Image.open(file),dtype=np.int32)\n",
    "        imgs[idx,:,:,:]=img    # 데이터 영역에 이미지 행렬을 복사\n",
    "        labels[idx]=2   # 보 : 2\n",
    "        idx=idx+1\n",
    "    \n",
    "    for file in glob.iglob(img_path+'/paper/paper3/*.jpg'):\n",
    "        img = np.array(Image.open(file),dtype=np.int32)\n",
    "        imgs[idx,:,:,:]=img    # 데이터 영역에 이미지 행렬을 복사\n",
    "        labels[idx]=2   # 보 : 2\n",
    "        idx=idx+1\n",
    "    \n",
    "    \n",
    "    print(\"학습데이터(x_train)의 이미지 개수는\", idx,\"입니다.\")\n",
    "    return imgs, labels\n",
    "\n",
    "image_dir_path = os.getenv(\"HOME\") + \"/aiffel/rock_scissor_paper\"\n",
    "(x_train, y_train)=load_data(image_dir_path)\n",
    "x_train_norm = x_train/255.0   # 입력은 0~1 사이의 값으로 정규화\n",
    "\n",
    "print(\"x_train shape: {}\".format(x_train.shape))\n",
    "print(\"y_train shape: {}\".format(y_train.shape))"
   ]
  },
  {
   "cell_type": "code",
   "execution_count": 128,
   "id": "thousand-fountain",
   "metadata": {},
   "outputs": [
    {
     "name": "stdout",
     "output_type": "stream",
     "text": [
      "라벨:  0\n"
     ]
    },
    {
     "data": {
      "image/png": "[encoded data removed]",
      "text/plain": [
       "<Figure size 432x288 with 1 Axes>"
      ]
     },
     "metadata": {
      "needs_background": "light"
     },
     "output_type": "display_data"
    }
   ],
   "source": [
    "# 이미지 불러 보기 \n",
    "plt.imshow(x_train[0])\n",
    "print('라벨: ', y_train[0])"
   ]
  },
  {
   "cell_type": "markdown",
   "id": "ordinary-freeware",
   "metadata": {},
   "source": [
    "### (4) 딥러닝 네트워크 설계 "
   ]
  },
  {
   "cell_type": "code",
   "execution_count": 129,
   "id": "early-manner",
   "metadata": {},
   "outputs": [
    {
     "name": "stdout",
     "output_type": "stream",
     "text": [
      "Model에 추가된 Layer 개수:  7\n"
     ]
    }
   ],
   "source": [
    "model=keras.models.Sequential()\n",
    "model.add(keras.layers.Conv2D(64, (3,3), activation='relu', input_shape=(100,100,3)))\n",
    "model.add(keras.layers.MaxPool2D(2,2))\n",
    "model.add(keras.layers.Conv2D(128, (3,3), activation='relu'))\n",
    "model.add(keras.layers.MaxPooling2D((2,2)))\n",
    "model.add(keras.layers.Flatten())\n",
    "model.add(keras.layers.Dense(128, kernel_regularizer=keras.regularizers.l2(0.001), activation='relu')) # added L2 Regularizer\n",
    "model.add(keras.layers.Dense(3, activation='softmax'))\n",
    "\n",
    "print('Model에 추가된 Layer 개수: ', len(model.layers))"
   ]
  },
  {
   "cell_type": "markdown",
   "id": "continued-politics",
   "metadata": {},
   "source": [
    "아래 그림은노드 1-3 (딥러닝 네트워크 설계하기)에서 가져온 그림이다. 이 그림에 나와있는 설명을 토대로 딥러닝 모델의 변수값을 조정해줬다. 참고로 input_shape은 Test4에서 이미지의 사이즈를 조정해 줬을때 (100,100,3)으로 업데이트 했다. 그리고 과적합 방지를 위해 Test 2,3,4 에서 L2 regularization(kernel_regularizer=keras.regularizers.l2(0.001))을 Dense함수에 넣어줬다. \n",
    "\n",
    "1. Conv2D의 첫번째 변수는(아래 그림에서 16) 입력 이미지가 다양할 수록 수로 높아진다. 가위, 바위, 보의 이미지는 우리가 노드에서 공부했던 숫자의 이미지보다 더 다양한 특징을 갖을것 같다. 왜냐하면 손가락 5개의 움직임뿐만 아니라 손의 움직임까지 다 고려해야 하기 때문에. 그러므로 처음엔 16의 4배수인 64로 해줬다. \n",
    "2. Conv2D의 마지막 변수인 input_shape인 입력 이미지의 형태이다. 여기서는 (28, 28, 3)으로 해줘야 한다. 사진을 28\\*28로 크기를 조정해 줬고 컬러 이미지이기 때문에 마지막 값은 3이 됀다 (RBG의 값). Test 4에서는 (100, 100, 3)으로 변경했다. \n",
    "3. 두번째 Conv2D의 첫번째 변수는 64의 2배수인 128로 해줬다. \n",
    "4. Dense 함수에서 첫번째 변수는 분류기 알고리즘을 얼마나 복잡하게 할 것인가의 문제다. 앞에서 언급했듯이 숫자의 이미지보다 복잡한 알고리즘이 필요할 것 같다. 그러므로 32의 4배수인 128로 해준다. \n",
    "5. 마지막 Dense함수의 첫번째 변수는 최종 분류기의 class 수. 여기서는 가위, 바위, 보 3가지 이다. 그러므로 3으로 정해준다. "
   ]
  },
  {
   "cell_type": "markdown",
   "id": "nuclear-guyana",
   "metadata": {},
   "source": [
    "![이미지](https://d3s0tskafalll9.cloudfront.net/media/images/F-1-5.max-800x600.png)"
   ]
  },
  {
   "cell_type": "code",
   "execution_count": 130,
   "id": "fifteen-latin",
   "metadata": {},
   "outputs": [
    {
     "name": "stdout",
     "output_type": "stream",
     "text": [
      "(900, 100, 100, 3)\n"
     ]
    }
   ],
   "source": [
    "# 입력변수의 형태 확인 - 네트워크의 입력은 (데이터갯수, 이미지 크기 x, 이미지 크기 y, 채널수) 와 같은 형태여야 함. 확인완료! \n",
    "print(x_train.shape)"
   ]
  },
  {
   "cell_type": "markdown",
   "id": "vanilla-childhood",
   "metadata": {},
   "source": [
    "### (5) 딥러닝 네트워크 학습시키기 "
   ]
  },
  {
   "cell_type": "code",
   "execution_count": 131,
   "id": "sufficient-interaction",
   "metadata": {},
   "outputs": [
    {
     "name": "stdout",
     "output_type": "stream",
     "text": [
      "Epoch 1/13\n",
      "29/29 [==============================] - 2s 36ms/step - loss: 408.3304 - accuracy: 0.4132\n",
      "Epoch 2/13\n",
      "29/29 [==============================] - 1s 33ms/step - loss: 1.0081 - accuracy: 0.6720\n",
      "Epoch 3/13\n",
      "29/29 [==============================] - 1s 33ms/step - loss: 0.6844 - accuracy: 0.7955\n",
      "Epoch 4/13\n",
      "29/29 [==============================] - 1s 33ms/step - loss: 0.5406 - accuracy: 0.8744\n",
      "Epoch 5/13\n",
      "29/29 [==============================] - 1s 33ms/step - loss: 0.5088 - accuracy: 0.8912\n",
      "Epoch 6/13\n",
      "29/29 [==============================] - 1s 33ms/step - loss: 0.4582 - accuracy: 0.8789\n",
      "Epoch 7/13\n",
      "29/29 [==============================] - 1s 33ms/step - loss: 0.4321 - accuracy: 0.8843\n",
      "Epoch 8/13\n",
      "29/29 [==============================] - 1s 32ms/step - loss: 0.4042 - accuracy: 0.8755\n",
      "Epoch 9/13\n",
      "29/29 [==============================] - 1s 33ms/step - loss: 0.4262 - accuracy: 0.8719\n",
      "Epoch 10/13\n",
      "29/29 [==============================] - 1s 33ms/step - loss: 0.7167 - accuracy: 0.7873\n",
      "Epoch 11/13\n",
      "29/29 [==============================] - 1s 33ms/step - loss: 0.4430 - accuracy: 0.8770\n",
      "Epoch 12/13\n",
      "29/29 [==============================] - 1s 33ms/step - loss: 0.4322 - accuracy: 0.8910\n",
      "Epoch 13/13\n",
      "29/29 [==============================] - 1s 33ms/step - loss: 0.4048 - accuracy: 0.8864\n"
     ]
    },
    {
     "data": {
      "text/plain": [
       "<tensorflow.python.keras.callbacks.History at 0x7f5d3c33b390>"
      ]
     },
     "execution_count": 131,
     "metadata": {},
     "output_type": "execute_result"
    }
   ],
   "source": [
    "model.compile(optimizer='adam',\n",
    "             loss='sparse_categorical_crossentropy',\n",
    "             metrics=['accuracy'])\n",
    "\n",
    "model.fit(x_train, y_train, epochs=13) # 에포크를 10(노드의 에포크)에서 13으로 조금 조정해 주었음\n"
   ]
  },
  {
   "cell_type": "markdown",
   "id": "centered-implement",
   "metadata": {},
   "source": [
    "### (6) 딥러닝 네트워크 평가하기 "
   ]
  },
  {
   "cell_type": "markdown",
   "id": "academic-ratio",
   "metadata": {},
   "source": [
    "#### (6)(a) test 디렉토리를 rock_scissor_paper folder 안에 만들어 주고 그 디렉토리 안에 rock, scissor, paper의 폴더를 별도로 만들어주었다. "
   ]
  },
  {
   "cell_type": "markdown",
   "id": "parliamentary-anthony",
   "metadata": {},
   "source": [
    "#### (6)(b) test 이미지 resize 해주기 "
   ]
  },
  {
   "cell_type": "code",
   "execution_count": 132,
   "id": "acceptable-walker",
   "metadata": {},
   "outputs": [
    {
     "name": "stdout",
     "output_type": "stream",
     "text": [
      "100  images to be resized.\n",
      "100  images resized.\n",
      "가위 이미지 resize 완료!\n",
      "100  images to be resized.\n",
      "100  images resized.\n",
      "바위 이미지 resize 완료!\n",
      "100  images to be resized.\n",
      "100  images resized.\n",
      "보 이미지 resize 완료!\n"
     ]
    }
   ],
   "source": [
    "# 가위 이미지 변경 \n",
    "image_dir_path_ts = os.getenv(\"HOME\") + \"/aiffel/rock_scissor_paper/test/scissor\"\n",
    "resize_images(image_dir_path_ts)\n",
    "\n",
    "print(\"가위 이미지 resize 완료!\")\n",
    "\n",
    "# 바위 이미지 변경 \n",
    "image_dir_path_tr = os.getenv(\"HOME\") + \"/aiffel/rock_scissor_paper/test/rock\"\n",
    "resize_images(image_dir_path_tr)\n",
    "\n",
    "print(\"바위 이미지 resize 완료!\")\n",
    "\n",
    "\n",
    "# 보 이미지 변경\n",
    "image_dir_path_tp = os.getenv(\"HOME\") + \"/aiffel/rock_scissor_paper/test/paper\"\n",
    "resize_images(image_dir_path_tp)\n",
    "\n",
    "print(\"보 이미지 resize 완료!\")\n"
   ]
  },
  {
   "cell_type": "markdown",
   "id": "solid-pierre",
   "metadata": {},
   "source": [
    "#### (6)(b) x_test, y_test 만들기 "
   ]
  },
  {
   "cell_type": "code",
   "execution_count": 133,
   "id": "induced-sharing",
   "metadata": {},
   "outputs": [
    {
     "name": "stdout",
     "output_type": "stream",
     "text": [
      "학습데이터(x_test)의 이미지 개수는 300 입니다.\n",
      "x_test shape: (300, 100, 100, 3)\n",
      "y_test shape: (300,)\n"
     ]
    }
   ],
   "source": [
    "def load_data_test(img_path, number_of_data=300):  # 가위바위보 이미지 개수 총합에 주의하세요.\n",
    "    # 가위 : 0, 바위 : 1, 보 : 2\n",
    "    img_size=100\n",
    "    color=3\n",
    "    #이미지 데이터와 라벨(가위 : 0, 바위 : 1, 보 : 2) 데이터를 담을 행렬(matrix) 영역을 생성합니다.\n",
    "    imgs=np.zeros(number_of_data*img_size*img_size*color,dtype=np.int32).reshape(number_of_data,img_size,img_size,color)\n",
    "    labels=np.zeros(number_of_data,dtype=np.int32)\n",
    "\n",
    "    idx=0\n",
    "    for file in glob.iglob(img_path+'/scissor/*.jpg'):\n",
    "        img = np.array(Image.open(file),dtype=np.int32)\n",
    "        imgs[idx,:,:,:]=img    # 데이터 영역에 이미지 행렬을 복사\n",
    "        labels[idx]=0   # 가위 : 0\n",
    "        idx=idx+1\n",
    "         \n",
    "    for file in glob.iglob(img_path+'/rock/*.jpg'):\n",
    "        img = np.array(Image.open(file),dtype=np.int32)\n",
    "        imgs[idx,:,:,:]=img    # 데이터 영역에 이미지 행렬을 복사\n",
    "        labels[idx]=1   # 바위 : 1\n",
    "        idx=idx+1  \n",
    "\n",
    "    for file in glob.iglob(img_path+'/paper/*.jpg'):\n",
    "        img = np.array(Image.open(file),dtype=np.int32)\n",
    "        imgs[idx,:,:,:]=img    # 데이터 영역에 이미지 행렬을 복사\n",
    "        labels[idx]=2   # 보 : 2\n",
    "        idx=idx+1\n",
    "\n",
    "    \n",
    "    print(\"학습데이터(x_test)의 이미지 개수는\", idx,\"입니다.\")\n",
    "    return imgs, labels\n",
    "\n",
    "\n",
    "image_dir_path_test = os.getenv(\"HOME\") + \"/aiffel/rock_scissor_paper/test\"\n",
    "(x_test, y_test)=load_data_test(image_dir_path_test)\n",
    "x_test_norm = x_test/255.0   # 입력은 0~1 사이의 값으로 정규화\n",
    "\n",
    "print(\"x_test shape: {}\".format(x_test.shape))\n",
    "print(\"y_test shape: {}\".format(y_test.shape))"
   ]
  },
  {
   "cell_type": "markdown",
   "id": "sought-drinking",
   "metadata": {},
   "source": [
    "#### (6)(c) test 데이터를 이용해서 모델 성능 테스트하기 "
   ]
  },
  {
   "cell_type": "code",
   "execution_count": 134,
   "id": "becoming-morning",
   "metadata": {},
   "outputs": [
    {
     "name": "stdout",
     "output_type": "stream",
     "text": [
      "10/10 - 0s - loss: 2.9507 - accuracy: 0.4633\n",
      "test_loss: 2.950740337371826 \n",
      "test_accuracy: 0.4633333384990692\n"
     ]
    }
   ],
   "source": [
    "test_loss, test_accuracy = model.evaluate(x_test,y_test, verbose=2)\n",
    "print(\"test_loss: {} \".format(test_loss))\n",
    "print(\"test_accuracy: {}\".format(test_accuracy))"
   ]
  },
  {
   "cell_type": "markdown",
   "id": "willing-warrant",
   "metadata": {},
   "source": [
    "### (7) 참고자료 - Regularization "
   ]
  },
  {
   "cell_type": "markdown",
   "id": "apart-reward",
   "metadata": {},
   "source": [
    "Overfit을 방지하기 위한 방법 (출처:https://www.tensorflow.org/tutorials/keras/overfit_and_underfit)\n",
    "\n",
    "\"간단한 모델\"은 모델 파라미터의 분포를 봤을 때 엔트로피(entropy)가 작은 모델입니다(또는 앞 절에서 보았듯이 적은 파라미터를 가진 모델입니다). 과대적합을 완화시키는 일반적인 방법은 가중치가 작은 값을 가지도록 네트워크의 복잡도에 제약을 가하는 것입니다. 이는 가중치 값의 분포를 좀 더 균일하게 만들어 줍니다. 이를 \"가중치 규제\"(weight regularization)라고 부릅니다. 네트워크의 손실 함수에 큰 가중치에 해당하는 비용을 추가합니다. 이 비용은 두 가지 형태가 있습니다:\n",
    "\n",
    "* L1 규제: 가중치의 절댓값에 비례하는 비용이 추가됩니다(즉, 가중치의 \"L1 노름(norm)\"을 추가합니다).\n",
    "* L2 규제: 가중치의 제곱에 비례하는 비용이 추가됩니다(즉, 가중치의 \"L2 노름\"의 제곱을 추가합니다). 신경망에서는 L2 규제를 가중치 감쇠(weight decay)라고도 부릅니다. \n",
    "\n",
    "L1 규제는 일부 가중치 파라미터를 0으로 만듭니다. L2 규제는 가중치 파라미터를 제한하지만 완전히 0으로 만들지는 않습니다. 이것이 L2 규제를 더 많이 사용하는 이유 중 하나입니다.\n",
    "\n",
    "여기서는 L2를 이용해서 regularization 을 더해봤습니다. \n"
   ]
  },
  {
   "cell_type": "code",
   "execution_count": null,
   "id": "ordinary-nicholas",
   "metadata": {},
   "outputs": [],
   "source": []
  }
 ],
 "metadata": {
  "kernelspec": {
   "display_name": "Python 3",
   "language": "python",
   "name": "python3"
  },
  "language_info": {
   "codemirror_mode": {
    "name": "ipython",
    "version": 3
   },
   "file_extension": ".py",
   "mimetype": "text/x-python",
   "name": "python",
   "nbconvert_exporter": "python",
   "pygments_lexer": "ipython3",
   "version": "3.7.9"
  }
 },
 "nbformat": 4,
 "nbformat_minor": 5
}
