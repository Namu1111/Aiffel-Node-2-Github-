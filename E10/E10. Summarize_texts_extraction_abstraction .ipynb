{
 "cells": [
  {
   "cell_type": "markdown",
   "id": "conservative-pharmacology",
   "metadata": {},
   "source": [
    "## E10. 뉴스 요약봇 만들기\n",
    "뉴스 기사 데이터로 추출적요약(extraction summary)과 추상적요약(abstraction summary)를 수행하는 모델을 만들어 보자. "
   ]
  },
  {
   "cell_type": "markdown",
   "id": "copyrighted-columbia",
   "metadata": {},
   "source": [
    "### Executive Summary \n",
    "\n",
    "추출적 요약과 추상적 요약을 비교해 본 결과 전반적으로 추출적 요약이 더 길지만 훨씬 의미 전달이 잘 되는걸 볼 수가 있었다.        \n",
    "\n",
    "추상적 요약은 내용이 원문과 맞지 않는것이 대부분이다. 여러가지 이유가 있겠지만 한가지 눈에 띄는것은 original text 와 전처리된 text를 비교했을때의 차이점이었다. 전처리된 text를 읽었을때 이해가 가지 않는 부분이 많았다. 불용어, 소유격, 숫자가 원문에서 없어짐에 따라서 내용이 이해하기 힘들어진것 같다. 노드에 있는 아마존 리뷰 같은 길지 않고 내용의 복잡성이 떨어지는 text에서는 문제가 되지 않을 수도 있으나 신문기사처럼 단어들이 중요성을 갖을 때는 전처리에 대해서 다시 한번 고민해 볼 필요가 있을것 같다.     \n",
    "\n",
    "또한 실제요약도(headline) 말이 되지 않는 것들이 간혹 보인다. 그러므로 모델을 돌리기 전에 data를 좀 더 살펴볼 필요가 있을것 같다.    \n",
    "\n",
    "마지막으로, 다음에는 추상적 요약의 모델에 변화를 주어 성능을 재평가 해보고 싶다. "
   ]
  },
  {
   "cell_type": "markdown",
   "id": "chief-agenda",
   "metadata": {},
   "source": [
    "### Table of Contents\n",
    "* Abstraction Summary \n",
    "* Extraction Summary \n",
    "* Comparison between Abstraction and Extraction Approaches"
   ]
  },
  {
   "cell_type": "markdown",
   "id": "excited-worse",
   "metadata": {},
   "source": [
    "### 필요한 모듈 불러오기 "
   ]
  },
  {
   "cell_type": "code",
   "execution_count": 5,
   "id": "marked-comment",
   "metadata": {},
   "outputs": [
    {
     "name": "stderr",
     "output_type": "stream",
     "text": [
      "[nltk_data] Downloading package stopwords to /aiffel/nltk_data...\n",
      "[nltk_data]   Package stopwords is already up-to-date!\n"
     ]
    }
   ],
   "source": [
    "import os \n",
    "import pandas as pd\n",
    "import numpy as np\n",
    "import re\n",
    "import matplotlib.pyplot as plt\n",
    "import nltk \n",
    "nltk.download('stopwords')\n",
    "from nltk.corpus import stopwords\n",
    "from bs4 import BeautifulSoup \n",
    "from tensorflow.keras.preprocessing.text import Tokenizer \n",
    "from tensorflow.keras.preprocessing.sequence import pad_sequences\n",
    "import urllib.request\n",
    "import multiprocessing as mp   \n",
    "from multiprocessing import Pool\n",
    "import numpy as np\n",
    "import time\n",
    "from functools import partial  \n",
    "from tensorflow.keras.layers import Input, LSTM, Embedding, Dense, Concatenate\n",
    "from tensorflow.keras.models import Model\n",
    "from tensorflow.keras.callbacks import EarlyStopping, ModelCheckpoint\n",
    "from attention import AttentionLayer"
   ]
  },
  {
   "cell_type": "markdown",
   "id": "powered-outdoors",
   "metadata": {},
   "source": [
    "### 데이터 불러오기 "
   ]
  },
  {
   "cell_type": "code",
   "execution_count": 6,
   "id": "favorite-bones",
   "metadata": {},
   "outputs": [],
   "source": [
    "urllib.request.urlretrieve(\"https://raw.githubusercontent.com/sunnysai12345/News_Summary/master/news_summary_more.csv\", filename=\"news_summary_more.csv\")\n",
    "data = pd.read_csv('news_summary_more.csv', encoding='iso-8859-1')"
   ]
  },
  {
   "cell_type": "code",
   "execution_count": 7,
   "id": "important-dryer",
   "metadata": {},
   "outputs": [
    {
     "data": {
      "text/html": [
       "<div>\n",
       "<style scoped>\n",
       "    .dataframe tbody tr th:only-of-type {\n",
       "        vertical-align: middle;\n",
       "    }\n",
       "\n",
       "    .dataframe tbody tr th {\n",
       "        vertical-align: top;\n",
       "    }\n",
       "\n",
       "    .dataframe thead th {\n",
       "        text-align: right;\n",
       "    }\n",
       "</style>\n",
       "<table border=\"1\" class=\"dataframe\">\n",
       "  <thead>\n",
       "    <tr style=\"text-align: right;\">\n",
       "      <th></th>\n",
       "      <th>headlines</th>\n",
       "      <th>text</th>\n",
       "    </tr>\n",
       "  </thead>\n",
       "  <tbody>\n",
       "    <tr>\n",
       "      <th>91155</th>\n",
       "      <td>Comedy show Hum Paanch to have a third season:...</td>\n",
       "      <td>As per reports, the comedy show Hum Paanch wil...</td>\n",
       "    </tr>\n",
       "    <tr>\n",
       "      <th>68557</th>\n",
       "      <td>I'm not forming a new party as of now: Mulayam...</td>\n",
       "      <td>Samajwadi Party (SP) patron Mulayam Singh Yada...</td>\n",
       "    </tr>\n",
       "    <tr>\n",
       "      <th>77020</th>\n",
       "      <td>Plans of military operations against India: Ch...</td>\n",
       "      <td>According to a state-run daily in China, the c...</td>\n",
       "    </tr>\n",
       "    <tr>\n",
       "      <th>48591</th>\n",
       "      <td>Samsung Chairman named suspect in $7.5 mn tax ...</td>\n",
       "      <td>South Korean police have named 76-year-old Sam...</td>\n",
       "    </tr>\n",
       "    <tr>\n",
       "      <th>83331</th>\n",
       "      <td>BCCI to earn Ã¢ÂÂ¹2,199 crore from IPL naming...</td>\n",
       "      <td>BCCI is set to earn Ã¢ÂÂ¹2,199 crore after Ch...</td>\n",
       "    </tr>\n",
       "    <tr>\n",
       "      <th>53987</th>\n",
       "      <td>Peter Thiel's Founders Fund bought $20 mn Bitc...</td>\n",
       "      <td>PayPal Co-founder and early Facebook investor ...</td>\n",
       "    </tr>\n",
       "    <tr>\n",
       "      <th>18911</th>\n",
       "      <td>Bombay HC slams cops over Bhima-Koregaon press...</td>\n",
       "      <td>The Bombay High Court on Monday slammed the Ma...</td>\n",
       "    </tr>\n",
       "    <tr>\n",
       "      <th>67045</th>\n",
       "      <td>Govt proposes airing public interest messages ...</td>\n",
       "      <td>The Information and Broadcasting (I&amp;B) Ministr...</td>\n",
       "    </tr>\n",
       "    <tr>\n",
       "      <th>52626</th>\n",
       "      <td>Virus kills over 170 dolphins in Brazil</td>\n",
       "      <td>Brazilian scientists have said that a virus is...</td>\n",
       "    </tr>\n",
       "    <tr>\n",
       "      <th>31010</th>\n",
       "      <td>Nude portrait by Italian painter auctioned for...</td>\n",
       "      <td>A nude portrait by Italian painter Amedeo Modi...</td>\n",
       "    </tr>\n",
       "  </tbody>\n",
       "</table>\n",
       "</div>"
      ],
      "text/plain": [
       "                                               headlines  \\\n",
       "91155  Comedy show Hum Paanch to have a third season:...   \n",
       "68557  I'm not forming a new party as of now: Mulayam...   \n",
       "77020  Plans of military operations against India: Ch...   \n",
       "48591  Samsung Chairman named suspect in $7.5 mn tax ...   \n",
       "83331  BCCI to earn Ã¢ÂÂ¹2,199 crore from IPL naming...   \n",
       "53987  Peter Thiel's Founders Fund bought $20 mn Bitc...   \n",
       "18911  Bombay HC slams cops over Bhima-Koregaon press...   \n",
       "67045  Govt proposes airing public interest messages ...   \n",
       "52626            Virus kills over 170 dolphins in Brazil   \n",
       "31010  Nude portrait by Italian painter auctioned for...   \n",
       "\n",
       "                                                    text  \n",
       "91155  As per reports, the comedy show Hum Paanch wil...  \n",
       "68557  Samajwadi Party (SP) patron Mulayam Singh Yada...  \n",
       "77020  According to a state-run daily in China, the c...  \n",
       "48591  South Korean police have named 76-year-old Sam...  \n",
       "83331  BCCI is set to earn Ã¢ÂÂ¹2,199 crore after Ch...  \n",
       "53987  PayPal Co-founder and early Facebook investor ...  \n",
       "18911  The Bombay High Court on Monday slammed the Ma...  \n",
       "67045  The Information and Broadcasting (I&B) Ministr...  \n",
       "52626  Brazilian scientists have said that a virus is...  \n",
       "31010  A nude portrait by Italian painter Amedeo Modi...  "
      ]
     },
     "execution_count": 7,
     "metadata": {},
     "output_type": "execute_result"
    }
   ],
   "source": [
    "data.sample(10)"
   ]
  },
  {
   "cell_type": "code",
   "execution_count": 8,
   "id": "alternate-customer",
   "metadata": {},
   "outputs": [
    {
     "data": {
      "text/plain": [
       "(98401, 2)"
      ]
     },
     "execution_count": 8,
     "metadata": {},
     "output_type": "execute_result"
    }
   ],
   "source": [
    "data.shape"
   ]
  },
  {
   "cell_type": "markdown",
   "id": "dramatic-tackle",
   "metadata": {},
   "source": [
    "### 추상적 요약 (Abstraction Summary) "
   ]
  },
  {
   "cell_type": "markdown",
   "id": "appropriate-flooring",
   "metadata": {},
   "source": [
    "### 전처리 \n",
    "1. 중복이 있는지 확인해준다. \n",
    "2. 정규화(text normalization): [출처](https://stackoverflow.com/questions/19790188/expanding-english-language-contractions-in-python)\n",
    "3. 불용어(stop words) 제거: NLTK에서 제공하는 불용어 리스트를 참조\n",
    "4. 데이터의 최대길이 지정\n",
    "5. 결측치 제거\n",
    "6. 시작토큰과 종료 토큰 추가하기 \n"
   ]
  },
  {
   "cell_type": "markdown",
   "id": "boolean-horror",
   "metadata": {},
   "source": [
    "#### 중복 "
   ]
  },
  {
   "cell_type": "code",
   "execution_count": 9,
   "id": "fixed-orchestra",
   "metadata": {},
   "outputs": [],
   "source": [
    "data.drop_duplicates(subset = ['text'], inplace=True)"
   ]
  },
  {
   "cell_type": "markdown",
   "id": "removed-palace",
   "metadata": {},
   "source": [
    "#### 정규화, 불용어 "
   ]
  },
  {
   "cell_type": "code",
   "execution_count": 10,
   "id": "novel-humidity",
   "metadata": {},
   "outputs": [
    {
     "name": "stdout",
     "output_type": "stream",
     "text": [
      "정규화 사전의 수:  120\n"
     ]
    }
   ],
   "source": [
    "contractions = {\"ain't\": \"is not\", \"aren't\": \"are not\",\"can't\": \"cannot\", \"'cause\": \"because\", \"could've\": \"could have\", \"couldn't\": \"could not\",\n",
    "                           \"didn't\": \"did not\",  \"doesn't\": \"does not\", \"don't\": \"do not\", \"hadn't\": \"had not\", \"hasn't\": \"has not\", \"haven't\": \"have not\",\n",
    "                           \"he'd\": \"he would\",\"he'll\": \"he will\", \"he's\": \"he is\", \"how'd\": \"how did\", \"how'd'y\": \"how do you\", \"how'll\": \"how will\", \"how's\": \"how is\",\n",
    "                           \"I'd\": \"I would\", \"I'd've\": \"I would have\", \"I'll\": \"I will\", \"I'll've\": \"I will have\",\"I'm\": \"I am\", \"I've\": \"I have\", \"i'd\": \"i would\",\n",
    "                           \"i'd've\": \"i would have\", \"i'll\": \"i will\",  \"i'll've\": \"i will have\",\"i'm\": \"i am\", \"i've\": \"i have\", \"isn't\": \"is not\", \"it'd\": \"it would\",\n",
    "                           \"it'd've\": \"it would have\", \"it'll\": \"it will\", \"it'll've\": \"it will have\",\"it's\": \"it is\", \"let's\": \"let us\", \"ma'am\": \"madam\",\n",
    "                           \"mayn't\": \"may not\", \"might've\": \"might have\",\"mightn't\": \"might not\",\"mightn't've\": \"might not have\", \"must've\": \"must have\",\n",
    "                           \"mustn't\": \"must not\", \"mustn't've\": \"must not have\", \"needn't\": \"need not\", \"needn't've\": \"need not have\",\"o'clock\": \"of the clock\",\n",
    "                           \"oughtn't\": \"ought not\", \"oughtn't've\": \"ought not have\", \"shan't\": \"shall not\", \"sha'n't\": \"shall not\", \"shan't've\": \"shall not have\",\n",
    "                           \"she'd\": \"she would\", \"she'd've\": \"she would have\", \"she'll\": \"she will\", \"she'll've\": \"she will have\", \"she's\": \"she is\",\n",
    "                           \"should've\": \"should have\", \"shouldn't\": \"should not\", \"shouldn't've\": \"should not have\", \"so've\": \"so have\",\"so's\": \"so as\",\n",
    "                           \"this's\": \"this is\",\"that'd\": \"that would\", \"that'd've\": \"that would have\", \"that's\": \"that is\", \"there'd\": \"there would\",\n",
    "                           \"there'd've\": \"there would have\", \"there's\": \"there is\", \"here's\": \"here is\",\"they'd\": \"they would\", \"they'd've\": \"they would have\",\n",
    "                           \"they'll\": \"they will\", \"they'll've\": \"they will have\", \"they're\": \"they are\", \"they've\": \"they have\", \"to've\": \"to have\",\n",
    "                           \"wasn't\": \"was not\", \"we'd\": \"we would\", \"we'd've\": \"we would have\", \"we'll\": \"we will\", \"we'll've\": \"we will have\", \"we're\": \"we are\",\n",
    "                           \"we've\": \"we have\", \"weren't\": \"were not\", \"what'll\": \"what will\", \"what'll've\": \"what will have\", \"what're\": \"what are\",\n",
    "                           \"what's\": \"what is\", \"what've\": \"what have\", \"when's\": \"when is\", \"when've\": \"when have\", \"where'd\": \"where did\", \"where's\": \"where is\",\n",
    "                           \"where've\": \"where have\", \"who'll\": \"who will\", \"who'll've\": \"who will have\", \"who's\": \"who is\", \"who've\": \"who have\",\n",
    "                           \"why's\": \"why is\", \"why've\": \"why have\", \"will've\": \"will have\", \"won't\": \"will not\", \"won't've\": \"will not have\",\n",
    "                           \"would've\": \"would have\", \"wouldn't\": \"would not\", \"wouldn't've\": \"would not have\", \"y'all\": \"you all\",\n",
    "                           \"y'all'd\": \"you all would\",\"y'all'd've\": \"you all would have\",\"y'all're\": \"you all are\",\"y'all've\": \"you all have\",\n",
    "                           \"you'd\": \"you would\", \"you'd've\": \"you would have\", \"you'll\": \"you will\", \"you'll've\": \"you will have\",\n",
    "                           \"you're\": \"you are\", \"you've\": \"you have\"}\n",
    "\n",
    "print(\"정규화 사전의 수: \", len(contractions))"
   ]
  },
  {
   "cell_type": "code",
   "execution_count": 11,
   "id": "flush-theory",
   "metadata": {},
   "outputs": [
    {
     "name": "stdout",
     "output_type": "stream",
     "text": [
      "불용어 개수 : 179\n"
     ]
    }
   ],
   "source": [
    "print('불용어 개수 :', len(stopwords.words('english')))"
   ]
  },
  {
   "cell_type": "code",
   "execution_count": 12,
   "id": "visible-right",
   "metadata": {},
   "outputs": [],
   "source": [
    "def preprocess_sentence(sentence, remove_stopwords=True):\n",
    "    sentence = sentence.lower() # 텍스트 소문자화\n",
    "    sentence = BeautifulSoup(sentence, \"lxml\").text # <br />, <a href = ...> 등의 html 태그 제거\n",
    "    sentence = re.sub(r'\\([^)]*\\)', '', sentence) # 괄호로 닫힌 문자열 (...) 제거 Ex) my husband (and myself!) for => my husband for\n",
    "    sentence = re.sub('\"','', sentence) # 쌍따옴표 \" 제거\n",
    "    sentence = ' '.join([contractions[t] if t in contractions else t for t in sentence.split(\" \")]) # 약어 정규화\n",
    "    sentence = re.sub(r\"'s\\b\",\"\", sentence) # 소유격 제거. Ex) roland's -> roland\n",
    "    sentence = re.sub(\"[^a-zA-Z]\", \" \", sentence) # 영어 외 문자(숫자, 특수문자 등) 공백으로 변환\n",
    "    sentence = re.sub('[m]{2,}', 'mm', sentence) # m이 3개 이상이면 2개로 변경. Ex) ummmmmmm yeah -> umm yeah\n",
    "    \n",
    "    # 불용어 제거 (Text)\n",
    "    if remove_stopwords:\n",
    "        tokens = ' '.join(word for word in sentence.split() if not word in stopwords.words('english') if len(word) > 1)\n",
    "    # 불용어 미제거 (Summary)\n",
    "    else:\n",
    "        tokens = ' '.join(word for word in sentence.split() if len(word) > 1)\n",
    "    return tokens"
   ]
  },
  {
   "cell_type": "code",
   "execution_count": 13,
   "id": "fitted-reservoir",
   "metadata": {},
   "outputs": [
    {
     "name": "stdout",
     "output_type": "stream",
     "text": [
      "229.66391921043396  seconds\n",
      "['saurav kant alumnus upgrad iiit pg program machine learning artificial intelligence sr systems engineer infosys almost years work experience program upgrad degree career support helped transition data scientist tech mahindra salary hike upgrad online power learning powered lakh careers'\n",
      " 'kunal shah credit card bill payment platform cred gave users chance win free food swiggy one year pranav kaushik delhi techie bagged reward spending cred coins users get one cred coin per rupee bill paid used avail rewards brands like ixigo bookmyshow ubereats cult fit'\n",
      " 'new zealand defeated india wickets fourth odi hamilton thursday win first match five match odi series india lost international match rohit sharma captaincy consecutive victories dating back march match witnessed india getting seventh lowest total odi cricket history'\n",
      " ...\n",
      " 'according reports new version science fiction film matrix development michael jordan reportedly play lead role film screenwriter zak penn talks write script film reports added actor keanu reeves starred original film followed two sequels'\n",
      " 'new music video shows rapper snoop dogg aiming toy gun clown character parodying us president donald trump video also shows tv airing news conference headline ronald klump wants deport doggs airing live clown house video remixed version song lavender'\n",
      " 'madhesi morcha alliance seven political parties withdrawn support pm pushpa kamal dahal led nepal government failed meet seven day ultimatum fulfil demands including endorsement revised constitution amendment bill morcha seats parliament despite withdrawal support immediate threat government']\n",
      "7.46026611328125  seconds\n",
      "['upgrad learner switches to career in ml al with salary hike'\n",
      " 'delhi techie wins free food from swiggy for one year on cred'\n",
      " 'new zealand end rohit sharma led india match winning streak' ...\n",
      " 'the matrix film to get reboot reports'\n",
      " 'snoop dogg aims gun at clown dressed as trump in new video'\n",
      " 'madhesi morcha withdraws support to nepalese government']\n"
     ]
    }
   ],
   "source": [
    "start = time.time()\n",
    "\n",
    "# num_cores 만큼 쪼개진 데이터를 전처리하여 반환합니다\n",
    "def appendTexts(sentences, remove_stopwords):\n",
    "  texts = []\n",
    "  for s in sentences:\n",
    "    texts += preprocess_sentence(s, remove_stopwords),\n",
    "  return texts\n",
    "\n",
    "def preprocess_data(data, remove_stopwords=True):\n",
    "  start_time = time.time()\n",
    "  num_cores = mp.cpu_count()  # 컴퓨터의 코어 수를 구합니다\n",
    "\n",
    "  text_data_split = np.array_split(data, num_cores)  # 코어 수만큼 데이터를 배분하여 병렬적으로 처리할 수 있게 합니다\n",
    "  pool = Pool(num_cores)\n",
    "\n",
    "  processed_data = np.concatenate(pool.map(partial(appendTexts, remove_stopwords=remove_stopwords), text_data_split))  # 각자 작업한 데이터를 하나로 합쳐줍니다\n",
    "  pool.close()\n",
    "  pool.join()\n",
    "  print(time.time() - start_time, \" seconds\")\n",
    "  return processed_data\n",
    "\n",
    "clean_text = preprocess_data(data['text'])  # 클라우드 기준으로 3~4분 정도 소요 됩니다\n",
    "print(clean_text)\n",
    "\n",
    "clean_headlines = preprocess_data(data['headlines'], remove_stopwords=False) # 클라우드 기준 1분정도 소요됩니다.\n",
    "print(clean_headlines)"
   ]
  },
  {
   "cell_type": "code",
   "execution_count": 14,
   "id": "institutional-voluntary",
   "metadata": {},
   "outputs": [],
   "source": [
    "data['text'] = clean_text\n",
    "data['headlines'] = clean_headlines"
   ]
  },
  {
   "cell_type": "markdown",
   "id": "structured-photograph",
   "metadata": {},
   "source": [
    "#### 최대길이 지정\n",
    "text, headlines 길이는 정규분포 모양으로 고르게 분포되어 있다. \n",
    "최대길이는 text= 45, headlines=13으로 해 주기로 한다. \n",
    "최대길이보다 긴 문장들을 없어주고 난 뒤의 데이터의 갯수는 97863. 원본보다 500개 정도가 적다. "
   ]
  },
  {
   "cell_type": "code",
   "execution_count": 15,
   "id": "rural-determination",
   "metadata": {},
   "outputs": [
    {
     "name": "stdout",
     "output_type": "stream",
     "text": [
      "텍스트의 최소 길이 : 1\n",
      "텍스트의 최대 길이 : 60\n",
      "텍스트의 평균 길이 : 35.09968483123221\n",
      "요약의 최소 길이 : 1\n",
      "요약의 최대 길이 : 16\n",
      "요약의 평균 길이 : 9.299532330215534\n"
     ]
    },
    {
     "data": {
      "image/png": "[encoded data removed]",
      "text/plain": [
       "<Figure size 432x288 with 2 Axes>"
      ]
     },
     "metadata": {
      "needs_background": "light"
     },
     "output_type": "display_data"
    },
    {
     "data": {
      "image/png": "[encoded data removed]",
      "text/plain": [
       "<Figure size 432x288 with 1 Axes>"
      ]
     },
     "metadata": {
      "needs_background": "light"
     },
     "output_type": "display_data"
    },
    {
     "data": {
      "image/png": "[encoded data removed]",
      "text/plain": [
       "<Figure size 432x288 with 1 Axes>"
      ]
     },
     "metadata": {
      "needs_background": "light"
     },
     "output_type": "display_data"
    }
   ],
   "source": [
    "text_len = [len(s.split()) for s in data['text']]\n",
    "summary_len = [len(s.split()) for s in data['headlines']]\n",
    "\n",
    "print('텍스트의 최소 길이 : {}'.format(np.min(text_len)))\n",
    "print('텍스트의 최대 길이 : {}'.format(np.max(text_len)))\n",
    "print('텍스트의 평균 길이 : {}'.format(np.mean(text_len)))\n",
    "print('요약의 최소 길이 : {}'.format(np.min(summary_len)))\n",
    "print('요약의 최대 길이 : {}'.format(np.max(summary_len)))\n",
    "print('요약의 평균 길이 : {}'.format(np.mean(summary_len)))\n",
    "\n",
    "plt.subplot(1,2,1)\n",
    "plt.boxplot(summary_len)\n",
    "plt.title('headlines')\n",
    "plt.subplot(1,2,2)\n",
    "plt.boxplot(text_len)\n",
    "plt.title('text')\n",
    "plt.tight_layout()\n",
    "plt.show()\n",
    "\n",
    "plt.title('headlines')\n",
    "plt.hist(summary_len, bins = 40)\n",
    "plt.xlabel('length of samples')\n",
    "plt.ylabel('number of samples')\n",
    "plt.show()\n",
    "\n",
    "plt.title('Text')\n",
    "plt.hist(text_len, bins = 40)\n",
    "plt.xlabel('length of samples')\n",
    "plt.ylabel('number of samples')\n",
    "plt.show()"
   ]
  },
  {
   "cell_type": "code",
   "execution_count": 16,
   "id": "excess-ability",
   "metadata": {},
   "outputs": [],
   "source": [
    "text_max_len = 45\n",
    "headlines_max_len = 13"
   ]
  },
  {
   "cell_type": "code",
   "execution_count": 17,
   "id": "charming-manitoba",
   "metadata": {},
   "outputs": [],
   "source": [
    "def below_threshold_len(max_len, nested_list):\n",
    "  cnt = 0\n",
    "  for s in nested_list:\n",
    "    if(len(s.split()) <= max_len):\n",
    "        cnt = cnt + 1\n",
    "  print('전체 샘플 중 길이가 %s 이하인 샘플의 비율: %s'%(max_len, (cnt / len(nested_list))))"
   ]
  },
  {
   "cell_type": "code",
   "execution_count": 18,
   "id": "insured-africa",
   "metadata": {},
   "outputs": [
    {
     "name": "stdout",
     "output_type": "stream",
     "text": [
      "전체 샘플 중 길이가 45 이하인 샘플의 비율: 0.9967771451809678\n",
      "전체 샘플 중 길이가 13 이하인 샘플의 비율: 0.9981699877999186\n"
     ]
    }
   ],
   "source": [
    "below_threshold_len(text_max_len, data['text'])\n",
    "below_threshold_len(headlines_max_len,  data['headlines'])"
   ]
  },
  {
   "cell_type": "code",
   "execution_count": 19,
   "id": "latin-animal",
   "metadata": {},
   "outputs": [
    {
     "name": "stdout",
     "output_type": "stream",
     "text": [
      "전체 샘플수 : 97863\n"
     ]
    }
   ],
   "source": [
    "data = data[data['text'].apply(lambda x: len(x.split()) <= text_max_len)]\n",
    "data = data[data['headlines'].apply(lambda x: len(x.split()) <= headlines_max_len)]\n",
    "print('전체 샘플수 :', (len(data)))"
   ]
  },
  {
   "cell_type": "markdown",
   "id": "tough-vaccine",
   "metadata": {},
   "source": [
    "#### 결측치 제거\n",
    "결측치 없음"
   ]
  },
  {
   "cell_type": "code",
   "execution_count": 20,
   "id": "fifteen-tribe",
   "metadata": {},
   "outputs": [
    {
     "data": {
      "text/plain": [
       "headlines    0\n",
       "text         0\n",
       "dtype: int64"
      ]
     },
     "execution_count": 20,
     "metadata": {},
     "output_type": "execute_result"
    }
   ],
   "source": [
    "data.isnull().sum()"
   ]
  },
  {
   "cell_type": "markdown",
   "id": "juvenile-shopping",
   "metadata": {},
   "source": [
    "#### 시작, 종료 토큰 추가 \n",
    "* 시작: 'sostoken'\n",
    "* 종료: 'eostoken'"
   ]
  },
  {
   "cell_type": "code",
   "execution_count": 21,
   "id": "under-lounge",
   "metadata": {},
   "outputs": [
    {
     "data": {
      "text/html": [
       "<div>\n",
       "<style scoped>\n",
       "    .dataframe tbody tr th:only-of-type {\n",
       "        vertical-align: middle;\n",
       "    }\n",
       "\n",
       "    .dataframe tbody tr th {\n",
       "        vertical-align: top;\n",
       "    }\n",
       "\n",
       "    .dataframe thead th {\n",
       "        text-align: right;\n",
       "    }\n",
       "</style>\n",
       "<table border=\"1\" class=\"dataframe\">\n",
       "  <thead>\n",
       "    <tr style=\"text-align: right;\">\n",
       "      <th></th>\n",
       "      <th>headlines</th>\n",
       "      <th>text</th>\n",
       "      <th>decoder_input</th>\n",
       "      <th>decoder_target</th>\n",
       "    </tr>\n",
       "  </thead>\n",
       "  <tbody>\n",
       "    <tr>\n",
       "      <th>0</th>\n",
       "      <td>upgrad learner switches to career in ml al wit...</td>\n",
       "      <td>saurav kant alumnus upgrad iiit pg program mac...</td>\n",
       "      <td>sostoken upgrad learner switches to career in ...</td>\n",
       "      <td>upgrad learner switches to career in ml al wit...</td>\n",
       "    </tr>\n",
       "    <tr>\n",
       "      <th>1</th>\n",
       "      <td>delhi techie wins free food from swiggy for on...</td>\n",
       "      <td>kunal shah credit card bill payment platform c...</td>\n",
       "      <td>sostoken delhi techie wins free food from swig...</td>\n",
       "      <td>delhi techie wins free food from swiggy for on...</td>\n",
       "    </tr>\n",
       "    <tr>\n",
       "      <th>2</th>\n",
       "      <td>new zealand end rohit sharma led india match w...</td>\n",
       "      <td>new zealand defeated india wickets fourth odi ...</td>\n",
       "      <td>sostoken new zealand end rohit sharma led indi...</td>\n",
       "      <td>new zealand end rohit sharma led india match w...</td>\n",
       "    </tr>\n",
       "    <tr>\n",
       "      <th>3</th>\n",
       "      <td>aegon life iterm insurance plan helps customer...</td>\n",
       "      <td>aegon life iterm insurance plan customers enjo...</td>\n",
       "      <td>sostoken aegon life iterm insurance plan helps...</td>\n",
       "      <td>aegon life iterm insurance plan helps customer...</td>\n",
       "    </tr>\n",
       "    <tr>\n",
       "      <th>4</th>\n",
       "      <td>have known hirani for yrs what if metoo claims...</td>\n",
       "      <td>speaking sexual harassment allegations rajkuma...</td>\n",
       "      <td>sostoken have known hirani for yrs what if met...</td>\n",
       "      <td>have known hirani for yrs what if metoo claims...</td>\n",
       "    </tr>\n",
       "  </tbody>\n",
       "</table>\n",
       "</div>"
      ],
      "text/plain": [
       "                                           headlines  \\\n",
       "0  upgrad learner switches to career in ml al wit...   \n",
       "1  delhi techie wins free food from swiggy for on...   \n",
       "2  new zealand end rohit sharma led india match w...   \n",
       "3  aegon life iterm insurance plan helps customer...   \n",
       "4  have known hirani for yrs what if metoo claims...   \n",
       "\n",
       "                                                text  \\\n",
       "0  saurav kant alumnus upgrad iiit pg program mac...   \n",
       "1  kunal shah credit card bill payment platform c...   \n",
       "2  new zealand defeated india wickets fourth odi ...   \n",
       "3  aegon life iterm insurance plan customers enjo...   \n",
       "4  speaking sexual harassment allegations rajkuma...   \n",
       "\n",
       "                                       decoder_input  \\\n",
       "0  sostoken upgrad learner switches to career in ...   \n",
       "1  sostoken delhi techie wins free food from swig...   \n",
       "2  sostoken new zealand end rohit sharma led indi...   \n",
       "3  sostoken aegon life iterm insurance plan helps...   \n",
       "4  sostoken have known hirani for yrs what if met...   \n",
       "\n",
       "                                      decoder_target  \n",
       "0  upgrad learner switches to career in ml al wit...  \n",
       "1  delhi techie wins free food from swiggy for on...  \n",
       "2  new zealand end rohit sharma led india match w...  \n",
       "3  aegon life iterm insurance plan helps customer...  \n",
       "4  have known hirani for yrs what if metoo claims...  "
      ]
     },
     "execution_count": 21,
     "metadata": {},
     "output_type": "execute_result"
    }
   ],
   "source": [
    "data['decoder_input'] = data['headlines'].apply(lambda x : 'sostoken '+ x)\n",
    "data['decoder_target'] = data['headlines'].apply(lambda x : x + ' eostoken')\n",
    "data.head()"
   ]
  },
  {
   "cell_type": "markdown",
   "id": "czech-signal",
   "metadata": {},
   "source": [
    "#### encoder, decoder  \n",
    "* encoder_input (인코더 입력): text    \n",
    "* decoder_input (디코더의 입력): 'sostoken'+ headlines \n",
    "* decoder_target (디코더의 레이블): headlines + 'eostoken'    "
   ]
  },
  {
   "cell_type": "code",
   "execution_count": 22,
   "id": "greenhouse-letter",
   "metadata": {},
   "outputs": [],
   "source": [
    "encoder_input = np.array(data['text']) # 인코더의 입력\n",
    "decoder_input = np.array(data['decoder_input']) # 디코더의 입력\n",
    "decoder_target = np.array(data['decoder_target']) # 디코더의 레이블"
   ]
  },
  {
   "cell_type": "code",
   "execution_count": 23,
   "id": "looking-speech",
   "metadata": {},
   "outputs": [],
   "source": [
    "#indices = np.arange(encoder_input.shape[0])\n",
    "#np.random.shuffle(indices)\n",
    "#print(indices)"
   ]
  },
  {
   "cell_type": "code",
   "execution_count": 24,
   "id": "responsible-search",
   "metadata": {},
   "outputs": [],
   "source": [
    "#encoder_input = encoder_input[indices]\n",
    "#decoder_input = decoder_input[indices]\n",
    "#decoder_target = decoder_target[indices]"
   ]
  },
  {
   "cell_type": "markdown",
   "id": "finnish-cargo",
   "metadata": {},
   "source": [
    "### train/test 나눠주기"
   ]
  },
  {
   "cell_type": "code",
   "execution_count": 25,
   "id": "julian-sterling",
   "metadata": {},
   "outputs": [
    {
     "name": "stdout",
     "output_type": "stream",
     "text": [
      "테스트 데이터의 수 : 19572\n"
     ]
    }
   ],
   "source": [
    "n_of_val = int(len(encoder_input)*0.2)\n",
    "print('테스트 데이터의 수 :', n_of_val)"
   ]
  },
  {
   "cell_type": "code",
   "execution_count": 26,
   "id": "photographic-receipt",
   "metadata": {},
   "outputs": [
    {
     "name": "stdout",
     "output_type": "stream",
     "text": [
      "훈련 데이터의 개수 : 78291\n",
      "훈련 레이블의 개수 : 78291\n",
      "테스트 데이터의 개수 : 19572\n",
      "테스트 레이블의 개수 : 19572\n"
     ]
    }
   ],
   "source": [
    "encoder_input_train = encoder_input[:-n_of_val]\n",
    "decoder_input_train = decoder_input[:-n_of_val]\n",
    "decoder_target_train = decoder_target[:-n_of_val]\n",
    "\n",
    "encoder_input_test = encoder_input[-n_of_val:]\n",
    "decoder_input_test = decoder_input[-n_of_val:]\n",
    "decoder_target_test = decoder_target[-n_of_val:]\n",
    "\n",
    "print('훈련 데이터의 개수 :', len(encoder_input_train))\n",
    "print('훈련 레이블의 개수 :', len(decoder_input_train))\n",
    "print('테스트 데이터의 개수 :', len(encoder_input_test))\n",
    "print('테스트 레이블의 개수 :', len(decoder_input_test))"
   ]
  },
  {
   "cell_type": "markdown",
   "id": "another-hello",
   "metadata": {},
   "source": [
    "### 단어집합(vocabulary) 만들기 (encoder_input_train)\n",
    "* Tokenizer\n",
    "* encoder_input_train 으로 vocabulary 생성 (fit_on_texts이용)\n",
    "* text_to_sequences 으로 토큰을 정수로 바꾸기 "
   ]
  },
  {
   "cell_type": "code",
   "execution_count": 27,
   "id": "persistent-praise",
   "metadata": {},
   "outputs": [],
   "source": [
    "src_tokenizer = Tokenizer() \n",
    "src_tokenizer.fit_on_texts(encoder_input_train) "
   ]
  },
  {
   "cell_type": "code",
   "execution_count": 28,
   "id": "celtic-truck",
   "metadata": {},
   "outputs": [
    {
     "name": "stdout",
     "output_type": "stream",
     "text": [
      "단어 집합(vocabulary)의 크기 : 67883\n",
      "등장 빈도가 9번 이하인 희귀 단어의 수: 49743\n",
      "단어 집합에서 희귀 단어를 제외시킬 경우의 단어 집합의 크기 18140\n",
      "단어 집합에서 희귀 단어의 비율: 73.27755108053563\n",
      "전체 등장 빈도에서 희귀 단어 등장 빈도 비율: 4.491020036303802\n"
     ]
    }
   ],
   "source": [
    "threshold = 10\n",
    "total_cnt = len(src_tokenizer.word_index) # 단어의 수\n",
    "rare_cnt = 0 # 등장 빈도수가 threshold보다 작은 단어의 개수를 카운트\n",
    "total_freq = 0 # 훈련 데이터의 전체 단어 빈도수 총 합\n",
    "rare_freq = 0 # 등장 빈도수가 threshold보다 작은 단어의 등장 빈도수의 총 합\n",
    "\n",
    "# 단어와 빈도수의 쌍(pair)을 key와 value로 받는다.\n",
    "for key, value in src_tokenizer.word_counts.items():\n",
    "    total_freq = total_freq + value\n",
    "\n",
    "    # 단어의 등장 빈도수가 threshold보다 작으면\n",
    "    if(value < threshold):\n",
    "        rare_cnt = rare_cnt + 1\n",
    "        rare_freq = rare_freq + value\n",
    "\n",
    "print('단어 집합(vocabulary)의 크기 :', total_cnt)\n",
    "print('등장 빈도가 %s번 이하인 희귀 단어의 수: %s'%(threshold - 1, rare_cnt))\n",
    "print('단어 집합에서 희귀 단어를 제외시킬 경우의 단어 집합의 크기 %s'%(total_cnt - rare_cnt))\n",
    "print(\"단어 집합에서 희귀 단어의 비율:\", (rare_cnt / total_cnt)*100)\n",
    "print(\"전체 등장 빈도에서 희귀 단어 등장 빈도 비율:\", (rare_freq / total_freq)*100)"
   ]
  },
  {
   "cell_type": "code",
   "execution_count": 29,
   "id": "contrary-relaxation",
   "metadata": {},
   "outputs": [],
   "source": [
    "src_vocab = 50000\n",
    "src_tokenizer = Tokenizer(num_words=src_vocab) \n",
    "src_tokenizer.fit_on_texts(encoder_input_train) # 단어 집합 재생성 "
   ]
  },
  {
   "cell_type": "code",
   "execution_count": 30,
   "id": "operating-brain",
   "metadata": {},
   "outputs": [
    {
     "name": "stdout",
     "output_type": "stream",
     "text": [
      "[9508, 1740, 11815, 3047, 7812, 1538, 1738, 565, 582, 7573, 1, 6099, 10, 1036, 23, 5885, 431, 1856, 11815, 366, 5344, 1931, 14629, 1, 1550, 36, 23, 290, 27, 7573]\n"
     ]
    }
   ],
   "source": [
    "# 텍스트 시퀀스를 정수 시퀀스로 변환\n",
    "encoder_input_train = src_tokenizer.texts_to_sequences(encoder_input_train) \n",
    "encoder_input_test = src_tokenizer.texts_to_sequences(encoder_input_test)\n",
    "print(encoder_input_test[1])"
   ]
  },
  {
   "cell_type": "markdown",
   "id": "right-hollywood",
   "metadata": {},
   "source": [
    "### 단어집합(vocabulary) 만들기 (decoder_input_train)\n",
    "* Tokenizer\n",
    "* decoder_input_train 으로 vocabulary 생성 (fit_on_texts이용)\n",
    "* text_to_sequences 으로 토큰을 정수로 바꾸기 \n",
    "* headlines 중에서 vocabulary 생성후 없어진 문장이 있나 확인결과, 없어진 문장은 없었다. "
   ]
  },
  {
   "cell_type": "code",
   "execution_count": 31,
   "id": "dental-testimony",
   "metadata": {},
   "outputs": [],
   "source": [
    "tar_tokenizer = Tokenizer() \n",
    "tar_tokenizer.fit_on_texts(decoder_input_train) "
   ]
  },
  {
   "cell_type": "code",
   "execution_count": 32,
   "id": "manufactured-right",
   "metadata": {},
   "outputs": [
    {
     "name": "stdout",
     "output_type": "stream",
     "text": [
      "단어 집합(vocabulary)의 크기 : 29645\n",
      "등장 빈도가 9번 이하인 희귀 단어의 수: 22038\n",
      "단어 집합에서 희귀 단어를 제외시킬 경우의 단어 집합의 크기 7607\n",
      "단어 집합에서 희귀 단어의 비율: 74.33968628773823\n",
      "전체 등장 빈도에서 희귀 단어 등장 빈도 비율: 6.99683498244809\n"
     ]
    }
   ],
   "source": [
    "threshold = 10\n",
    "total_cnt = len(tar_tokenizer.word_index) # 단어의 수\n",
    "rare_cnt = 0 # 등장 빈도수가 threshold보다 작은 단어의 개수를 카운트\n",
    "total_freq = 0 # 훈련 데이터의 전체 단어 빈도수 총 합\n",
    "rare_freq = 0 # 등장 빈도수가 threshold보다 작은 단어의 등장 빈도수의 총 합\n",
    "\n",
    "# 단어와 빈도수의 쌍(pair)을 key와 value로 받는다.\n",
    "for key, value in tar_tokenizer.word_counts.items():\n",
    "    total_freq = total_freq + value\n",
    "\n",
    "    # 단어의 등장 빈도수가 threshold보다 작으면\n",
    "    if(value < threshold):\n",
    "        rare_cnt = rare_cnt + 1\n",
    "        rare_freq = rare_freq + value\n",
    "\n",
    "print('단어 집합(vocabulary)의 크기 :', total_cnt)\n",
    "print('등장 빈도가 %s번 이하인 희귀 단어의 수: %s'%(threshold - 1, rare_cnt))\n",
    "print('단어 집합에서 희귀 단어를 제외시킬 경우의 단어 집합의 크기 %s'%(total_cnt - rare_cnt))\n",
    "print(\"단어 집합에서 희귀 단어의 비율:\", (rare_cnt / total_cnt)*100)\n",
    "print(\"전체 등장 빈도에서 희귀 단어 등장 빈도 비율:\", (rare_freq / total_freq)*100)"
   ]
  },
  {
   "cell_type": "code",
   "execution_count": 33,
   "id": "charming-postcard",
   "metadata": {},
   "outputs": [],
   "source": [
    "tar_vocab = 20000\n",
    "tar_tokenizer = Tokenizer(num_words=tar_vocab) \n",
    "tar_tokenizer.fit_on_texts(decoder_input_train) \n",
    "tar_tokenizer.fit_on_texts(decoder_target_train)"
   ]
  },
  {
   "cell_type": "code",
   "execution_count": 34,
   "id": "certain-welsh",
   "metadata": {},
   "outputs": [
    {
     "name": "stdout",
     "output_type": "stream",
     "text": [
      "[1, 10, 49, 4862, 82, 62, 1283, 204, 577, 487, 4760, 11164]\n"
     ]
    }
   ],
   "source": [
    "# 텍스트 시퀀스를 정수 시퀀스로 변환\n",
    "decoder_input_train = tar_tokenizer.texts_to_sequences(decoder_input_train) \n",
    "decoder_target_train = tar_tokenizer.texts_to_sequences(decoder_target_train)\n",
    "decoder_input_test = tar_tokenizer.texts_to_sequences(decoder_input_test)\n",
    "decoder_target_test = tar_tokenizer.texts_to_sequences(decoder_target_test)\n",
    "print(decoder_input_test[1])"
   ]
  },
  {
   "cell_type": "code",
   "execution_count": 35,
   "id": "posted-labor",
   "metadata": {},
   "outputs": [
    {
     "name": "stdout",
     "output_type": "stream",
     "text": [
      "삭제할 훈련 데이터:  0\n",
      "삭제할 테스트 데이터:  0\n"
     ]
    }
   ],
   "source": [
    "drop_train = [index for index, sentence in enumerate(decoder_input_train) if len(sentence)==1]\n",
    "drop_test = [index for index, sentence in enumerate(decoder_input_test) if len(sentence)==1]\n",
    "\n",
    "print('삭제할 훈련 데이터: ', len(drop_train))\n",
    "print('삭제할 테스트 데이터: ',len(drop_test))"
   ]
  },
  {
   "cell_type": "markdown",
   "id": "serial-conference",
   "metadata": {},
   "source": [
    "### 패딩하기 \n",
    "* maxlen을 기준으로 'post'에 패딩을 넣어줌 "
   ]
  },
  {
   "cell_type": "code",
   "execution_count": 36,
   "id": "small-settle",
   "metadata": {},
   "outputs": [],
   "source": [
    "encoder_input_train = pad_sequences(encoder_input_train, maxlen=text_max_len, padding='post')\n",
    "encoder_input_test = pad_sequences(encoder_input_test, maxlen=text_max_len, padding='post')\n",
    "decoder_input_train = pad_sequences(decoder_input_train, maxlen=headlines_max_len, padding='post')\n",
    "decoder_target_train = pad_sequences(decoder_target_train, maxlen=headlines_max_len, padding='post')\n",
    "decoder_input_test = pad_sequences(decoder_input_test, maxlen=headlines_max_len, padding='post')\n",
    "decoder_target_test = pad_sequences(decoder_target_test, maxlen=headlines_max_len, padding='post')"
   ]
  },
  {
   "cell_type": "markdown",
   "id": "positive-honey",
   "metadata": {},
   "source": [
    "### 모델 설계 \n",
    "\n",
    "* 모델에 대한 설명 \n",
    "1. seq2seq를 사용 [출처](https://blog.naver.com/sooftware/221784419691)   \n",
    "    1) encoder, decoder 모델    \n",
    "    2) encoder: 입력데이터를 encoding 해서 vector의 형태로 압축한다 (context vector). LSTM을 사용해주면 데이터를 h, hidden state vector로 바꿔준다. 특정 길이의 시계열 데이터를 고정 길이 벡터로 변환하는 작업.     \n",
    "    3) decoder: encoder로부터 전달받은 h와 이번 layer의 input(처음 layer는 'sostoken'이 input)을 바탕으로 affine, softmax를 거쳐서 다음 단어를 예측.     \n",
    "         \n",
    "2. RNN 계열 중 LSTM을 사용. LSTM은 4개의 layer들로 구성돼어 있다. 위에 수평으로 있는 선이 cell state의 흐름, 밑에 선은 hidden state의 흐름을 나타낸다.  [출처](https://dgkim5360.tistory.com/entry/understanding-long-short-term-memory-lstm-kr)    \n",
    "    1) forget gate layer: 전 layer에서 나온 cell state로부터 어떤 정보를 버릴것인지 정하는것. 전 layer에서 나온 hidden state의 값과 이번 input인 x를 linear regression/sigmoid layer에 통과시켜서 값이 1이면 모든 정보를 보존시켜서 cell state으로 전달시키고, 0이면 값을 버린다.    \n",
    "    2) input gate layer: 이번 layer의 input인 x에서 어떤 정보를 cell state에 저장할것인지 결정한다.     \n",
    "    3) cell state update: 1)과 2)를 통해 cell state을 업데이트 시켜준다.     \n",
    "    4) output gate layer: 전 layer의 hidden state과 이번 layer의 x 값을 3)에서 update 된 cell state을 반영해서 hidden state의 output이 생성된다. output은 또 다음 layer의 input으로 간다.     \n",
    "3. 디코더의 예측 시퀀스에는 시작 토큰 SOS와 예측 토큰 EOS를 시퀀스의 앞, 뒤로 붙임.   \n",
    "4. seq2seq를 구동시키면 디코더는 시작 토큰을 입력받아 예측을 시작.   \n",
    "5. seq2seq 기본 모델과 달리, 어텐션 메커니즘을 이용해 인코더의 hidden state의 중요도를 취합한 컨텍스트 벡터를 디코더 스텝별로 계산. [출처](https://blog.naver.com/sooftware/221784472231)   \n",
    "    1) seq2seq의 문제점    \n",
    "        * 하나의 고정된 크기에 벡터를 압축하다보니 정보손실이 일어나고 문장이 길어지면 성능이 떨어진다.      \n",
    "        * vanishing gradient problem    \n",
    "    2) Attention mechanism: decoder가 final hidden state과 cell state를 input으로 받을 뿐 아니라, decoder에서 출력결과를 예측할 때 마다 encoder의 필요한 hidden state들을 반영한다 (final hidden state과 더불어). 이 때 어느 encoder의 hidden state을 얼마나 참고해야 할 지 결정해야 하는데, 이것은 softmax 를 통해서 각 hidden state의 attention distribution을 정해준다. softmax 의 총합은 1이므로, hidden state중에 값이 큰 것이 decoding 할때 많이 반영된다.      \n",
    "6. 계산된 컨텍스트 벡터를 이용해서 디코더는 다음 등장할 단어를 예측.    \n",
    "   \n",
    "   \n",
    "* 코딩 순서  \n",
    "    * encoder 설계   \n",
    "    * decoder 설계    \n",
    "    * attention mechanism 적용    "
   ]
  },
  {
   "cell_type": "markdown",
   "id": "exciting-charlotte",
   "metadata": {},
   "source": [
    "### encoder 설계 \n",
    "* Embedding (dimension=128) \n",
    "* LSTM 1 (hidden state=256, hidden state은 뉴런의 갯수, dimensionality of the output space)\n",
    "* LSTM 2\n",
    "* LSTM 3"
   ]
  },
  {
   "cell_type": "code",
   "execution_count": 37,
   "id": "municipal-bargain",
   "metadata": {},
   "outputs": [
    {
     "name": "stdout",
     "output_type": "stream",
     "text": [
      "WARNING:tensorflow:Layer lstm will not use cuDNN kernel since it doesn't meet the cuDNN kernel criteria. It will use generic GPU kernel as fallback when running on GPU\n",
      "WARNING:tensorflow:Layer lstm_1 will not use cuDNN kernel since it doesn't meet the cuDNN kernel criteria. It will use generic GPU kernel as fallback when running on GPU\n",
      "WARNING:tensorflow:Layer lstm_2 will not use cuDNN kernel since it doesn't meet the cuDNN kernel criteria. It will use generic GPU kernel as fallback when running on GPU\n"
     ]
    }
   ],
   "source": [
    "embedding_dim = 128\n",
    "hidden_size = 256\n",
    "\n",
    "encoder_inputs = Input(shape=(text_max_len,))\n",
    "\n",
    "enc_emb = Embedding(src_vocab, embedding_dim)(encoder_inputs)\n",
    "\n",
    "encoder_lstm1 = LSTM(hidden_size, return_sequences=True, return_state=True, dropout=0.4, recurrent_dropout=0.4)\n",
    "encoder_output1, state_h1, state_c1 = encoder_lstm1(enc_emb)\n",
    "\n",
    "encoder_lstm2 = LSTM(hidden_size, return_sequences=True, return_state=True, dropout=0.4, recurrent_dropout=0.4)\n",
    "encoder_output2, state_h2, state_c2 = encoder_lstm2(encoder_output1)\n",
    "\n",
    "encoder_lstm3 = LSTM(hidden_size, return_sequences=True, return_state=True, dropout=0.4, recurrent_dropout=0.4)\n",
    "encoder_outputs, state_h, state_c = encoder_lstm3(encoder_output2)"
   ]
  },
  {
   "cell_type": "markdown",
   "id": "still-hydrogen",
   "metadata": {},
   "source": [
    "### decoder 설계 \n",
    "* Embedding (dimension=128) \n",
    "* LSTM을 설계하는것은 encoder와 비슷하지만 hidden state(state_h), cell state(state_c)를 넣어주어야 한다. state_h, state_c는 encoder에서 나온 output이다. \n",
    "* decoder 출력층\n",
    "* 모델 정의 "
   ]
  },
  {
   "cell_type": "code",
   "execution_count": 38,
   "id": "familiar-tattoo",
   "metadata": {},
   "outputs": [
    {
     "name": "stdout",
     "output_type": "stream",
     "text": [
      "WARNING:tensorflow:Layer lstm_3 will not use cuDNN kernel since it doesn't meet the cuDNN kernel criteria. It will use generic GPU kernel as fallback when running on GPU\n"
     ]
    }
   ],
   "source": [
    "# decoder 설계 \n",
    "decoder_inputs = Input(shape=(None,))\n",
    "\n",
    "dec_emb_layer = Embedding(tar_vocab, embedding_dim)\n",
    "dec_emb = dec_emb_layer(decoder_inputs)\n",
    "\n",
    "decoder_lstm = LSTM(hidden_size, return_sequences=True, return_state=True, dropout=0.4, recurrent_dropout=0.2)\n",
    "decoder_outputs, _, _ = decoder_lstm(dec_emb, initial_state=[state_h, state_c])"
   ]
  },
  {
   "cell_type": "markdown",
   "id": "electric-simple",
   "metadata": {},
   "source": [
    "### Attention Mechanism 추가 "
   ]
  },
  {
   "cell_type": "code",
   "execution_count": 39,
   "id": "appointed-benchmark",
   "metadata": {},
   "outputs": [],
   "source": [
    "urllib.request.urlretrieve(\"https://raw.githubusercontent.com/thushv89/attention_keras/master/src/layers/attention.py\", filename=\"attention.py\")\n",
    "from attention import AttentionLayer"
   ]
  },
  {
   "cell_type": "code",
   "execution_count": 40,
   "id": "invisible-dominican",
   "metadata": {},
   "outputs": [],
   "source": [
    "# attention함수 \n",
    "attn_layer = AttentionLayer(name='attention_layer')\n",
    "\n",
    "# encoder, decoder 모든 time step의 hidden state을 attention layer에 전달하고 결과를 리턴 \n",
    "attn_out, attn_states = attn_layer([encoder_outputs, decoder_outputs])\n",
    "\n",
    "# attention output과 decoder의 hidden state연결 \n",
    "decoder_concat_input = Concatenate(axis=-1, name='concat_layer')([decoder_outputs, attn_out])"
   ]
  },
  {
   "cell_type": "code",
   "execution_count": 41,
   "id": "afraid-norwegian",
   "metadata": {},
   "outputs": [],
   "source": [
    "# decoder 출력층 \n",
    "decoder_softmax_layer = Dense(tar_vocab, activation='softmax')\n",
    "decoder_softmax_outputs = decoder_softmax_layer(decoder_concat_input)"
   ]
  },
  {
   "cell_type": "code",
   "execution_count": 42,
   "id": "naval-contamination",
   "metadata": {},
   "outputs": [],
   "source": [
    "# 모델 \n",
    "model = Model([encoder_inputs, decoder_inputs], decoder_softmax_outputs)"
   ]
  },
  {
   "cell_type": "markdown",
   "id": "controlled-demonstration",
   "metadata": {},
   "source": [
    "### 모델 훈련 \n",
    "* optimizer = adam      \n",
    "* loss = sparse categorical crossentropy \n",
    "* Early stopping\n",
    "    * Stop training when a monitored metric has stopped improving. \n",
    "    * validation loss를 기준점으로 삼았다. \n",
    "    * patience=2: 2 epoch 동안 validation loss가 imporve 하지 않으면 2 epoch 후 training이 멈추도록 설계.\n",
    "* 결과를 history1에 저장하고 loss와 validation loss를 시각화 하였다. "
   ]
  },
  {
   "cell_type": "code",
   "execution_count": 43,
   "id": "immediate-muscle",
   "metadata": {},
   "outputs": [
    {
     "name": "stdout",
     "output_type": "stream",
     "text": [
      "Epoch 1/50\n",
      "306/306 [==============================] - 311s 972ms/step - loss: 6.4458 - val_loss: 5.2282\n",
      "Epoch 2/50\n",
      "306/306 [==============================] - 299s 977ms/step - loss: 5.3412 - val_loss: 4.9032\n",
      "Epoch 3/50\n",
      "306/306 [==============================] - 298s 974ms/step - loss: 4.8769 - val_loss: 4.5330\n",
      "Epoch 4/50\n",
      "306/306 [==============================] - 296s 969ms/step - loss: 4.4221 - val_loss: 4.2832\n",
      "Epoch 5/50\n",
      "306/306 [==============================] - 296s 968ms/step - loss: 4.0616 - val_loss: 4.1402\n",
      "Epoch 6/50\n",
      "306/306 [==============================] - 291s 950ms/step - loss: 3.7821 - val_loss: 4.0350\n",
      "Epoch 7/50\n",
      "306/306 [==============================] - 291s 951ms/step - loss: 3.5504 - val_loss: 3.9622\n",
      "Epoch 8/50\n",
      "306/306 [==============================] - 290s 949ms/step - loss: 3.3383 - val_loss: 3.9137\n",
      "Epoch 9/50\n",
      "306/306 [==============================] - 291s 952ms/step - loss: 3.1675 - val_loss: 3.8836\n",
      "Epoch 10/50\n",
      "306/306 [==============================] - 300s 982ms/step - loss: 3.0078 - val_loss: 3.8623\n",
      "Epoch 11/50\n",
      "306/306 [==============================] - 291s 952ms/step - loss: 2.8751 - val_loss: 3.8511\n",
      "Epoch 12/50\n",
      "306/306 [==============================] - 291s 952ms/step - loss: 2.7495 - val_loss: 3.8512\n",
      "Epoch 13/50\n",
      "306/306 [==============================] - 291s 952ms/step - loss: 2.6395 - val_loss: 3.8498\n",
      "Epoch 14/50\n",
      "306/306 [==============================] - 291s 950ms/step - loss: 2.5477 - val_loss: 3.8660\n",
      "Epoch 15/50\n",
      "306/306 [==============================] - 291s 950ms/step - loss: 2.4564 - val_loss: 3.8706\n",
      "Epoch 00015: early stopping\n"
     ]
    }
   ],
   "source": [
    "model.compile(optimizer='adam', loss='sparse_categorical_crossentropy')\n",
    "es = EarlyStopping(monitor='val_loss', patience=2, verbose=1)\n",
    "history1 = model.fit(x=[encoder_input_train, decoder_input_train], y=decoder_target_train, \n",
    "                    validation_data=([encoder_input_test, decoder_input_test], decoder_target_test),\n",
    "                    batch_size=256, callbacks=[es], epochs=50)"
   ]
  },
  {
   "cell_type": "code",
   "execution_count": 44,
   "id": "decreased-italy",
   "metadata": {},
   "outputs": [
    {
     "data": {
      "image/png": "[encoded data removed]",
      "text/plain": [
       "<Figure size 432x288 with 1 Axes>"
      ]
     },
     "metadata": {
      "needs_background": "light"
     },
     "output_type": "display_data"
    }
   ],
   "source": [
    "plt.plot(history1.history['loss'], label='train')\n",
    "plt.plot(history1.history['val_loss'], label='test')\n",
    "plt.legend()\n",
    "plt.show()"
   ]
  },
  {
   "cell_type": "markdown",
   "id": "physical-property",
   "metadata": {},
   "source": [
    "### inference 모델 \n",
    "* 정수에서 단어로 바꾸어줌 \n",
    "* encoder와 decoder를 따로 설계해 주어야함 "
   ]
  },
  {
   "cell_type": "code",
   "execution_count": 45,
   "id": "concrete-basin",
   "metadata": {},
   "outputs": [],
   "source": [
    "src_index_to_word = src_tokenizer.index_word # 원문 단어 집합에서 정수 -> 단어를 얻음\n",
    "tar_word_to_index = tar_tokenizer.word_index # 요약 단어 집합에서 단어 -> 정수를 얻음\n",
    "tar_index_to_word = tar_tokenizer.index_word # 요약 단어 집합에서 정수 -> 단어를 얻음"
   ]
  },
  {
   "cell_type": "code",
   "execution_count": 46,
   "id": "bottom-collar",
   "metadata": {},
   "outputs": [],
   "source": [
    "# 인코더 설계\n",
    "encoder_model = Model(inputs=encoder_inputs, outputs=[encoder_outputs, state_h, state_c])\n",
    "\n",
    "# 이전 시점의 상태들을 저장하는 텐서\n",
    "decoder_state_input_h = Input(shape=(hidden_size,))\n",
    "decoder_state_input_c = Input(shape=(hidden_size,))\n",
    "\n",
    "dec_emb2 = dec_emb_layer(decoder_inputs)\n",
    "\n",
    "# 문장의 다음 단어를 예측하기 위해서 초기 상태(initial_state)를 이전 시점의 상태로 사용. 이는 뒤의 함수 decode_sequence()에 구현\n",
    "# 훈련 과정에서와 달리 LSTM의 리턴하는 은닉 상태와 셀 상태인 state_h와 state_c를 버리지 않음.\n",
    "decoder_outputs2, state_h2, state_c2 = decoder_lstm(dec_emb2, initial_state=[decoder_state_input_h, decoder_state_input_c])"
   ]
  },
  {
   "cell_type": "code",
   "execution_count": 47,
   "id": "indoor-spell",
   "metadata": {},
   "outputs": [],
   "source": [
    "# 어텐션 함수\n",
    "decoder_hidden_state_input = Input(shape=(text_max_len, hidden_size))\n",
    "attn_out_inf, attn_states_inf = attn_layer([decoder_hidden_state_input, decoder_outputs2])\n",
    "decoder_inf_concat = Concatenate(axis=-1, name='concat')([decoder_outputs2, attn_out_inf])\n",
    "\n",
    "# 디코더의 출력층\n",
    "decoder_outputs2 = decoder_softmax_layer(decoder_inf_concat) \n",
    "\n",
    "# 최종 디코더 모델\n",
    "decoder_model = Model(\n",
    "    [decoder_inputs] + [decoder_hidden_state_input,decoder_state_input_h, decoder_state_input_c],\n",
    "    [decoder_outputs2] + [state_h2, state_c2])"
   ]
  },
  {
   "cell_type": "code",
   "execution_count": 48,
   "id": "statewide-navigator",
   "metadata": {},
   "outputs": [],
   "source": [
    "def decode_sequence(input_seq):\n",
    "    # 입력으로부터 인코더의 상태를 얻음\n",
    "    e_out, e_h, e_c = encoder_model.predict(input_seq)\n",
    "\n",
    "     # <SOS>에 해당하는 토큰 생성\n",
    "    target_seq = np.zeros((1,1))\n",
    "    target_seq[0, 0] = tar_word_to_index['sostoken']\n",
    "\n",
    "    stop_condition = False\n",
    "    decoded_sentence = ''\n",
    "    while not stop_condition: # stop_condition이 True가 될 때까지 루프 반복\n",
    "\n",
    "        output_tokens, h, c = decoder_model.predict([target_seq] + [e_out, e_h, e_c])\n",
    "        sampled_token_index = np.argmax(output_tokens[0, -1, :])\n",
    "        sampled_token = tar_index_to_word[sampled_token_index]\n",
    "\n",
    "        if (sampled_token!='eostoken'):\n",
    "            decoded_sentence += ' '+sampled_token\n",
    "\n",
    "        #  <eos>에 도달하거나 최대 길이를 넘으면 중단.\n",
    "        if (sampled_token == 'eostoken'  or len(decoded_sentence.split()) >= (headlines_max_len-1)):\n",
    "            stop_condition = True\n",
    "\n",
    "        # 길이가 1인 타겟 시퀀스를 업데이트\n",
    "        target_seq = np.zeros((1,1))\n",
    "        target_seq[0, 0] = sampled_token_index\n",
    "\n",
    "        # 상태를 업데이트 합니다.\n",
    "        e_h, e_c = h, c\n",
    "\n",
    "    return decoded_sentence"
   ]
  },
  {
   "cell_type": "markdown",
   "id": "attractive-hobby",
   "metadata": {},
   "source": [
    "### 모델 테스트 "
   ]
  },
  {
   "cell_type": "code",
   "execution_count": 49,
   "id": "present-stylus",
   "metadata": {},
   "outputs": [],
   "source": [
    "# 원문의 정수 시퀀스를 텍스트 시퀀스로 변환\n",
    "def seq2text(input_seq):\n",
    "    temp=''\n",
    "    for i in input_seq:\n",
    "        if (i!=0):\n",
    "            temp = temp + src_index_to_word[i]+' '\n",
    "    return temp\n",
    "\n",
    "# 요약문의 정수 시퀀스를 텍스트 시퀀스로 변환\n",
    "def seq2summary(input_seq):\n",
    "    temp=''\n",
    "    for i in input_seq:\n",
    "        if ((i!=0 and i!=tar_word_to_index['sostoken']) and i!=tar_word_to_index['eostoken']):\n",
    "            temp = temp + tar_index_to_word[i] + ' '\n",
    "    return temp"
   ]
  },
  {
   "cell_type": "code",
   "execution_count": 50,
   "id": "consolidated-advocacy",
   "metadata": {},
   "outputs": [
    {
     "name": "stdout",
     "output_type": "stream",
     "text": [
      "원문 : brihanmumbai municipal corporation denied ganesh mandal coordination committee demand take approval process setting mandals online committee claimed single window clearance system introduced improve mandal approval rate ineffective reportedly meet mayor vishwanath mahadeshwar demand better clearance system \n",
      "실제 요약 : bmc denies ganesh mandal demand for online approval \n",
      "예측 요약 :  mumbai civic body to ban fine for repairs civic body\n",
      "\n",
      "\n",
      "원문 : year old student harpreet singh happy punjab jalandhar allegedly got girlfriend raped could use excuse avoid marrying according reports two happy friends took abandoned haveli raped day supposed meet parents reports added \n",
      "실제 요약 : college student gets girlfriend raped to avoid marriage \n",
      "예측 요약 :  girl gets married to girl for marrying girl in law\n",
      "\n",
      "\n",
      "원문 : mumbai residents protesting outside brihanmumbai municipal corporation bandra office every monday friday since july complaints resolved months complaints filed bmc public grievance registration system set complaints include illegal encroachments drainage issues potholes tree cutting among others \n",
      "실제 요약 : mumbaikars protest outside bmc on complaints \n",
      "예측 요약 :  bmc to protest over illegal construction in mumbai\n",
      "\n",
      "\n",
      "원문 : north korean officials said care us ban citizens travelling country saying effect tourism industry ban reportedly enacted week comes death us student arrested north korea tour \n",
      "실제 요약 : we do not care at all about us travel ban korea \n",
      "예측 요약 :  us to ban on migrant children to north korea\n",
      "\n",
      "\n",
      "원문 : australian church come fire video surfaced pastor describing islam cancer must destroy keith piper described quran virus infecting brains muslims adding islam culturally incompatible western christian values called ban muslim immigration \n",
      "실제 요약 : australian pastor calls islam cancer we must destroy \n",
      "예측 요약 :  video of nazi virus reported in us town in philippines\n",
      "\n",
      "\n",
      "원문 : new book detailing nelson mandela last days withdrawn condemned widow publisher penguin random house announced saying way intended disrespectful book revealed several undignified episodes end mandela life well family quarrels care legacy \n",
      "실제 요약 : nelson mandela book withdrawn after outrage from widow \n",
      "예측 요약 :  matrimony backlash on ex us anderson for groping\n",
      "\n",
      "\n",
      "원문 : polish man killed teenage boy hit superman punch caused fall hit head ground court heard accused reportedly punched deceased mocking english accent victim knocked unconscious later died hospital head injuries \n",
      "실제 요약 : polish man killed by superman punch from teen court hears \n",
      "예측 요약 :  man killed in us after death penalty for killing\n",
      "\n",
      "\n",
      "원문 : us court ruled president donald trump commission election fraud resume collecting voter information states commission asked states provide publicly available data including registered voters names birth dates social security numbers however advocacy group filed lawsuit commission citing privacy concerns \n",
      "실제 요약 : us court allows trump commission to collect voter data \n",
      "예측 요약 :  trump blocks fake news of nirav modi poll campaign\n",
      "\n",
      "\n",
      "원문 : protesters ac france built wall around hotel prevent used migrant shelter accusing authorities failing discuss plan protesters claimed town unable cope new arrivals french government bought several hotels house migrants sleeping streets \n",
      "실제 요약 : french protesters build wall around hotel to stop migrants \n",
      "예측 요약 :  anti migrants in us town to prevent anti attacks\n",
      "\n",
      "\n",
      "원문 : australian minister resources matthew became third politician resign dual citizenship learning mother signed italian citizenship knowledge become italian citizen said notably australian politicians eligible elected parliament hold dual citizenship \n",
      "실제 요약 : australian minister resigns over italian citizenship \n",
      "예측 요약 :  australia to get new citizenship bill to uk\n",
      "\n",
      "\n",
      "원문 : us president donald trump sunday slammed members party protecting sad republicans even carried line back little protect president trump tweeted comes republicans struggled come together bill repeal replace obamacare \n",
      "실제 요약 : trump slams republicans for not protecting him \n",
      "예측 요약 :  trump calls us govt for not removing his house\n",
      "\n",
      "\n",
      "원문 : govinda thanked rishi kapoor showing concern role jagga jasoos removed added good blood never speaks wrong said expected little professionalism director anurag basu want govinda work film ask first place rishi said \n",
      "실제 요약 : govinda thanks rishi for showing concern in jagga jasoos row \n",
      "예측 요약 :  do not think about nepotism rishi kapoor\n",
      "\n",
      "\n",
      "원문 : hindi trailer kajol dhanush starrer film vip released sequel tamil film dhanush penned story also co producing sister law soundarya rajinikanth directing film scheduled release july \n",
      "실제 요약 : hindi trailer of kajol dhanush vip released \n",
      "예측 요약 :  trailer of manoj bajpayee starrer aiyaary released\n",
      "\n",
      "\n",
      "원문 : official james bond twitter handle announced november release date new film franchise titled bond film written neal robert wade produced michael wilson barbara broccoli daniel craig reportedly return character james bond film \n",
      "실제 요약 : release date of new james bond film bond announced \n",
      "예측 요약 :  rana daggubati to star in bhandarkar horror film reports\n",
      "\n",
      "\n",
      "원문 : many ministers mlas uttar pradesh failed declare assets despite cm yogi adityanath repeated directions according government notification per rules ministers mlas mandated declare assets liabilities within three months assuming office elected members state assembly \n",
      "실제 요약 : ministers mlas in up fail to declare assets \n",
      "예측 요약 :  up cm approves cr for andhra cm over corruption cases\n",
      "\n",
      "\n",
      "원문 : state owned broadcaster doordarshan planning change iconic logo issued invitation asking entries public logo designs doordarshan take new logo design entries till august winner awarded cash prize lakh sporting current logo since \n",
      "실제 요약 : doordarshan plans to replace its logo after years \n",
      "예측 요약 :  iim naidu introduces new curriculum for new curriculum\n",
      "\n",
      "\n",
      "원문 : president ram nath kovind tuesday said speech nation building requires national pride adding citizen india nation builder talked various professionals india act nation builders also said india believed philosophy vasudhaiva kutumbakam world family \n",
      "실제 요약 : bow to the crore citizens of this great nation kovind \n",
      "예측 요약 :  prez kovind calls for india prez kovind on diwali\n",
      "\n",
      "\n",
      "원문 : police officials uk arrested gang criminals ran largest cannabis growing operation britain network drug farms built inside industrial facilities gang grew cannabis street value million year members convicted conspiracy produce illegal substances \n",
      "실제 요약 : uk largest cannabis growing operation busted \n",
      "예측 요약 :  gang worth crore seized from china in china\n",
      "\n",
      "\n",
      "원문 : country largest telecom operator bharti airtel tuesday reported year year decline consolidated net profit crore quarter ended june total revenue company also slipped crore bharti airtel ceo gopal vittal said pricing disruption caused entry new operator created stress sector profitability \n",
      "실제 요약 : airtel profit plunges to crore in june quarter \n",
      "예측 요약 :  airtel profit rises to crore in september quarter\n",
      "\n",
      "\n",
      "원문 : tanzania government sent gold producer mining billion tax bill another billion interest penalties bill equal almost two centuries worth company revenue government alleged company declared export revenues company disagreements authorities resulted decline stock year \n",
      "실제 요약 : tanzania govt issues billion tax bill to mining company \n",
      "예측 요약 :  swiss stocks to sell billion in swiss coal\n",
      "\n",
      "\n",
      "원문 : asked big task bring infosys board founders together co chairman ravi venkatesan said doable know measure lot still left stated comments come public dispute co founders including narayana murthy top management corporate governance \n",
      "실제 요약 : can bring infosys board and founders together co chairman \n",
      "예측 요약 :  infosys turnaround is the best cfo of infosys cfo\n",
      "\n",
      "\n",
      "원문 : actor varun dhawan star director shoojit sircar next film titled october talking film shoojit said love story box kind story unusual unconventional kind story slice life romance space notably varun first film shoojit \n",
      "실제 요약 : varun dhawan to star in shoojit sircar next film october \n",
      "예측 요약 :  varun dhawan to star in shashank khaitan film reports\n",
      "\n",
      "\n",
      "원문 : actor arjun rampal turned showstopper designer rohit bal india couture week show walked ramp black bandhgala pants featured bal newly patented motif collection featured gowns saris bandhgala woven gold silver threads decorated swarovski crystals \n",
      "실제 요약 : arjun rampal turns showstopper at india couture week \n"
     ]
    },
    {
     "name": "stdout",
     "output_type": "stream",
     "text": [
      "예측 요약 :  arjun rampal turns showstopper at lakm fashion week\n",
      "\n",
      "\n",
      "원문 : emmanuel portrays game thrones said first nude scene show featured season second episode big deal added strange become good friends co star jacob anderson portrays grey worm fine obviously done really respectfully said \n",
      "실제 요약 : my first game of thrones nude scene was big deal \n",
      "예측 요약 :  anushka confirms got engaged to play game of thrones season\n",
      "\n",
      "\n",
      "원문 : former adult star mia khalifa started youtube channel review christopher nolan directorial dunkirk video review said know whole thing lasted hours rescue mission took two half months mia also slammed dunkirk tweeting love nolan dunkirk sucked \n",
      "실제 요약 : mia khalifa starts youtube channel with review of \n",
      "예측 요약 :  sushant approached for star in film on tv show film maker\n",
      "\n",
      "\n",
      "원문 : actor neil nitin mukesh took twitter share first look poster upcoming film co stars alongside jackie shroff film also stars kay kay menon karan singh grover dhar film directed bhatt cast expected begin shooting august \n",
      "실제 요약 : st look of neil jackie shroff upcoming film out \n",
      "예측 요약 :  teaser of harshvardhan starrer bhavesh joshi superhero out\n",
      "\n",
      "\n",
      "원문 : actor mithun chakraborty said advice youngsters concentrate talent compared six pack abs added talent capability crack film industry mithun said one persistent efforts talent cannot anything \n",
      "실제 요약 : advice youngsters to focus on talent over pack abs mithun \n",
      "예측 요약 :  do not believe in the film in hindi languages\n",
      "\n",
      "\n",
      "원문 : actor ayushmann khurrana tweeted please change doordarshan logo represents childhood statement comes recent reports doordarshan planning changing logo create something appeal children doordarshan sporting current logo since inception \n",
      "실제 요약 : ayushmann requests doordarshan not to change its logo \n",
      "예측 요약 :  do not understand anyone how to change bald to speak up\n",
      "\n",
      "\n",
      "원문 : actor sushant singh rajput said think saif ali khan daughter sara ali khan feeling pressure making debut bright girl confident career sure well added sara make acting debut opposite sushant film kedarnath \n",
      "실제 요약 : sara is not feeling the pressure of making her debut sushant \n",
      "예측 요약 :  sara is not going to be taimur in wood saif\n",
      "\n",
      "\n",
      "원문 : karnataka government tuesday announced plans open new liquor stores compensate drop excise revenue liquor sale along highways banned new stores reportedly run state government owned mysore sales international limited comes amid protests opposition stores push people debt traps \n",
      "실제 요약 : karnataka government to open new liquor stores \n",
      "예측 요약 :  maha govt to get single number of liquor sale for sale\n",
      "\n",
      "\n",
      "원문 : human resource development minister prakash javadekar monday announced soon give approval world class research teaching institutions called indian institutes eminence adding approval given parliament monsoon session said acclaimed ranked among top universities world \n",
      "실제 요약 : india to get institutes of eminence for research \n",
      "예측 요약 :  hrd minister proposes to make students from syllabus\n",
      "\n",
      "\n",
      "원문 : german carmaker bmw rejected reports cheated emissions tests illegal systems cars company also denied reports plotting audi volkswagen porsche designs diesel emissions treatment systems vehicle emissions came scrutiny worldwide since volkswagen admitted installing illegal software cheat us emissions tests diesel cars \n",
      "실제 요약 : bmw denies reports of emissions \n",
      "예측 요약 :  audi fined crore for emissions scandal\n",
      "\n",
      "\n",
      "원문 : amateur australian astronomer captured footage rare phenomenon upside lightning flashes called caused electrical discharge storms instead traditionally going towards ground travel upwards space phenomenon observed skies australia new south wales \n",
      "실제 요약 : astronomer captures footage of upside down lightning bolts \n",
      "예측 요약 :  lightning carried to tree in cave for water water\n",
      "\n",
      "\n",
      "원문 : vietnam reportedly stopped oil drilling disputed area south china sea china threatened attack vietnamese bases spratly islands drilling stop china claims sovereignty islands calls islands notably several countries including philippines vietnam others dispute china claim region \n",
      "실제 요약 : vietnam halts drilling in south china sea post china threat \n",
      "예측 요약 :  iraq to build fighter jet refinery in yemen\n",
      "\n",
      "\n",
      "원문 : russian lawmakers urged president vladimir putin sanction poland bill ordering demolition soviet monuments legislation part poland de law states monuments cannot pay tribute persons organisations events symbolising communism totalitarian systems notably lakh soviet soldiers died liberating poland nazis wwii \n",
      "실제 요약 : senators ask putin to sanction poland over anti law \n",
      "예측 요약 :  russia declares referendum on referendum\n",
      "\n",
      "\n",
      "원문 : television personality kylie jenner snapchat hacked hacker posted message caption add kylie jenner nudes followed post alleged hacker twitter account read got kylie nudes however hour later supposed hacker wrote joke nude pictures kylie \n",
      "실제 요약 : hacker threatens to leak kylie jenner nude pictures \n",
      "예측 요약 :  instagram instagram instagram instagram instagram account\n",
      "\n",
      "\n",
      "원문 : supreme court tuesday directed sahara group chief subrata roy deposit crore september also said process auctioning group aamby valley shall start next hearing case september supreme court ordered auction sahara alleged failure deposit money refunding investors \n",
      "실제 요약 : sc directs subrata roy to deposit crore by september \n",
      "예측 요약 :  sc dismisses sahara plea to auction unitech assets\n",
      "\n",
      "\n",
      "원문 : india host first wta tournament five years city mumbai stages lakh mumbai open november maharashtra state lawn tennis association recently bagged hosting rights chennai open india atp world tour event branded maharashtra open held pune \n",
      "실제 요약 : mumbai open to be india st wta event in years \n",
      "예측 요약 :  india st indian women to be sold at december\n",
      "\n",
      "\n",
      "원문 : government raised cess cigarettes itc increased prices different pack sizes variants reports said people pay brands like classic gold flake navy cut premium brands classic gold flake kings seen sharpest hike cigarette packs cost earlier \n",
      "실제 요약 : itc raises cigarette prices by up to after hike in cess \n",
      "예측 요약 :  govt to get cr to curb vehicles in delhi\n",
      "\n",
      "\n",
      "원문 : mathur ex cfo global consultant auditor pwc indian arm filed defamation suit accusing falsifying accounts evading taxes breaking several laws accused pwc intimidating cheating tarnishing name refused cover crimes mathur alleged pwc lied government made expenses crore evade taxes \n",
      "실제 요약 : pwc accounts tax and laws ex cfo \n",
      "예측 요약 :  yahoo settlement with settlement with murdoch in uk\n",
      "\n",
      "\n",
      "원문 : late veteran actress madhubala set get wax figure madame tussauds new delhi wax figure styled character anarkali film mughal azam wax museum open later year also feature wax figures bollywood actors amitabh bachchan shah rukh khan singer shreya ghoshal among others \n",
      "실제 요약 : madhubala to get wax statue at delhi madame tussauds \n",
      "예측 요약 :  yeh tussauds dances to madhubala at madame tussauds\n",
      "\n",
      "\n",
      "원문 : rock band linkin park tribute lead singer chester bennington allegedly committed suicide wrote hearts broken facebook post read absence leaves void never filled funny ambitious creative kind generous voice room missing also shared web link page \n",
      "실제 요약 : our hearts are broken linkin park in tribute to chester \n",
      "예측 요약 :  youtuber apologises for posting selfie with him\n",
      "\n",
      "\n",
      "원문 : video reportedly showing xiaomi redmi note exploding bengaluru store emerged online damage due faulty third party charger used customer company claimed xiaomi india said replaced customer damaged unit brand new redmi note \n",
      "실제 요약 : xiaomi note explodes at store in bengaluru \n",
      "예측 요약 :  microsoft unveils smart batteries that can be used for faults\n",
      "\n",
      "\n",
      "원문 : world richest man bill gates ventures invested us based trucking startup convoy along investors crore series funding round amazon ceo jeff bezos also invested startup earlier two year old startup makes software matches nearby available truckers shipping job \n",
      "실제 요약 : billionaire bill gates invests in trucking startup convoy \n",
      "예측 요약 :  uber to invest mn in wealth for mn in years\n",
      "\n",
      "\n",
      "원문 : technology major alphabet monday reported jump revenue billion quarter ended june despite largest subsidiary google handed record billion fine european commission latest profits alphabet reported billion cash cash equivalents another billion securities \n",
      "실제 요약 : alphabet revenue jumps despite record billion fine \n"
     ]
    },
    {
     "name": "stdout",
     "output_type": "stream",
     "text": [
      "예측 요약 :  infosys posts its first ever quarterly profit in\n",
      "\n",
      "\n",
      "원문 : civil servant responsible sweden largest ever data leak punished fine equivalent half month salary lakh discovered nearly months ago leak affected private data every swedish citizen driver license data exposed sweden transport agency outsourced management database \n",
      "실제 요약 : woman behind sweden largest data leak fined half month pay \n",
      "예측 요약 :  uk fined crore fine for failing to get fine\n",
      "\n",
      "\n",
      "원문 : bengaluru based education technology startup byju raised undisclosed amount funding chinese internet conglomerate tencent september byju raised crore clutch investors including chan zuckerberg initiative sequoia capital byju also acquired edtech platforms pearson earlier year \n",
      "실제 요약 : indian edtech startup byju raises funding from tencent \n",
      "예측 요약 :  bengaluru startup raises mn in series funding\n",
      "\n",
      "\n",
      "원문 : former chief marketing officer furniture tailer urban ladder sanjay gupta joined uber head marketing india according reports gupta left urban ladder april joined uber may year earlier uber hired former bse ceo madhu kannan chief business officer india emerging markets \n",
      "실제 요약 : former urban ladder exec joins uber india as marketing head \n",
      "예측 요약 :  former britannia exec travis seth joins former md\n",
      "\n",
      "\n",
      "원문 : former ceo infosys kris gopalakrishnan said indian companies need learn manage expectations employees growth rate slows said technology transitioning companies must invest employees employees must invest time learning also said automation impacted services like infrastructure management maintenance \n",
      "실제 요약 : it firms should manage employee expectations ex infosys ceo \n",
      "예측 요약 :  we will not be slower for india in india mohandas pai\n",
      "\n",
      "\n",
      "원문 : amrapali ceo ritik kumar sinha director nishant mukul arrested alleged fraud paying labour cess crore labour department amrapali received final recovery notice march failed pay police took action district administration said labour cess charged labour welfare group pay \n",
      "실제 요약 : amrapali ceo arrested for not paying labour cess of crore \n",
      "예측 요약 :  former infosys firm moves senior firm for cr fraud\n",
      "\n",
      "\n"
     ]
    }
   ],
   "source": [
    "for i in range(50, 100):\n",
    "    print(\"원문 :\", seq2text(encoder_input_test[i]))\n",
    "    print(\"실제 요약 :\", seq2summary(decoder_input_test[i]))\n",
    "    print(\"예측 요약 :\", decode_sequence(encoder_input_test[i].reshape(1, text_max_len)))\n",
    "    print(\"\\n\")"
   ]
  },
  {
   "cell_type": "markdown",
   "id": "white-equilibrium",
   "metadata": {},
   "source": [
    "### 추출적 요약 (Extraction Summary) \n",
    "추상적 요약에서 테스트한 데이터를 summarize 함수를 사용해, extraction summary를 해주었다. headline max 와 같이 word를 13으로 제한하려고 했으나, summarize 함수는 문단에서 그 문단을 대표하는 문장을 그대로 가져오기 때문에 문장의 길이가 너무 짧으면 아무것도 return 하지 않으므로 words를 30으로 넉넉하게 잡아주었다.  "
   ]
  },
  {
   "cell_type": "code",
   "execution_count": 133,
   "id": "catholic-viewer",
   "metadata": {},
   "outputs": [],
   "source": [
    "from summa.summarizer import summarize"
   ]
  },
  {
   "cell_type": "code",
   "execution_count": 101,
   "id": "compound-perception",
   "metadata": {},
   "outputs": [],
   "source": [
    "urllib.request.urlretrieve(\"https://raw.githubusercontent.com/sunnysai12345/News_Summary/master/news_summary_more.csv\", filename=\"news_summary_more.csv\")\n",
    "data_ext = pd.read_csv('news_summary_more.csv', encoding='iso-8859-1')"
   ]
  },
  {
   "cell_type": "code",
   "execution_count": 105,
   "id": "latter-pharmacy",
   "metadata": {},
   "outputs": [
    {
     "data": {
      "text/html": [
       "<div>\n",
       "<style scoped>\n",
       "    .dataframe tbody tr th:only-of-type {\n",
       "        vertical-align: middle;\n",
       "    }\n",
       "\n",
       "    .dataframe tbody tr th {\n",
       "        vertical-align: top;\n",
       "    }\n",
       "\n",
       "    .dataframe thead th {\n",
       "        text-align: right;\n",
       "    }\n",
       "</style>\n",
       "<table border=\"1\" class=\"dataframe\">\n",
       "  <thead>\n",
       "    <tr style=\"text-align: right;\">\n",
       "      <th></th>\n",
       "      <th>headlines</th>\n",
       "      <th>text</th>\n",
       "    </tr>\n",
       "  </thead>\n",
       "  <tbody>\n",
       "    <tr>\n",
       "      <th>73918</th>\n",
       "      <td>Delhi residents to not immerse Ganesh idols in...</td>\n",
       "      <td>A Delhi-based Ganesh mandal association has an...</td>\n",
       "    </tr>\n",
       "    <tr>\n",
       "      <th>74487</th>\n",
       "      <td>Mumbai's Ganpati mandals to promote organ dona...</td>\n",
       "      <td>Over 30 Ganesh Mandals in Mumbai have announce...</td>\n",
       "    </tr>\n",
       "    <tr>\n",
       "      <th>76947</th>\n",
       "      <td>BMC to train Ganesh mandal volunteers in disas...</td>\n",
       "      <td>The Brihanmumbai Municipal Corporation (BMC) w...</td>\n",
       "    </tr>\n",
       "    <tr>\n",
       "      <th>78812</th>\n",
       "      <td>BMC denies Ganesh mandal's demand for online a...</td>\n",
       "      <td>The Brihanmumbai Municipal Corporation (BMC) h...</td>\n",
       "    </tr>\n",
       "    <tr>\n",
       "      <th>79127</th>\n",
       "      <td>Ganesh mandals in Mumbai oppose Silence Zones</td>\n",
       "      <td>Ganesh mandals across Mumbai have been demandi...</td>\n",
       "    </tr>\n",
       "    <tr>\n",
       "      <th>91206</th>\n",
       "      <td>Bihar van driver attacked for scaring a cow, m...</td>\n",
       "      <td>Amid rising incidents of cow vigilantism, the ...</td>\n",
       "    </tr>\n",
       "  </tbody>\n",
       "</table>\n",
       "</div>"
      ],
      "text/plain": [
       "                                               headlines  \\\n",
       "73918  Delhi residents to not immerse Ganesh idols in...   \n",
       "74487  Mumbai's Ganpati mandals to promote organ dona...   \n",
       "76947  BMC to train Ganesh mandal volunteers in disas...   \n",
       "78812  BMC denies Ganesh mandal's demand for online a...   \n",
       "79127      Ganesh mandals in Mumbai oppose Silence Zones   \n",
       "91206  Bihar van driver attacked for scaring a cow, m...   \n",
       "\n",
       "                                                    text  \n",
       "73918  A Delhi-based Ganesh mandal association has an...  \n",
       "74487  Over 30 Ganesh Mandals in Mumbai have announce...  \n",
       "76947  The Brihanmumbai Municipal Corporation (BMC) w...  \n",
       "78812  The Brihanmumbai Municipal Corporation (BMC) h...  \n",
       "79127  Ganesh mandals across Mumbai have been demandi...  \n",
       "91206  Amid rising incidents of cow vigilantism, the ...  "
      ]
     },
     "execution_count": 105,
     "metadata": {},
     "output_type": "execute_result"
    }
   ],
   "source": [
    "data_ext.astype(str)\n",
    "sample_d = data_ext.loc[data_ext['text'].str.contains(\"ganesh mandal\", case=False)]\n",
    "sample_d"
   ]
  },
  {
   "cell_type": "code",
   "execution_count": 140,
   "id": "adult-dress",
   "metadata": {},
   "outputs": [
    {
     "data": {
      "text/html": [
       "<div>\n",
       "<style scoped>\n",
       "    .dataframe tbody tr th:only-of-type {\n",
       "        vertical-align: middle;\n",
       "    }\n",
       "\n",
       "    .dataframe tbody tr th {\n",
       "        vertical-align: top;\n",
       "    }\n",
       "\n",
       "    .dataframe thead th {\n",
       "        text-align: right;\n",
       "    }\n",
       "</style>\n",
       "<table border=\"1\" class=\"dataframe\">\n",
       "  <thead>\n",
       "    <tr style=\"text-align: right;\">\n",
       "      <th></th>\n",
       "      <th>headlines</th>\n",
       "      <th>text</th>\n",
       "    </tr>\n",
       "  </thead>\n",
       "  <tbody>\n",
       "    <tr>\n",
       "      <th>78812</th>\n",
       "      <td>BMC denies Ganesh mandal's demand for online approval</td>\n",
       "      <td>The Brihanmumbai Municipal Corporation (BMC) has denied a Ganesh mandal coordination committee's demand to take the approval process for setting up mandals online. The committee claimed that the single-window clearance system which was introduced in 2015 to improve mandal approval rate was ineffective. Reportedly, it will now meet Mayor Vishwanath Mahadeshwar to demand a better clearance system.</td>\n",
       "    </tr>\n",
       "    <tr>\n",
       "      <th>78813</th>\n",
       "      <td>College student gets girlfriend raped to avoid marriage</td>\n",
       "      <td>A 19-year-old student, Harpreet Singh Happy, in Punjab's Jalandhar allegedly got his girlfriend raped so that he could use it as an excuse to avoid marrying her, according to reports. Two of Happy's friends took her to an abandoned haveli and raped her on the same day she was supposed to meet his parents, reports added.</td>\n",
       "    </tr>\n",
       "    <tr>\n",
       "      <th>78814</th>\n",
       "      <td>Mumbaikars protest outside BMC on 192 unresolved complaints</td>\n",
       "      <td>Mumbai residents have been protesting outside the Brihanmumbai Municipal Corporation's (BMC) Bandra office every Monday and Friday since July 7 over 192 complaints that haven't been resolved in 18 months. The complaints were filed in BMC's public grievance registration system set up in 2015. The complaints include illegal encroachments, drainage issues, potholes, and tree cutting among others.</td>\n",
       "    </tr>\n",
       "    <tr>\n",
       "      <th>78815</th>\n",
       "      <td>We don't care at all about US travel ban: N Korea</td>\n",
       "      <td>North Korean officials have said they do not care \"at all\" about the US' ban on its citizens travelling to the country, saying that it will have no effect on its tourism industry. The ban, which will reportedly be enacted this week, comes after the death of a US student who was arrested while on a North Korea tour.</td>\n",
       "    </tr>\n",
       "    <tr>\n",
       "      <th>78816</th>\n",
       "      <td>Australian pastor calls Islam 'a cancer we must destroy'</td>\n",
       "      <td>An Australian Baptist church has come under fire after a video surfaced of its pastor describing Islam as \"a cancer we must destroy\". Keith Piper described the Quran as \"a virus infecting the brains [of Muslims]\", adding that Islam is \"culturally incompatible with western Christian values\". He further called for a ban on Muslim immigration.</td>\n",
       "    </tr>\n",
       "  </tbody>\n",
       "</table>\n",
       "</div>"
      ],
      "text/plain": [
       "                                                         headlines  \\\n",
       "78812        BMC denies Ganesh mandal's demand for online approval   \n",
       "78813     College student gets girlfriend raped to avoid marriage    \n",
       "78814  Mumbaikars protest outside BMC on 192 unresolved complaints   \n",
       "78815            We don't care at all about US travel ban: N Korea   \n",
       "78816     Australian pastor calls Islam 'a cancer we must destroy'   \n",
       "\n",
       "                                                                                                                                                                                                                                                                                                                                                                                                                  text  \n",
       "78812  The Brihanmumbai Municipal Corporation (BMC) has denied a Ganesh mandal coordination committee's demand to take the approval process for setting up mandals online. The committee claimed that the single-window clearance system which was introduced in 2015 to improve mandal approval rate was ineffective. Reportedly, it will now meet Mayor Vishwanath Mahadeshwar to demand a better clearance system.   \n",
       "78813                                                                                A 19-year-old student, Harpreet Singh Happy, in Punjab's Jalandhar allegedly got his girlfriend raped so that he could use it as an excuse to avoid marrying her, according to reports. Two of Happy's friends took her to an abandoned haveli and raped her on the same day she was supposed to meet his parents, reports added.  \n",
       "78814     Mumbai residents have been protesting outside the Brihanmumbai Municipal Corporation's (BMC) Bandra office every Monday and Friday since July 7 over 192 complaints that haven't been resolved in 18 months. The complaints were filed in BMC's public grievance registration system set up in 2015. The complaints include illegal encroachments, drainage issues, potholes, and tree cutting among others.  \n",
       "78815                                                                                     North Korean officials have said they do not care \"at all\" about the US' ban on its citizens travelling to the country, saying that it will have no effect on its tourism industry. The ban, which will reportedly be enacted this week, comes after the death of a US student who was arrested while on a North Korea tour.  \n",
       "78816                                                           An Australian Baptist church has come under fire after a video surfaced of its pastor describing Islam as \"a cancer we must destroy\". Keith Piper described the Quran as \"a virus infecting the brains [of Muslims]\", adding that Islam is \"culturally incompatible with western Christian values\". He further called for a ban on Muslim immigration.  "
      ]
     },
     "execution_count": 140,
     "metadata": {},
     "output_type": "execute_result"
    }
   ],
   "source": [
    "data_test_ex = pd.DataFrame(data_ext[78812:78862]).astype(str)\n",
    "data_test_ex.head()"
   ]
  },
  {
   "cell_type": "code",
   "execution_count": 121,
   "id": "indirect-toilet",
   "metadata": {},
   "outputs": [
    {
     "data": {
      "text/plain": [
       "headlines    50\n",
       "text         50\n",
       "dtype: int64"
      ]
     },
     "execution_count": 121,
     "metadata": {},
     "output_type": "execute_result"
    }
   ],
   "source": [
    "data_test_ex.count()"
   ]
  },
  {
   "cell_type": "code",
   "execution_count": 130,
   "id": "freelance-hormone",
   "metadata": {},
   "outputs": [],
   "source": [
    "pd.options.display.max_colwidth = None"
   ]
  },
  {
   "cell_type": "code",
   "execution_count": 145,
   "id": "better-devices",
   "metadata": {},
   "outputs": [
    {
     "name": "stdout",
     "output_type": "stream",
     "text": [
      "78812                                                                                                                                                              The committee claimed that the single-window clearance system which was introduced in 2015 to improve mandal approval rate was ineffective.\n",
      "78813                                                                                                                  A 19-year-old student, Harpreet Singh Happy, in Punjab's Jalandhar allegedly got his girlfriend raped so that he could use it as an excuse to avoid marrying her, according to reports.\n",
      "78814    Mumbai residents have been protesting outside the Brihanmumbai Municipal Corporation's (BMC) Bandra office every Monday and Friday since July 7 over 192 complaints that haven't been resolved in 18 months.\\nThe complaints were filed in BMC's public grievance registration system set up in 2015.\n",
      "78815                                                                                                                      North Korean officials have said they do not care \"at all\" about the US' ban on its citizens travelling to the country, saying that it will have no effect on its tourism industry.\n",
      "78816                                                                                                                                            Keith Piper described the Quran as \"a virus infecting the brains [of Muslims]\", adding that Islam is \"culturally incompatible with western Christian values\".\n",
      "78817                                                                                     A new book detailing Nelson Mandela's last days has been withdrawn after it was condemned by his widow, the publisher Penguin Random House has announced, saying that it was in no way intended to be disrespectful.\n",
      "78818                                                                                                                                                   A Polish man was killed after a teenage boy hit him with a \"superman punch\" that caused him to fall and hit his head on the ground, a court has heard.\n",
      "78819                                                                                                                                                                 A US court has ruled that President Donald Trump's commission on election fraud can resume collecting voter information from all states.\n",
      "78820                                                                                         Protesters in SÃÂ©mÃÂ©ac, France have built a wall around a hotel to prevent it from being used as a migrant shelter.\\nThe French government has bought several hotels to house migrants sleeping on streets.n\n",
      "78821                                                                                                   Australian Minister for Resources Matthew Canavan became the third politician to resign over dual citizenship after learning that his mother had signed him up for Italian citizenship when he was 25.\n",
      "78822                                                                                                                                                        \"It's very sad that Republicans, even some that were carried over the line on my back, do very little to protect their President,\" Trump tweeted.\n",
      "78823                                                                                                                                                                                                \"If you don't want Govinda to work in your film, why did you ask him in the first place?\" Rishi had said.\n",
      "78824                                                                                                                                                                  The Hindi trailer of the Kajol and Dhanush starrer film 'VIP 2 Lalkar' has been released.\\nThe film is scheduled to release on July 28.\n",
      "78825                                                                             The official James Bond Twitter handle has announced November 8, 2019 as the release date for the new film in the franchise titled 'Bond 25'.\\nDaniel Craig will reportedly return as the character James Bond in this film.\n",
      "78826                                                                                                                      As many as 33 ministers and 359 MLAs in Uttar Pradesh have failed to declare their assets despite CM Yogi Adityanath's repeated directions, according to a government notification.\n",
      "78827                                                                                                                                                                          Doordarshan will take new logo design entries till August 13, 2017 and the winner will be awarded a cash prize of Ã¢ÂÂ¹1 lakh.\n",
      "78828                                                                                                                                                President Ram Nath Kovind on Tuesday said in a speech that \"nation building requires national pride\", adding \"each citizen of India is a nation builder\".\n",
      "78829                                                                                                            Police officials in the UK have arrested a gang of 15 criminals who ran the largest cannabis-growing operation in Britain through a network of drug farms built inside industrial facilities.\n",
      "78830                                                                                                                               Country's largest telecom operator Bharti Airtel on Tuesday reported 74.89% year-on-year decline in consolidated net profit at Ã¢ÂÂ¹367 crore for the quarter ended June.\n",
      "78831                                                                                                                                      The bill is equal to almost two centuries worth of the company's revenue.\\nThe government alleged the company under-declared export revenues between 2000 and 2017.\n",
      "78832                                                                                                                                                                    On being asked how big is the task to bring Infosys board and the founders together, Co-chairman Ravi Venkatesan said it is \"doable\".\n",
      "78833                                                                                                                                                     it is a very unusual, unconventional kind of a story in the slice-of-life and romance space.\" Notably, this will be Varun's first film with Shoojit.\n",
      "78834                                                            He walked the ramp in a black bandhgala and pants, which featured Bal's newly patented motif, the cock.\\nThe collection featured voluminous gowns, saris, bandhgala woven into gold and silver threads and decorated with Swarovski crystals.\n",
      "78835                                                                                                                               Nathalie Emmanuel, who portrays 'Missandei' on 'Game of Thrones', said her first nude scene for the show, which was featured in season 7's second episode, was a big deal.\n",
      "78836                                                                                                                                                                            Former adult star Mia Khalifa has started her own YouTube channel with a review of Christopher Nolan's directorial 'Dunkirk'.\n",
      "78837                                                                              Actor Neil Nitin Mukesh took to Twitter to share the first look poster of his upcoming film 'Firrkie', where he co-stars alongside Jackie Shroff.\\nThe film also stars Kay Kay Menon, Karan Singh Grover and Sandeepa Dhar.\n",
      "78838                                                                                                                                                     Actor Mithun Chakraborty said that the only advice he has for youngsters is that they should concentrate more on talent as compared to-six pack abs.\n",
      "78839                    Actor Ayushmann Khurrana has tweeted, \"Please don't change the Doordarshan logo.\\nIt represents my childhood.\" His statement comes after recent reports of Doordarshan planning on changing its logo to create something youthful, which will appeal to \"children of liberalization\".\n",
      "78840                                                                                                                                                                Actor Sushant Singh Rajput has said he does not think Saif Ali Khan's daughter Sara Ali Khan is feeling the pressure of making her debut.\n",
      "78841                         The Karnataka government on Tuesday announced plans to open 900 new liquor stores to compensate for the drop in excise revenue after liquor sale along highways was banned.\\nThe new stores will reportedly be run by state government-owned Mysore Sales International Limited.\n",
      "78842                                                                               Human Resource Development Minister Prakash Javadekar on Monday announced that they will soon give approval for the 20 world-class research and teaching institutions that will be called 'Indian institutes of eminence'.\n",
      "78843                              German carmaker BMW has rejected reports that it cheated emissions tests through illegal systems in its cars.\\nVehicle emissions came under scrutiny worldwide since Volkswagen admitted in 2015 to installing illegal software to cheat US emissions tests on diesel cars.\n",
      "78844                                                                                                An amateur Australian astronomer has captured footage of a rare phenomenon of upside down lightning flashes, called sprites.\\nThe phenomenon was observed in the skies above Australia's New South Wales.\n",
      "78845                                                                                                                                                                                          Notably, several countries including the Philippines, Vietnam and others dispute China's claim over the region.\n",
      "78846                                                                               Russian lawmakers have urged President Vladimir Putin to sanction Poland over a bill ordering the demolition of Soviet monuments.\\nNotably, over 6 lakh Soviet soldiers died liberating Poland from the Nazis during WWII.\n",
      "78847                                             Television personality Kylie Jenner's Snapchat was hacked after which the hacker posted a message with the caption 'add for kylie jenner's nudes!!'.\\nThis was followed by a post on the alleged hacker's Twitter account which read, \"I got Kylie's nudes\".\n",
      "78848                                                                         Supreme Court on Tuesday directed Sahara Group chief Subrata Roy to deposit Ã¢ÂÂ¹1,500 crore by September 7.\\nSupreme Court had ordered the auction over Sahara's alleged failure to deposit money for refunding its investors.\n",
      "78849                                                                                                                                                              India will host its first WTA tournament in five years when the city of Mumbai stages the Ã¢ÂÂ¹80 lakh ($125,000) Mumbai Open in November.\n",
      "78850                                                                                                                                                                          After government raised cess on cigarettes, ITC increased prices by 4-8% on 25 different pack sizes and variants, reports said.\n",
      "78851                                                                                                                          Sarvesh Mathur, ex-CFO of global consultant-auditor PwC's Indian arm, has filed a defamation suit accusing it of falsifying accounts, evading taxes, and breaking several laws.\n",
      "78852                                                                                                              Late veteran actress Madhubala is set to get a wax figure at the Madame Tussauds in New Delhi.\\nThe wax figure will be styled as her character Anarkali from the 1960 film 'Mughal-E-Azam'.\n",
      "78853                                                                                                                                                                                                                                                                                                         \n",
      "78854                                                                                                   A video reportedly showing a Xiaomi Redmi Note 4 exploding at a Bengaluru store has emerged online.\\nXiaomi India said that it has replaced the customer's damaged unit with a brand new Redmi Note 4.\n",
      "78855                                                 World's richest man Bill Gates' Cascade Ventures has invested in US-based trucking startup Convoy along with other investors in an over Ã¢ÂÂ¹380 crore Series B funding round.\\nAmazon CEO Jeff Bezos had also invested in the startup earlier in 2015.\n",
      "78856                                                                                 Technology major Alphabet on Monday reported a 21% jump in revenue to over $26 billion for the quarter ended June, despite its largest subsidiary Google being handed a record $2.7 billion fine by European Commission.\n",
      "78857                                                                                                                                             The civil servant responsible for Sweden's largest-ever data leak was punished with a fine equivalent to just half a month's salary or about Ã¢ÂÂ¹5.5 lakh.\n",
      "78858             Bengaluru-based education technology startup Byju's has raised an undisclosed amount of funding from Chinese internet conglomerate Tencent.\\nIn September 2016, Byju's had raised about Ã¢ÂÂ¹320 crore from a clutch of investors including Chan Zuckerberg Initiative and Sequoia Capital.\n",
      "78859                                                                              Former Chief Marketing Officer of furniture e-tailer Urban Ladder Sanjay Gupta has joined Uber as its Head of Marketing in India.\\nAccording to reports, Gupta left Urban Ladder in April and joined Uber in May this year.\n",
      "78860                                                                                                                                       Former CEO of Infosys Kris Gopalakrishnan has said that Indian IT companies need to learn to manage expectations of their employees as the growth rate slows down.\n",
      "78861                                                                                                                                        Amrapali's CEO Ritik Kumar Sinha and director Nishant Mukul were arrested over alleged fraud and not paying labour cess of Ã¢ÂÂ¹4.29 crore to Labour Department.\n",
      "Name: ext_summary, dtype: object\n"
     ]
    }
   ],
   "source": [
    "data_test_ex['ext_summary'] = data_test_ex['text'].apply(lambda x : summarize(x, words=30))\n",
    "print(data_test_ex['ext_summary'])"
   ]
  },
  {
   "cell_type": "markdown",
   "id": "confused-gambling",
   "metadata": {},
   "source": [
    "### 평가 (Comparison b/w Abstraction and Extraction)\n",
    "test data 중에 5개만 모아서 평가해 보았다. 평가를 위해서 1) original text 2) 전처리된 text 3)실제요약 4) abstraction 요약 5) extraction 요약 이렇게 5개를 비교해 보았다. \n",
    "\n",
    "전반적으로 extraction 요약이 더 길지만 훨씬 의미 전달이 잘 되는걸 볼 수가 있다. abstraction 요약은 내용이 원문과 맞지 않는것이 대부분이다. 여러가지 이유가 있겠지만 한가지 눈에 띄는것은 original text 와 전처리된 text를 비교했을때의 차이점이었다. 전처리된 text를 읽었을때 이해가 가지 않는 부분이 많았다. 불용어, 소유격, 숫자가 원문에서 없어짐에 따라서 내용이 이해하기 힘들어진것 같다. 노드에 있는 아마존 리뷰 같은 길지 않은 text에서는 문제가 되지 않을 수도 있으나 신문기사처럼 단어들이 중요성을 갖을 때는 전처리에 대해서 다시 한번 고민해 볼 필요가 있을것 같다. 또한 실제요약도 말이 되지 않는 것들이 간혹 보인다. 그러므로 모델을 돌리기 전에 data 를 좀 더 살펴볼 필요가 있을것 같다. "
   ]
  },
  {
   "cell_type": "code",
   "execution_count": 146,
   "id": "hidden-virus",
   "metadata": {},
   "outputs": [
    {
     "name": "stdout",
     "output_type": "stream",
     "text": [
      "원문 text : 78812    The Brihanmumbai Municipal Corporation (BMC) has denied a Ganesh mandal coordination committee's demand to take the approval process for setting up mandals online. The committee claimed that the single-window clearance system which was introduced in 2015 to improve mandal approval rate was ineffective. Reportedly, it will now meet Mayor Vishwanath Mahadeshwar to demand a better clearance system. \n",
      "Name: text, dtype: object\n",
      "전처리된 text : brihanmumbai municipal corporation denied ganesh mandal coordination committee demand take approval process setting mandals online committee claimed single window clearance system introduced improve mandal approval rate ineffective reportedly meet mayor vishwanath mahadeshwar demand better clearance system \n",
      "실제 요약 : bmc denies ganesh mandal demand for online approval \n",
      "Abstraction 요약 :  mumbai civic body to ban fine for repairs civic body\n",
      "Extraction 요약:  78812    The committee claimed that the single-window clearance system which was introduced in 2015 to improve mandal approval rate was ineffective.\n",
      "Name: ext_summary, dtype: object\n",
      "\n",
      "\n",
      "원문 text : 78813    A 19-year-old student, Harpreet Singh Happy, in Punjab's Jalandhar allegedly got his girlfriend raped so that he could use it as an excuse to avoid marrying her, according to reports. Two of Happy's friends took her to an abandoned haveli and raped her on the same day she was supposed to meet his parents, reports added.\n",
      "Name: text, dtype: object\n",
      "전처리된 text : year old student harpreet singh happy punjab jalandhar allegedly got girlfriend raped could use excuse avoid marrying according reports two happy friends took abandoned haveli raped day supposed meet parents reports added \n",
      "실제 요약 : college student gets girlfriend raped to avoid marriage \n",
      "Abstraction 요약 :  girl gets married to girl for marrying girl in law\n",
      "Extraction 요약:  78813    A 19-year-old student, Harpreet Singh Happy, in Punjab's Jalandhar allegedly got his girlfriend raped so that he could use it as an excuse to avoid marrying her, according to reports.\n",
      "Name: ext_summary, dtype: object\n",
      "\n",
      "\n",
      "원문 text : 78814    Mumbai residents have been protesting outside the Brihanmumbai Municipal Corporation's (BMC) Bandra office every Monday and Friday since July 7 over 192 complaints that haven't been resolved in 18 months. The complaints were filed in BMC's public grievance registration system set up in 2015. The complaints include illegal encroachments, drainage issues, potholes, and tree cutting among others.\n",
      "Name: text, dtype: object\n",
      "전처리된 text : mumbai residents protesting outside brihanmumbai municipal corporation bandra office every monday friday since july complaints resolved months complaints filed bmc public grievance registration system set complaints include illegal encroachments drainage issues potholes tree cutting among others \n",
      "실제 요약 : mumbaikars protest outside bmc on complaints \n",
      "Abstraction 요약 :  bmc to protest over illegal construction in mumbai\n",
      "Extraction 요약:  78814    Mumbai residents have been protesting outside the Brihanmumbai Municipal Corporation's (BMC) Bandra office every Monday and Friday since July 7 over 192 complaints that haven't been resolved in 18 months.\\nThe complaints were filed in BMC's public grievance registration system set up in 2015.\n",
      "Name: ext_summary, dtype: object\n",
      "\n",
      "\n",
      "원문 text : 78815    North Korean officials have said they do not care \"at all\" about the US' ban on its citizens travelling to the country, saying that it will have no effect on its tourism industry. The ban, which will reportedly be enacted this week, comes after the death of a US student who was arrested while on a North Korea tour.\n",
      "Name: text, dtype: object\n",
      "전처리된 text : north korean officials said care us ban citizens travelling country saying effect tourism industry ban reportedly enacted week comes death us student arrested north korea tour \n",
      "실제 요약 : we do not care at all about us travel ban korea \n",
      "Abstraction 요약 :  us to ban on migrant children to north korea\n",
      "Extraction 요약:  78815    North Korean officials have said they do not care \"at all\" about the US' ban on its citizens travelling to the country, saying that it will have no effect on its tourism industry.\n",
      "Name: ext_summary, dtype: object\n",
      "\n",
      "\n",
      "원문 text : 78816    An Australian Baptist church has come under fire after a video surfaced of its pastor describing Islam as \"a cancer we must destroy\". Keith Piper described the Quran as \"a virus infecting the brains [of Muslims]\", adding that Islam is \"culturally incompatible with western Christian values\". He further called for a ban on Muslim immigration.\n",
      "Name: text, dtype: object\n",
      "전처리된 text : australian church come fire video surfaced pastor describing islam cancer must destroy keith piper described quran virus infecting brains muslims adding islam culturally incompatible western christian values called ban muslim immigration \n",
      "실제 요약 : australian pastor calls islam cancer we must destroy \n",
      "Abstraction 요약 :  video of nazi virus reported in us town in philippines\n",
      "Extraction 요약:  78816    Keith Piper described the Quran as \"a virus infecting the brains [of Muslims]\", adding that Islam is \"culturally incompatible with western Christian values\".\n",
      "Name: ext_summary, dtype: object\n",
      "\n",
      "\n"
     ]
    }
   ],
   "source": [
    "for i in range(50, 55):\n",
    "    print(\"원문 text :\", data_test_ex['text'][i-50:i-49])\n",
    "    print(\"전처리된 text :\", seq2text(encoder_input_test[i]))\n",
    "    print(\"실제 요약 :\", seq2summary(decoder_input_test[i]))\n",
    "    print(\"Abstraction 요약 :\", decode_sequence(encoder_input_test[i].reshape(1, text_max_len)))\n",
    "    print(\"Extraction 요약: \", data_test_ex['ext_summary'][i-50:i-49])\n",
    "    print(\"\\n\")"
   ]
  },
  {
   "cell_type": "code",
   "execution_count": null,
   "id": "secondary-walter",
   "metadata": {},
   "outputs": [],
   "source": []
  }
 ],
 "metadata": {
  "kernelspec": {
   "display_name": "Python 3",
   "language": "python",
   "name": "python3"
  },
  "language_info": {
   "codemirror_mode": {
    "name": "ipython",
    "version": 3
   },
   "file_extension": ".py",
   "mimetype": "text/x-python",
   "name": "python",
   "nbconvert_exporter": "python",
   "pygments_lexer": "ipython3",
   "version": "3.7.9"
  }
 },
 "nbformat": 4,
 "nbformat_minor": 5
}
